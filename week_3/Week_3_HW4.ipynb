{
 "metadata": {
  "name": "",
  "signature": "sha256:58371e240f34e955258ad72a98f25858182537fae109bbabbf5693bd55653932"
 },
 "nbformat": 3,
 "nbformat_minor": 0,
 "worksheets": [
  {
   "cells": [
    {
     "cell_type": "heading",
     "level": 1,
     "metadata": {},
     "source": [
      "Lab - Choice Modeling"
     ]
    },
    {
     "cell_type": "code",
     "collapsed": false,
     "input": [
      "%matplotlib inline\n",
      "import pandas as pd\n",
      "import statsmodels.api as sm\n",
      "import numpy as np"
     ],
     "language": "python",
     "metadata": {},
     "outputs": [],
     "prompt_number": 1
    },
    {
     "cell_type": "code",
     "collapsed": false,
     "input": [
      "mdata = pd.read_csv('./data/milkdata.csv')\n",
      "mdata.head(3)"
     ],
     "language": "python",
     "metadata": {},
     "outputs": [
      {
       "html": [
        "<div style=\"max-height:1000px;max-width:1500px;overflow:auto;\">\n",
        "<table border=\"1\" class=\"dataframe\">\n",
        "  <thead>\n",
        "    <tr style=\"text-align: right;\">\n",
        "      <th></th>\n",
        "      <th>id</th>\n",
        "      <th>product</th>\n",
        "      <th>full_price</th>\n",
        "      <th>full_pri</th>\n",
        "      <th>promo</th>\n",
        "      <th>disc_price</th>\n",
        "      <th>bundle</th>\n",
        "      <th>time_day</th>\n",
        "      <th>repeated?</th>\n",
        "      <th>repeated_bundle?</th>\n",
        "    </tr>\n",
        "  </thead>\n",
        "  <tbody>\n",
        "    <tr>\n",
        "      <th>0</th>\n",
        "      <td> 1</td>\n",
        "      <td> 1</td>\n",
        "      <td> 2</td>\n",
        "      <td> 1.58</td>\n",
        "      <td> 1</td>\n",
        "      <td> 0.42</td>\n",
        "      <td> 1</td>\n",
        "      <td> 1</td>\n",
        "      <td> 1</td>\n",
        "      <td> 1</td>\n",
        "    </tr>\n",
        "    <tr>\n",
        "      <th>1</th>\n",
        "      <td> 2</td>\n",
        "      <td> 1</td>\n",
        "      <td> 2</td>\n",
        "      <td> 1.15</td>\n",
        "      <td> 1</td>\n",
        "      <td> 0.85</td>\n",
        "      <td> 1</td>\n",
        "      <td> 1</td>\n",
        "      <td> 0</td>\n",
        "      <td> 1</td>\n",
        "    </tr>\n",
        "    <tr>\n",
        "      <th>2</th>\n",
        "      <td> 3</td>\n",
        "      <td> 1</td>\n",
        "      <td> 3</td>\n",
        "      <td> 2.25</td>\n",
        "      <td> 1</td>\n",
        "      <td> 0.75</td>\n",
        "      <td> 0</td>\n",
        "      <td> 1</td>\n",
        "      <td> 1</td>\n",
        "      <td> 1</td>\n",
        "    </tr>\n",
        "  </tbody>\n",
        "</table>\n",
        "<p>3 rows \u00d7 10 columns</p>\n",
        "</div>"
       ],
       "metadata": {},
       "output_type": "pyout",
       "prompt_number": 2,
       "text": [
        "   id  product  full_price  full_pri  promo  disc_price  bundle  time_day  \\\n",
        "0   1        1           2      1.58      1        0.42       1         1   \n",
        "1   2        1           2      1.15      1        0.85       1         1   \n",
        "2   3        1           3      2.25      1        0.75       0         1   \n",
        "\n",
        "   repeated?  repeated_bundle?  \n",
        "0          1                 1  \n",
        "1          0                 1  \n",
        "2          1                 1  \n",
        "\n",
        "[3 rows x 10 columns]"
       ]
      }
     ],
     "prompt_number": 2
    },
    {
     "cell_type": "heading",
     "level": 2,
     "metadata": {},
     "source": [
      "summary statistics (all variables)"
     ]
    },
    {
     "cell_type": "code",
     "collapsed": false,
     "input": [
      "mdata.describe()"
     ],
     "language": "python",
     "metadata": {},
     "outputs": [
      {
       "html": [
        "<div style=\"max-height:1000px;max-width:1500px;overflow:auto;\">\n",
        "<table border=\"1\" class=\"dataframe\">\n",
        "  <thead>\n",
        "    <tr style=\"text-align: right;\">\n",
        "      <th></th>\n",
        "      <th>id</th>\n",
        "      <th>product</th>\n",
        "      <th>full_price</th>\n",
        "      <th>full_pri</th>\n",
        "      <th>promo</th>\n",
        "      <th>disc_price</th>\n",
        "      <th>bundle</th>\n",
        "      <th>time_day</th>\n",
        "      <th>repeated?</th>\n",
        "      <th>repeated_bundle?</th>\n",
        "    </tr>\n",
        "  </thead>\n",
        "  <tbody>\n",
        "    <tr>\n",
        "      <th>count</th>\n",
        "      <td> 500.000000</td>\n",
        "      <td> 500.000000</td>\n",
        "      <td> 500.000000</td>\n",
        "      <td> 500.000000</td>\n",
        "      <td> 500.000000</td>\n",
        "      <td> 500.000000</td>\n",
        "      <td> 500.000000</td>\n",
        "      <td> 500.000000</td>\n",
        "      <td> 500.00000</td>\n",
        "      <td> 500.000000</td>\n",
        "    </tr>\n",
        "    <tr>\n",
        "      <th>mean</th>\n",
        "      <td> 250.500000</td>\n",
        "      <td>   0.656000</td>\n",
        "      <td>   2.490000</td>\n",
        "      <td>   2.022760</td>\n",
        "      <td>   0.582000</td>\n",
        "      <td>   0.554360</td>\n",
        "      <td>   0.622000</td>\n",
        "      <td>   0.704000</td>\n",
        "      <td>   0.77600</td>\n",
        "      <td>   0.748000</td>\n",
        "    </tr>\n",
        "    <tr>\n",
        "      <th>std</th>\n",
        "      <td> 144.481833</td>\n",
        "      <td>   0.475517</td>\n",
        "      <td>   0.500401</td>\n",
        "      <td>   0.513379</td>\n",
        "      <td>   0.493724</td>\n",
        "      <td>   0.562047</td>\n",
        "      <td>   0.485373</td>\n",
        "      <td>   0.456948</td>\n",
        "      <td>   0.41734</td>\n",
        "      <td>   0.434596</td>\n",
        "    </tr>\n",
        "    <tr>\n",
        "      <th>min</th>\n",
        "      <td>   1.000000</td>\n",
        "      <td>   0.000000</td>\n",
        "      <td>   2.000000</td>\n",
        "      <td>   1.000000</td>\n",
        "      <td>   0.000000</td>\n",
        "      <td>  -1.000000</td>\n",
        "      <td>   0.000000</td>\n",
        "      <td>   0.000000</td>\n",
        "      <td>   0.00000</td>\n",
        "      <td>   0.000000</td>\n",
        "    </tr>\n",
        "    <tr>\n",
        "      <th>25%</th>\n",
        "      <td> 125.750000</td>\n",
        "      <td>   0.000000</td>\n",
        "      <td>   2.000000</td>\n",
        "      <td>   1.630000</td>\n",
        "      <td>   0.000000</td>\n",
        "      <td>   0.000000</td>\n",
        "      <td>   0.000000</td>\n",
        "      <td>   0.000000</td>\n",
        "      <td>   1.00000</td>\n",
        "      <td>   0.000000</td>\n",
        "    </tr>\n",
        "    <tr>\n",
        "      <th>50%</th>\n",
        "      <td> 250.500000</td>\n",
        "      <td>   1.000000</td>\n",
        "      <td>   2.000000</td>\n",
        "      <td>   2.000000</td>\n",
        "      <td>   1.000000</td>\n",
        "      <td>   0.480000</td>\n",
        "      <td>   1.000000</td>\n",
        "      <td>   1.000000</td>\n",
        "      <td>   1.00000</td>\n",
        "      <td>   1.000000</td>\n",
        "    </tr>\n",
        "    <tr>\n",
        "      <th>75%</th>\n",
        "      <td> 375.250000</td>\n",
        "      <td>   1.000000</td>\n",
        "      <td>   3.000000</td>\n",
        "      <td>   2.400000</td>\n",
        "      <td>   1.000000</td>\n",
        "      <td>   1.000000</td>\n",
        "      <td>   1.000000</td>\n",
        "      <td>   1.000000</td>\n",
        "      <td>   1.00000</td>\n",
        "      <td>   1.000000</td>\n",
        "    </tr>\n",
        "    <tr>\n",
        "      <th>max</th>\n",
        "      <td> 500.000000</td>\n",
        "      <td>   1.000000</td>\n",
        "      <td>   3.000000</td>\n",
        "      <td>   3.000000</td>\n",
        "      <td>   1.000000</td>\n",
        "      <td>   2.000000</td>\n",
        "      <td>   1.000000</td>\n",
        "      <td>   1.000000</td>\n",
        "      <td>   1.00000</td>\n",
        "      <td>   1.000000</td>\n",
        "    </tr>\n",
        "  </tbody>\n",
        "</table>\n",
        "<p>8 rows \u00d7 10 columns</p>\n",
        "</div>"
       ],
       "metadata": {},
       "output_type": "pyout",
       "prompt_number": 3,
       "text": [
        "               id     product  full_price    full_pri       promo  disc_price  \\\n",
        "count  500.000000  500.000000  500.000000  500.000000  500.000000  500.000000   \n",
        "mean   250.500000    0.656000    2.490000    2.022760    0.582000    0.554360   \n",
        "std    144.481833    0.475517    0.500401    0.513379    0.493724    0.562047   \n",
        "min      1.000000    0.000000    2.000000    1.000000    0.000000   -1.000000   \n",
        "25%    125.750000    0.000000    2.000000    1.630000    0.000000    0.000000   \n",
        "50%    250.500000    1.000000    2.000000    2.000000    1.000000    0.480000   \n",
        "75%    375.250000    1.000000    3.000000    2.400000    1.000000    1.000000   \n",
        "max    500.000000    1.000000    3.000000    3.000000    1.000000    2.000000   \n",
        "\n",
        "           bundle    time_day  repeated?  repeated_bundle?  \n",
        "count  500.000000  500.000000  500.00000        500.000000  \n",
        "mean     0.622000    0.704000    0.77600          0.748000  \n",
        "std      0.485373    0.456948    0.41734          0.434596  \n",
        "min      0.000000    0.000000    0.00000          0.000000  \n",
        "25%      0.000000    0.000000    1.00000          0.000000  \n",
        "50%      1.000000    1.000000    1.00000          1.000000  \n",
        "75%      1.000000    1.000000    1.00000          1.000000  \n",
        "max      1.000000    1.000000    1.00000          1.000000  \n",
        "\n",
        "[8 rows x 10 columns]"
       ]
      }
     ],
     "prompt_number": 3
    },
    {
     "cell_type": "heading",
     "level": 2,
     "metadata": {},
     "source": [
      "Pair Excercise:"
     ]
    },
    {
     "cell_type": "heading",
     "level": 3,
     "metadata": {},
     "source": [
      "1. Run the same model with LPM"
     ]
    },
    {
     "cell_type": "code",
     "collapsed": false,
     "input": [
      "mdata.head()"
     ],
     "language": "python",
     "metadata": {},
     "outputs": [
      {
       "html": [
        "<div style=\"max-height:1000px;max-width:1500px;overflow:auto;\">\n",
        "<table border=\"1\" class=\"dataframe\">\n",
        "  <thead>\n",
        "    <tr style=\"text-align: right;\">\n",
        "      <th></th>\n",
        "      <th>id</th>\n",
        "      <th>product</th>\n",
        "      <th>full_price</th>\n",
        "      <th>full_pri</th>\n",
        "      <th>promo</th>\n",
        "      <th>disc_price</th>\n",
        "      <th>bundle</th>\n",
        "      <th>time_day</th>\n",
        "      <th>repeated?</th>\n",
        "      <th>repeated_bundle?</th>\n",
        "    </tr>\n",
        "  </thead>\n",
        "  <tbody>\n",
        "    <tr>\n",
        "      <th>0</th>\n",
        "      <td> 1</td>\n",
        "      <td> 1</td>\n",
        "      <td> 2</td>\n",
        "      <td> 1.58</td>\n",
        "      <td> 1</td>\n",
        "      <td> 0.42</td>\n",
        "      <td> 1</td>\n",
        "      <td> 1</td>\n",
        "      <td> 1</td>\n",
        "      <td> 1</td>\n",
        "    </tr>\n",
        "    <tr>\n",
        "      <th>1</th>\n",
        "      <td> 2</td>\n",
        "      <td> 1</td>\n",
        "      <td> 2</td>\n",
        "      <td> 1.15</td>\n",
        "      <td> 1</td>\n",
        "      <td> 0.85</td>\n",
        "      <td> 1</td>\n",
        "      <td> 1</td>\n",
        "      <td> 0</td>\n",
        "      <td> 1</td>\n",
        "    </tr>\n",
        "    <tr>\n",
        "      <th>2</th>\n",
        "      <td> 3</td>\n",
        "      <td> 1</td>\n",
        "      <td> 3</td>\n",
        "      <td> 2.25</td>\n",
        "      <td> 1</td>\n",
        "      <td> 0.75</td>\n",
        "      <td> 0</td>\n",
        "      <td> 1</td>\n",
        "      <td> 1</td>\n",
        "      <td> 1</td>\n",
        "    </tr>\n",
        "    <tr>\n",
        "      <th>3</th>\n",
        "      <td> 4</td>\n",
        "      <td> 1</td>\n",
        "      <td> 2</td>\n",
        "      <td> 2.00</td>\n",
        "      <td> 0</td>\n",
        "      <td> 0.00</td>\n",
        "      <td> 1</td>\n",
        "      <td> 1</td>\n",
        "      <td> 0</td>\n",
        "      <td> 0</td>\n",
        "    </tr>\n",
        "    <tr>\n",
        "      <th>4</th>\n",
        "      <td> 5</td>\n",
        "      <td> 1</td>\n",
        "      <td> 2</td>\n",
        "      <td> 2.00</td>\n",
        "      <td> 0</td>\n",
        "      <td> 0.00</td>\n",
        "      <td> 0</td>\n",
        "      <td> 1</td>\n",
        "      <td> 1</td>\n",
        "      <td> 1</td>\n",
        "    </tr>\n",
        "  </tbody>\n",
        "</table>\n",
        "<p>5 rows \u00d7 10 columns</p>\n",
        "</div>"
       ],
       "metadata": {},
       "output_type": "pyout",
       "prompt_number": 18,
       "text": [
        "   id  product  full_price  full_pri  promo  disc_price  bundle  time_day  \\\n",
        "0   1        1           2      1.58      1        0.42       1         1   \n",
        "1   2        1           2      1.15      1        0.85       1         1   \n",
        "2   3        1           3      2.25      1        0.75       0         1   \n",
        "3   4        1           2      2.00      0        0.00       1         1   \n",
        "4   5        1           2      2.00      0        0.00       0         1   \n",
        "\n",
        "   repeated?  repeated_bundle?  \n",
        "0          1                 1  \n",
        "1          0                 1  \n",
        "2          1                 1  \n",
        "3          0                 0  \n",
        "4          1                 1  \n",
        "\n",
        "[5 rows x 10 columns]"
       ]
      }
     ],
     "prompt_number": 18
    },
    {
     "cell_type": "code",
     "collapsed": false,
     "input": [
      "lpm = sm.OLS(mdata[\"product\"], mdata[train_cols])"
     ],
     "language": "python",
     "metadata": {},
     "outputs": [],
     "prompt_number": 47
    },
    {
     "cell_type": "code",
     "collapsed": false,
     "input": [
      "lpm_results=lpm.fit()\n",
      "lpm_results.summary()"
     ],
     "language": "python",
     "metadata": {},
     "outputs": [
      {
       "html": [
        "<table class=\"simpletable\">\n",
        "<caption>OLS Regression Results</caption>\n",
        "<tr>\n",
        "  <th>Dep. Variable:</th>         <td>product</td>     <th>  R-squared:         </th> <td>   0.696</td> \n",
        "</tr>\n",
        "<tr>\n",
        "  <th>Model:</th>                   <td>OLS</td>       <th>  Adj. R-squared:    </th> <td>   0.691</td> \n",
        "</tr>\n",
        "<tr>\n",
        "  <th>Method:</th>             <td>Least Squares</td>  <th>  F-statistic:       </th> <td>   140.8</td> \n",
        "</tr>\n",
        "<tr>\n",
        "  <th>Date:</th>             <td>Wed, 07 May 2014</td> <th>  Prob (F-statistic):</th> <td>5.40e-122</td>\n",
        "</tr>\n",
        "<tr>\n",
        "  <th>Time:</th>                 <td>20:45:18</td>     <th>  Log-Likelihood:    </th> <td> -306.41</td> \n",
        "</tr>\n",
        "<tr>\n",
        "  <th>No. Observations:</th>      <td>   500</td>      <th>  AIC:               </th> <td>   628.8</td> \n",
        "</tr>\n",
        "<tr>\n",
        "  <th>Df Residuals:</th>          <td>   492</td>      <th>  BIC:               </th> <td>   662.5</td> \n",
        "</tr>\n",
        "<tr>\n",
        "  <th>Df Model:</th>              <td>     8</td>      <th>                     </th>     <td> </td>    \n",
        "</tr>\n",
        "</table>\n",
        "<table class=\"simpletable\">\n",
        "<tr>\n",
        "          <td></td>            <th>coef</th>     <th>std err</th>      <th>t</th>      <th>P>|t|</th> <th>[95.0% Conf. Int.]</th> \n",
        "</tr>\n",
        "<tr>\n",
        "  <th>full_price</th>       <td>   -0.1311</td> <td>    0.103</td> <td>   -1.271</td> <td> 0.204</td> <td>   -0.334     0.072</td>\n",
        "</tr>\n",
        "<tr>\n",
        "  <th>full_pri</th>         <td>    0.1709</td> <td>    0.093</td> <td>    1.836</td> <td> 0.067</td> <td>   -0.012     0.354</td>\n",
        "</tr>\n",
        "<tr>\n",
        "  <th>promo</th>            <td>   -0.1002</td> <td>    0.091</td> <td>   -1.102</td> <td> 0.271</td> <td>   -0.279     0.079</td>\n",
        "</tr>\n",
        "<tr>\n",
        "  <th>disc_price</th>       <td>    0.1352</td> <td>    0.112</td> <td>    1.202</td> <td> 0.230</td> <td>   -0.086     0.356</td>\n",
        "</tr>\n",
        "<tr>\n",
        "  <th>bundle</th>           <td>    0.1987</td> <td>    0.052</td> <td>    3.794</td> <td> 0.000</td> <td>    0.096     0.302</td>\n",
        "</tr>\n",
        "<tr>\n",
        "  <th>time_day</th>         <td>    0.3349</td> <td>    0.044</td> <td>    7.691</td> <td> 0.000</td> <td>    0.249     0.420</td>\n",
        "</tr>\n",
        "<tr>\n",
        "  <th>repeated?</th>        <td>    0.1723</td> <td>    0.055</td> <td>    3.136</td> <td> 0.002</td> <td>    0.064     0.280</td>\n",
        "</tr>\n",
        "<tr>\n",
        "  <th>repeated_bundle?</th> <td>    0.1623</td> <td>    0.079</td> <td>    2.056</td> <td> 0.040</td> <td>    0.007     0.317</td>\n",
        "</tr>\n",
        "</table>\n",
        "<table class=\"simpletable\">\n",
        "<tr>\n",
        "  <th>Omnibus:</th>       <td>117.020</td> <th>  Durbin-Watson:     </th> <td>   0.620</td>\n",
        "</tr>\n",
        "<tr>\n",
        "  <th>Prob(Omnibus):</th> <td> 0.000</td>  <th>  Jarque-Bera (JB):  </th> <td>  46.997</td>\n",
        "</tr>\n",
        "<tr>\n",
        "  <th>Skew:</th>          <td>-0.567</td>  <th>  Prob(JB):          </th> <td>6.23e-11</td>\n",
        "</tr>\n",
        "<tr>\n",
        "  <th>Kurtosis:</th>      <td> 2.015</td>  <th>  Cond. No.          </th> <td>    31.3</td>\n",
        "</tr>\n",
        "</table>"
       ],
       "metadata": {},
       "output_type": "pyout",
       "prompt_number": 48,
       "text": [
        "<class 'statsmodels.iolib.summary.Summary'>\n",
        "\"\"\"\n",
        "                            OLS Regression Results                            \n",
        "==============================================================================\n",
        "Dep. Variable:                product   R-squared:                       0.696\n",
        "Model:                            OLS   Adj. R-squared:                  0.691\n",
        "Method:                 Least Squares   F-statistic:                     140.8\n",
        "Date:                Wed, 07 May 2014   Prob (F-statistic):          5.40e-122\n",
        "Time:                        20:45:18   Log-Likelihood:                -306.41\n",
        "No. Observations:                 500   AIC:                             628.8\n",
        "Df Residuals:                     492   BIC:                             662.5\n",
        "Df Model:                           8                                         \n",
        "====================================================================================\n",
        "                       coef    std err          t      P>|t|      [95.0% Conf. Int.]\n",
        "------------------------------------------------------------------------------------\n",
        "full_price          -0.1311      0.103     -1.271      0.204        -0.334     0.072\n",
        "full_pri             0.1709      0.093      1.836      0.067        -0.012     0.354\n",
        "promo               -0.1002      0.091     -1.102      0.271        -0.279     0.079\n",
        "disc_price           0.1352      0.112      1.202      0.230        -0.086     0.356\n",
        "bundle               0.1987      0.052      3.794      0.000         0.096     0.302\n",
        "time_day             0.3349      0.044      7.691      0.000         0.249     0.420\n",
        "repeated?            0.1723      0.055      3.136      0.002         0.064     0.280\n",
        "repeated_bundle?     0.1623      0.079      2.056      0.040         0.007     0.317\n",
        "==============================================================================\n",
        "Omnibus:                      117.020   Durbin-Watson:                   0.620\n",
        "Prob(Omnibus):                  0.000   Jarque-Bera (JB):               46.997\n",
        "Skew:                          -0.567   Prob(JB):                     6.23e-11\n",
        "Kurtosis:                       2.015   Cond. No.                         31.3\n",
        "==============================================================================\n",
        "\"\"\""
       ]
      }
     ],
     "prompt_number": 48
    },
    {
     "cell_type": "code",
     "collapsed": false,
     "input": [
      "lpm_results.params"
     ],
     "language": "python",
     "metadata": {},
     "outputs": [
      {
       "metadata": {},
       "output_type": "pyout",
       "prompt_number": 23,
       "text": [
        "full_price         -0.131144\n",
        "full_pri            0.170925\n",
        "promo              -0.100222\n",
        "disc_price          0.135175\n",
        "bundle              0.198695\n",
        "time_day            0.334917\n",
        "repeated?           0.172259\n",
        "repeated_bundle?    0.162331\n",
        "dtype: float64"
       ]
      }
     ],
     "prompt_number": 23
    },
    {
     "cell_type": "heading",
     "level": 3,
     "metadata": {},
     "source": [
      "2. Predict y_hat"
     ]
    },
    {
     "cell_type": "code",
     "collapsed": false,
     "input": [
      "np.sum(lpm_results.params*mdata.describe().T[2:][\"mean\"])"
     ],
     "language": "python",
     "metadata": {},
     "outputs": [
      {
       "metadata": {},
       "output_type": "pyout",
       "prompt_number": 31,
       "text": [
        "0.65026366517122791"
       ]
      }
     ],
     "prompt_number": 31
    },
    {
     "cell_type": "heading",
     "level": 3,
     "metadata": {},
     "source": [
      "3. Plot the distribution of y_hat, is there a problem?"
     ]
    },
    {
     "cell_type": "code",
     "collapsed": false,
     "input": [
      "predict = pd.DataFrame(lpm_results.predict())\n",
      "predict.hist()"
     ],
     "language": "python",
     "metadata": {},
     "outputs": [
      {
       "metadata": {},
       "output_type": "pyout",
       "prompt_number": 49,
       "text": [
        "array([[<matplotlib.axes.AxesSubplot object at 0x109760f50>]], dtype=object)"
       ]
      },
      {
       "metadata": {},
       "output_type": "display_data",
       "png": "[encoded data removed]",
       "text": [
        "<matplotlib.figure.Figure at 0x10966bf50>"
       ]
      }
     ],
     "prompt_number": 49
    },
    {
     "cell_type": "code",
     "collapsed": false,
     "input": [
      "predict.describe()"
     ],
     "language": "python",
     "metadata": {},
     "outputs": [
      {
       "html": [
        "<div style=\"max-height:1000px;max-width:1500px;overflow:auto;\">\n",
        "<table border=\"1\" class=\"dataframe\">\n",
        "  <thead>\n",
        "    <tr style=\"text-align: right;\">\n",
        "      <th></th>\n",
        "      <th>0</th>\n",
        "    </tr>\n",
        "  </thead>\n",
        "  <tbody>\n",
        "    <tr>\n",
        "      <th>count</th>\n",
        "      <td> 500.000000</td>\n",
        "    </tr>\n",
        "    <tr>\n",
        "      <th>mean</th>\n",
        "      <td>   0.650264</td>\n",
        "    </tr>\n",
        "    <tr>\n",
        "      <th>std</th>\n",
        "      <td>   0.183798</td>\n",
        "    </tr>\n",
        "    <tr>\n",
        "      <th>min</th>\n",
        "      <td>   0.233313</td>\n",
        "    </tr>\n",
        "    <tr>\n",
        "      <th>25%</th>\n",
        "      <td>   0.516655</td>\n",
        "    </tr>\n",
        "    <tr>\n",
        "      <th>50%</th>\n",
        "      <td>   0.652877</td>\n",
        "    </tr>\n",
        "    <tr>\n",
        "      <th>75%</th>\n",
        "      <td>   0.825213</td>\n",
        "    </tr>\n",
        "    <tr>\n",
        "      <th>max</th>\n",
        "      <td>   0.951229</td>\n",
        "    </tr>\n",
        "  </tbody>\n",
        "</table>\n",
        "<p>8 rows \u00d7 1 columns</p>\n",
        "</div>"
       ],
       "metadata": {},
       "output_type": "pyout",
       "prompt_number": 50,
       "text": [
        "                0\n",
        "count  500.000000\n",
        "mean     0.650264\n",
        "std      0.183798\n",
        "min      0.233313\n",
        "25%      0.516655\n",
        "50%      0.652877\n",
        "75%      0.825213\n",
        "max      0.951229\n",
        "\n",
        "[8 rows x 1 columns]"
       ]
      }
     ],
     "prompt_number": 50
    },
    {
     "cell_type": "heading",
     "level": 3,
     "metadata": {},
     "source": [
      "4. Plot the distribution of y_hat from the logit model, is there a problem?"
     ]
    },
    {
     "cell_type": "code",
     "collapsed": false,
     "input": [
      "logit_predict = pd.DataFrame(results.predict())\n",
      "logit_predict.hist()"
     ],
     "language": "python",
     "metadata": {},
     "outputs": [
      {
       "metadata": {},
       "output_type": "pyout",
       "prompt_number": 51,
       "text": [
        "array([[<matplotlib.axes.AxesSubplot object at 0x109db5550>]], dtype=object)"
       ]
      },
      {
       "metadata": {},
       "output_type": "display_data",
       "png": "[encoded data removed]",
       "text": [
        "<matplotlib.figure.Figure at 0x109db1a50>"
       ]
      }
     ],
     "prompt_number": 51
    },
    {
     "cell_type": "code",
     "collapsed": false,
     "input": [
      "logit_predict.describe()"
     ],
     "language": "python",
     "metadata": {},
     "outputs": [
      {
       "html": [
        "<div style=\"max-height:1000px;max-width:1500px;overflow:auto;\">\n",
        "<table border=\"1\" class=\"dataframe\">\n",
        "  <thead>\n",
        "    <tr style=\"text-align: right;\">\n",
        "      <th></th>\n",
        "      <th>0</th>\n",
        "    </tr>\n",
        "  </thead>\n",
        "  <tbody>\n",
        "    <tr>\n",
        "      <th>count</th>\n",
        "      <td> 500.000000</td>\n",
        "    </tr>\n",
        "    <tr>\n",
        "      <th>mean</th>\n",
        "      <td>   0.659791</td>\n",
        "    </tr>\n",
        "    <tr>\n",
        "      <th>std</th>\n",
        "      <td>   0.161429</td>\n",
        "    </tr>\n",
        "    <tr>\n",
        "      <th>min</th>\n",
        "      <td>   0.270092</td>\n",
        "    </tr>\n",
        "    <tr>\n",
        "      <th>25%</th>\n",
        "      <td>   0.524691</td>\n",
        "    </tr>\n",
        "    <tr>\n",
        "      <th>50%</th>\n",
        "      <td>   0.717169</td>\n",
        "    </tr>\n",
        "    <tr>\n",
        "      <th>75%</th>\n",
        "      <td>   0.785447</td>\n",
        "    </tr>\n",
        "    <tr>\n",
        "      <th>max</th>\n",
        "      <td>   0.869313</td>\n",
        "    </tr>\n",
        "  </tbody>\n",
        "</table>\n",
        "<p>8 rows \u00d7 1 columns</p>\n",
        "</div>"
       ],
       "metadata": {},
       "output_type": "pyout",
       "prompt_number": 52,
       "text": [
        "                0\n",
        "count  500.000000\n",
        "mean     0.659791\n",
        "std      0.161429\n",
        "min      0.270092\n",
        "25%      0.524691\n",
        "50%      0.717169\n",
        "75%      0.785447\n",
        "max      0.869313\n",
        "\n",
        "[8 rows x 1 columns]"
       ]
      }
     ],
     "prompt_number": 52
    },
    {
     "cell_type": "heading",
     "level": 2,
     "metadata": {},
     "source": [
      "Homework: (or if we have time in class)"
     ]
    },
    {
     "cell_type": "heading",
     "level": 3,
     "metadata": {},
     "source": [
      "1. Run the next logit model:"
     ]
    },
    {
     "cell_type": "markdown",
     "metadata": {},
     "source": [
      "x = product, full_price, full_pri, promo, disc_pricem, time_day, repeated"
     ]
    },
    {
     "cell_type": "markdown",
     "metadata": {},
     "source": [
      "y = bundel (if buyera are buying milk in bundels)"
     ]
    },
    {
     "cell_type": "code",
     "collapsed": false,
     "input": [
      "train_cols_logit = mdata.columns[0:6]"
     ],
     "language": "python",
     "metadata": {},
     "outputs": [],
     "prompt_number": 60
    },
    {
     "cell_type": "code",
     "collapsed": false,
     "input": [
      "mdata.columns"
     ],
     "language": "python",
     "metadata": {},
     "outputs": [
      {
       "metadata": {},
       "output_type": "pyout",
       "prompt_number": 81,
       "text": [
        "Index([u'id', u'product', u'full_price', u'full_pri', u'promo', u'disc_price', u'bundle', u'time_day', u'repeated?', u'repeated_bundle?'], dtype='object')"
       ]
      }
     ],
     "prompt_number": 81
    },
    {
     "cell_type": "code",
     "collapsed": false,
     "input": [
      "mdata.columns[0:6]"
     ],
     "language": "python",
     "metadata": {},
     "outputs": [
      {
       "metadata": {},
       "output_type": "pyout",
       "prompt_number": 63,
       "text": [
        "Index([u'id', u'product', u'full_price', u'full_pri', u'promo', u'disc_price'], dtype='object')"
       ]
      }
     ],
     "prompt_number": 63
    },
    {
     "cell_type": "code",
     "collapsed": false,
     "input": [
      "train_cols_logit = mdata.columns[0:6] + mdata.columns[7:-1]"
     ],
     "language": "python",
     "metadata": {},
     "outputs": [],
     "prompt_number": 82
    },
    {
     "cell_type": "code",
     "collapsed": false,
     "input": [
      "logit_bundle = sm.Logit(mdata[\"bundle\"], mdata[train_cols_logit])"
     ],
     "language": "python",
     "metadata": {},
     "outputs": [],
     "prompt_number": 83
    },
    {
     "cell_type": "code",
     "collapsed": false,
     "input": [
      "logit_bundle_results=logit_bundle.fit()\n",
      "logit_bundle_results.summary()"
     ],
     "language": "python",
     "metadata": {},
     "outputs": [
      {
       "output_type": "stream",
       "stream": "stdout",
       "text": [
        "Optimization terminated successfully.\n",
        "         Current function value: 0.631994\n",
        "         Iterations 5\n"
       ]
      },
      {
       "html": [
        "<table class=\"simpletable\">\n",
        "<caption>Logit Regression Results</caption>\n",
        "<tr>\n",
        "  <th>Dep. Variable:</th>      <td>bundle</td>      <th>  No. Observations:  </th>  <td>   500</td>  \n",
        "</tr>\n",
        "<tr>\n",
        "  <th>Model:</th>               <td>Logit</td>      <th>  Df Residuals:      </th>  <td>   492</td>  \n",
        "</tr>\n",
        "<tr>\n",
        "  <th>Method:</th>               <td>MLE</td>       <th>  Df Model:          </th>  <td>     7</td>  \n",
        "</tr>\n",
        "<tr>\n",
        "  <th>Date:</th>          <td>Wed, 07 May 2014</td> <th>  Pseudo R-squ.:     </th>  <td>0.04688</td> \n",
        "</tr>\n",
        "<tr>\n",
        "  <th>Time:</th>              <td>21:12:46</td>     <th>  Log-Likelihood:    </th> <td> -316.00</td> \n",
        "</tr>\n",
        "<tr>\n",
        "  <th>converged:</th>           <td>True</td>       <th>  LL-Null:           </th> <td> -331.54</td> \n",
        "</tr>\n",
        "<tr>\n",
        "  <th> </th>                      <td> </td>        <th>  LLR p-value:       </th> <td>6.002e-05</td>\n",
        "</tr>\n",
        "</table>\n",
        "<table class=\"simpletable\">\n",
        "<tr>\n",
        "       <td></td>         <th>coef</th>     <th>std err</th>      <th>z</th>      <th>P>|z|</th> <th>[95.0% Conf. Int.]</th> \n",
        "</tr>\n",
        "<tr>\n",
        "  <th>disc_price</th> <td>   -1.1902</td> <td>    0.555</td> <td>   -2.143</td> <td> 0.032</td> <td>   -2.279    -0.102</td>\n",
        "</tr>\n",
        "<tr>\n",
        "  <th>full_pri</th>   <td>   -0.7064</td> <td>    0.457</td> <td>   -1.545</td> <td> 0.122</td> <td>   -1.603     0.190</td>\n",
        "</tr>\n",
        "<tr>\n",
        "  <th>full_price</th> <td>    1.2347</td> <td>    0.500</td> <td>    2.468</td> <td> 0.014</td> <td>    0.254     2.215</td>\n",
        "</tr>\n",
        "<tr>\n",
        "  <th>id</th>         <td>   -0.0021</td> <td>    0.001</td> <td>   -2.957</td> <td> 0.003</td> <td>   -0.003    -0.001</td>\n",
        "</tr>\n",
        "<tr>\n",
        "  <th>product</th>    <td>    0.5170</td> <td>    0.209</td> <td>    2.469</td> <td> 0.014</td> <td>    0.107     0.927</td>\n",
        "</tr>\n",
        "<tr>\n",
        "  <th>promo</th>      <td>    0.3768</td> <td>    0.358</td> <td>    1.053</td> <td> 0.292</td> <td>   -0.324     1.078</td>\n",
        "</tr>\n",
        "<tr>\n",
        "  <th>repeated?</th>  <td>   -0.4284</td> <td>    0.266</td> <td>   -1.610</td> <td> 0.107</td> <td>   -0.950     0.093</td>\n",
        "</tr>\n",
        "<tr>\n",
        "  <th>time_day</th>   <td>   -0.2200</td> <td>    0.225</td> <td>   -0.976</td> <td> 0.329</td> <td>   -0.662     0.222</td>\n",
        "</tr>\n",
        "</table>"
       ],
       "metadata": {},
       "output_type": "pyout",
       "prompt_number": 84,
       "text": [
        "<class 'statsmodels.iolib.summary.Summary'>\n",
        "\"\"\"\n",
        "                           Logit Regression Results                           \n",
        "==============================================================================\n",
        "Dep. Variable:                 bundle   No. Observations:                  500\n",
        "Model:                          Logit   Df Residuals:                      492\n",
        "Method:                           MLE   Df Model:                            7\n",
        "Date:                Wed, 07 May 2014   Pseudo R-squ.:                 0.04688\n",
        "Time:                        21:12:46   Log-Likelihood:                -316.00\n",
        "converged:                       True   LL-Null:                       -331.54\n",
        "                                        LLR p-value:                 6.002e-05\n",
        "==============================================================================\n",
        "                 coef    std err          z      P>|z|      [95.0% Conf. Int.]\n",
        "------------------------------------------------------------------------------\n",
        "disc_price    -1.1902      0.555     -2.143      0.032        -2.279    -0.102\n",
        "full_pri      -0.7064      0.457     -1.545      0.122        -1.603     0.190\n",
        "full_price     1.2347      0.500      2.468      0.014         0.254     2.215\n",
        "id            -0.0021      0.001     -2.957      0.003        -0.003    -0.001\n",
        "product        0.5170      0.209      2.469      0.014         0.107     0.927\n",
        "promo          0.3768      0.358      1.053      0.292        -0.324     1.078\n",
        "repeated?     -0.4284      0.266     -1.610      0.107        -0.950     0.093\n",
        "time_day      -0.2200      0.225     -0.976      0.329        -0.662     0.222\n",
        "==============================================================================\n",
        "\"\"\""
       ]
      }
     ],
     "prompt_number": 84
    },
    {
     "cell_type": "code",
     "collapsed": false,
     "input": [
      "logit_bundle_results.params"
     ],
     "language": "python",
     "metadata": {},
     "outputs": [
      {
       "metadata": {},
       "output_type": "pyout",
       "prompt_number": 85,
       "text": [
        "disc_price   -1.190169\n",
        "full_pri     -0.706396\n",
        "full_price    1.234732\n",
        "id           -0.002073\n",
        "product       0.516965\n",
        "promo         0.376850\n",
        "repeated?    -0.428445\n",
        "time_day     -0.219992\n",
        "dtype: float64"
       ]
      }
     ],
     "prompt_number": 85
    },
    {
     "cell_type": "heading",
     "level": 4,
     "metadata": {},
     "source": [
      "2. Are consumer more likley to buy 2% milk vs. fat-milk? yes or no? explain"
     ]
    },
    {
     "cell_type": "code",
     "collapsed": false,
     "input": [
      "np.sum(logit_bundle_results.params*mdata.describe().T[2:][\"mean\"])"
     ],
     "language": "python",
     "metadata": {},
     "outputs": [
      {
       "metadata": {},
       "output_type": "pyout",
       "prompt_number": 86,
       "text": [
        "0.71781009231134474"
       ]
      }
     ],
     "prompt_number": 86
    },
    {
     "cell_type": "heading",
     "level": 5,
     "metadata": {},
     "source": [
      "3. Is the effect of promotion negative or positive on the outcome (Ignore significance)? Can promotions drive consumer to buy in boundle?"
     ]
    },
    {
     "cell_type": "markdown",
     "metadata": {},
     "source": [
      "The effect of promo is positive on the outcome, therefore promotions can drive consumer purchsases."
     ]
    },
    {
     "cell_type": "heading",
     "level": 5,
     "metadata": {},
     "source": [
      "5. Can you think, with the results we got from this regression, about a strategy to convert consumers to buy halthier milk (2%) rather than fat-milk? "
     ]
    },
    {
     "cell_type": "markdown",
     "metadata": {},
     "source": [
      "Since the coefficients related to the price of the product have the strongest effect on the outcome, changing price would have the largest effect on consumer behavior."
     ]
    },
    {
     "cell_type": "code",
     "collapsed": false,
     "input": [],
     "language": "python",
     "metadata": {},
     "outputs": []
    }
   ],
   "metadata": {}
  }
 ]
}