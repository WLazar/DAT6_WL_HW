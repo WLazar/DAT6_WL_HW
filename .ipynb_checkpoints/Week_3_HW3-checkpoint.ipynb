{
 "metadata": {
  "name": "",
  "signature": "sha256:70f1e699baeca60d26214bf2ac44274fb8c56b81e8967dda6544906fccbebe82"
 },
 "nbformat": 3,
 "nbformat_minor": 0,
 "worksheets": [
  {
   "cells": [
    {
     "cell_type": "markdown",
     "metadata": {
      "slideshow": {
       "slide_type": "slide"
      }
     },
     "source": [
      "Homework 3\n",
      "==========================\n",
      "Multiple Linear Regression\n",
      "--------------------------\n",
      "Winston Lazar"
     ]
    },
    {
     "cell_type": "markdown",
     "metadata": {},
     "source": [
      "Level 1\n",
      "--------\n",
      "\n",
      "Use `enron.db` from last week.\n",
      "\n",
      "1. Select a `DataFrame` containing the recipient count (as before) and the `department` of the sender for each message.\n",
      "\n",
      "2. Create a histogram of the recipient count.\n",
      "\n",
      "3. Create a new column based on the `log` of the recipient count.\n",
      "\n",
      "4. Create a histogram of that log.\n",
      "\n",
      "6. Create a boxplot of the log, splitting the data based on the `department` of the sender.\n",
      "\n",
      "7. Compute the sample mean and standard deviation of the log in the three groups.\n",
      "\n",
      "8. Compute a 95% confidence interval for the difference in recipient count between the three groups. \n",
      "\n",
      "5. At level $\\alpha=5\\%$, test the null hypothesis that the average recipient count does not differ between the three groups. What assumptions are you making? What can you conclude?"
     ]
    },
    {
     "cell_type": "markdown",
     "metadata": {},
     "source": [
      "%matplotlib inline\n",
      "%load_ext sql\n",
      "import matplotlib.pyplot as plt\n",
      "import pandas as pd\n",
      "import scipy.stats as stats\n",
      "import statsmodels.formula.api as smf\n",
      "import sqlite3\n",
      "import numpy as np\n",
      "import statsmodels.api as sm"
     ]
    },
    {
     "cell_type": "code",
     "collapsed": false,
     "input": [
      "from pandas.io import sql\n",
      "import sqlite3\n",
      "import numpy as np\n",
      "import pandas as pd\n",
      "import statsmodels.api as sm\n",
      "conn = sqlite3.connect('enron.db')"
     ],
     "language": "python",
     "metadata": {},
     "outputs": [],
     "prompt_number": 21
    },
    {
     "cell_type": "code",
     "collapsed": false,
     "input": [
      "%%bas\n",
      "sqlite3 enron.db .tables"
     ],
     "language": "python",
     "metadata": {},
     "outputs": [
      {
       "output_type": "stream",
       "stream": "stdout",
       "text": [
        "Employee          EmployeeWithVars  MessageBase       RecipientBase   \n",
        "EmployeeBase      Message           Recipient       \n"
       ]
      }
     ],
     "prompt_number": 6
    },
    {
     "cell_type": "code",
     "collapsed": false,
     "input": [
      "%%sql sqlite:///enron.db\n",
      "SELECT department, rno\n",
      "FROM EmployeeBase \n",
      "JOIN MessageBase ON eid = from_eid \n",
      "JOIN RecipientBase USING(mid) LIMIT 5"
     ],
     "language": "python",
     "metadata": {},
     "outputs": [
      {
       "output_type": "stream",
       "stream": "stderr",
       "text": [
        "ERROR: Cell magic `%%sql` not found.\n"
       ]
      }
     ],
     "prompt_number": 8
    },
    {
     "cell_type": "code",
     "collapsed": true,
     "input": [
      "dept_rno_df = pd.DataFrame(sql.frame_query(\"\"\"SELECT mid,department, MAX(rno) rno\n",
      "FROM EmployeeBase \n",
      "JOIN MessageBase ON eid = from_eid \n",
      "JOIN RecipientBase USING(mid)\n",
      "GROUP BY mid, department\"\"\", conn, \"mid\"))\n",
      "\n",
      "#dept_rno_df.groupby(dept_rno_df[\"rno\"]).head()\n",
      "#dept_rno_df.head()\n",
      "dept_rno_df.hist(by='department')"
     ],
     "language": "python",
     "metadata": {},
     "outputs": [
      {
       "metadata": {},
       "output_type": "pyout",
       "prompt_number": 11,
       "text": [
        "array([[<matplotlib.axes.AxesSubplot object at 0x105e24ad0>,\n",
        "        <matplotlib.axes.AxesSubplot object at 0x107562c50>],\n",
        "       [<matplotlib.axes.AxesSubplot object at 0x1078821d0>,\n",
        "        <matplotlib.axes.AxesSubplot object at 0x107983dd0>]], dtype=object)"
       ]
      },
      {
       "metadata": {},
       "output_type": "display_data",
       "png": "[encoded data removed]",
       "text": [
        "<matplotlib.figure.Figure at 0x10759dc10>"
       ]
      }
     ],
     "prompt_number": 11
    },
    {
     "cell_type": "markdown",
     "metadata": {},
     "source": [
      "Level 1\n",
      "--------\n",
      "\n",
      "Use `enron.db` from last week.\n",
      "\n",
      "1. Select a `DataFrame` containing the recipient count (as before) and the `department` of the sender for each message.\n",
      "\n",
      "2. Create a histogram of the recipient count.\n",
      "\n",
      "3. Create a new column based on the `log` of the recipient count.\n",
      "\n",
      "4. Create a histogram of that log.\n",
      "\n",
      "6. Create a boxplot of the log, splitting the data based on the `department` of the sender.\n",
      "\n",
      "7. Compute the sample mean and standard deviation of the log in the three groups.\n",
      "\n",
      "8. Compute a 95% confidence interval for the difference in recipient count between the three groups. \n",
      "\n",
      "5. At level $\\alpha=5\\%$, test the null hypothesis that the average recipient count does not differ between the three groups. What assumptions are you making? What can you conclude?"
     ]
    },
    {
     "cell_type": "code",
     "collapsed": false,
     "input": [
      "# Create a new column based on the `log` of the recipient count.\n",
      "dept_rno_df['logRNO'] = dept_rno_df['rno'].apply(np.log)\n",
      "dept_rno_df[dept_rno_df['department']==\"Trading\"].describe()"
     ],
     "language": "python",
     "metadata": {},
     "outputs": [
      {
       "html": [
        "<div style=\"max-height:1000px;max-width:1500px;overflow:auto;\">\n",
        "<table border=\"1\" class=\"dataframe\">\n",
        "  <thead>\n",
        "    <tr style=\"text-align: right;\">\n",
        "      <th></th>\n",
        "      <th>rno</th>\n",
        "      <th>logRNO</th>\n",
        "    </tr>\n",
        "  </thead>\n",
        "  <tbody>\n",
        "    <tr>\n",
        "      <th>count</th>\n",
        "      <td> 4387.000000</td>\n",
        "      <td> 4387.000000</td>\n",
        "    </tr>\n",
        "    <tr>\n",
        "      <th>mean</th>\n",
        "      <td>    1.621153</td>\n",
        "      <td>    0.259529</td>\n",
        "    </tr>\n",
        "    <tr>\n",
        "      <th>std</th>\n",
        "      <td>    1.847612</td>\n",
        "      <td>    0.532759</td>\n",
        "    </tr>\n",
        "    <tr>\n",
        "      <th>min</th>\n",
        "      <td>    1.000000</td>\n",
        "      <td>    0.000000</td>\n",
        "    </tr>\n",
        "    <tr>\n",
        "      <th>25%</th>\n",
        "      <td>    1.000000</td>\n",
        "      <td>    0.000000</td>\n",
        "    </tr>\n",
        "    <tr>\n",
        "      <th>50%</th>\n",
        "      <td>    1.000000</td>\n",
        "      <td>    0.000000</td>\n",
        "    </tr>\n",
        "    <tr>\n",
        "      <th>75%</th>\n",
        "      <td>    1.000000</td>\n",
        "      <td>    0.000000</td>\n",
        "    </tr>\n",
        "    <tr>\n",
        "      <th>max</th>\n",
        "      <td>   20.000000</td>\n",
        "      <td>    2.995732</td>\n",
        "    </tr>\n",
        "  </tbody>\n",
        "</table>\n",
        "<p>8 rows \u00d7 2 columns</p>\n",
        "</div>"
       ],
       "metadata": {},
       "output_type": "pyout",
       "prompt_number": 31,
       "text": [
        "               rno       logRNO\n",
        "count  4387.000000  4387.000000\n",
        "mean      1.621153     0.259529\n",
        "std       1.847612     0.532759\n",
        "min       1.000000     0.000000\n",
        "25%       1.000000     0.000000\n",
        "50%       1.000000     0.000000\n",
        "75%       1.000000     0.000000\n",
        "max      20.000000     2.995732\n",
        "\n",
        "[8 rows x 2 columns]"
       ]
      }
     ],
     "prompt_number": 31
    },
    {
     "cell_type": "code",
     "collapsed": false,
     "input": [
      "# Create a histogram of that log.\n",
      "dept_rno_df['logRNO'].hist()"
     ],
     "language": "python",
     "metadata": {
      "slideshow": {
       "slide_type": "fragment"
      }
     },
     "outputs": [
      {
       "metadata": {},
       "output_type": "pyout",
       "prompt_number": 29,
       "text": [
        "<matplotlib.axes.AxesSubplot at 0x10a515190>"
       ]
      },
      {
       "metadata": {},
       "output_type": "display_data",
       "png": "[encoded data removed]",
       "text": [
        "<matplotlib.figure.Figure at 0x10a515350>"
       ]
      }
     ],
     "prompt_number": 29
    },
    {
     "cell_type": "code",
     "collapsed": false,
     "input": [
      "dept_rno_df.groupby(\"department\").describe()"
     ],
     "language": "python",
     "metadata": {},
     "outputs": [
      {
       "html": [
        "<div style=\"max-height:1000px;max-width:1500px;overflow:auto;\">\n",
        "<table border=\"1\" class=\"dataframe\">\n",
        "  <thead>\n",
        "    <tr style=\"text-align: right;\">\n",
        "      <th></th>\n",
        "      <th></th>\n",
        "      <th>rno</th>\n",
        "      <th>logRNO</th>\n",
        "    </tr>\n",
        "    <tr>\n",
        "      <th>department</th>\n",
        "      <th></th>\n",
        "      <th></th>\n",
        "      <th></th>\n",
        "    </tr>\n",
        "  </thead>\n",
        "  <tbody>\n",
        "    <tr>\n",
        "      <th rowspan=\"8\" valign=\"top\">Legal</th>\n",
        "      <th>count</th>\n",
        "      <td> 10396.000000</td>\n",
        "      <td> 10396.000000</td>\n",
        "    </tr>\n",
        "    <tr>\n",
        "      <th>mean</th>\n",
        "      <td>     1.855714</td>\n",
        "      <td>     0.401037</td>\n",
        "    </tr>\n",
        "    <tr>\n",
        "      <th>std</th>\n",
        "      <td>     1.577425</td>\n",
        "      <td>     0.593603</td>\n",
        "    </tr>\n",
        "    <tr>\n",
        "      <th>min</th>\n",
        "      <td>     1.000000</td>\n",
        "      <td>     0.000000</td>\n",
        "    </tr>\n",
        "    <tr>\n",
        "      <th>25%</th>\n",
        "      <td>     1.000000</td>\n",
        "      <td>     0.000000</td>\n",
        "    </tr>\n",
        "    <tr>\n",
        "      <th>50%</th>\n",
        "      <td>     1.000000</td>\n",
        "      <td>     0.000000</td>\n",
        "    </tr>\n",
        "    <tr>\n",
        "      <th>75%</th>\n",
        "      <td>     2.000000</td>\n",
        "      <td>     0.693147</td>\n",
        "    </tr>\n",
        "    <tr>\n",
        "      <th>max</th>\n",
        "      <td>    21.000000</td>\n",
        "      <td>     3.044522</td>\n",
        "    </tr>\n",
        "    <tr>\n",
        "      <th rowspan=\"8\" valign=\"top\">Other</th>\n",
        "      <th>count</th>\n",
        "      <td>  6852.000000</td>\n",
        "      <td>  6852.000000</td>\n",
        "    </tr>\n",
        "    <tr>\n",
        "      <th>mean</th>\n",
        "      <td>     1.748978</td>\n",
        "      <td>     0.307250</td>\n",
        "    </tr>\n",
        "    <tr>\n",
        "      <th>std</th>\n",
        "      <td>     2.269284</td>\n",
        "      <td>     0.578159</td>\n",
        "    </tr>\n",
        "    <tr>\n",
        "      <th>min</th>\n",
        "      <td>     1.000000</td>\n",
        "      <td>     0.000000</td>\n",
        "    </tr>\n",
        "    <tr>\n",
        "      <th>25%</th>\n",
        "      <td>     1.000000</td>\n",
        "      <td>     0.000000</td>\n",
        "    </tr>\n",
        "    <tr>\n",
        "      <th>50%</th>\n",
        "      <td>     1.000000</td>\n",
        "      <td>     0.000000</td>\n",
        "    </tr>\n",
        "    <tr>\n",
        "      <th>75%</th>\n",
        "      <td>     2.000000</td>\n",
        "      <td>     0.693147</td>\n",
        "    </tr>\n",
        "    <tr>\n",
        "      <th>max</th>\n",
        "      <td>    57.000000</td>\n",
        "      <td>     4.043051</td>\n",
        "    </tr>\n",
        "    <tr>\n",
        "      <th rowspan=\"8\" valign=\"top\">Trading</th>\n",
        "      <th>count</th>\n",
        "      <td>  4387.000000</td>\n",
        "      <td>  4387.000000</td>\n",
        "    </tr>\n",
        "    <tr>\n",
        "      <th>mean</th>\n",
        "      <td>     1.621153</td>\n",
        "      <td>     0.259529</td>\n",
        "    </tr>\n",
        "    <tr>\n",
        "      <th>std</th>\n",
        "      <td>     1.847612</td>\n",
        "      <td>     0.532759</td>\n",
        "    </tr>\n",
        "    <tr>\n",
        "      <th>min</th>\n",
        "      <td>     1.000000</td>\n",
        "      <td>     0.000000</td>\n",
        "    </tr>\n",
        "    <tr>\n",
        "      <th>25%</th>\n",
        "      <td>     1.000000</td>\n",
        "      <td>     0.000000</td>\n",
        "    </tr>\n",
        "    <tr>\n",
        "      <th>50%</th>\n",
        "      <td>     1.000000</td>\n",
        "      <td>     0.000000</td>\n",
        "    </tr>\n",
        "    <tr>\n",
        "      <th>75%</th>\n",
        "      <td>     1.000000</td>\n",
        "      <td>     0.000000</td>\n",
        "    </tr>\n",
        "    <tr>\n",
        "      <th>max</th>\n",
        "      <td>    20.000000</td>\n",
        "      <td>     2.995732</td>\n",
        "    </tr>\n",
        "  </tbody>\n",
        "</table>\n",
        "<p>24 rows \u00d7 2 columns</p>\n",
        "</div>"
       ],
       "metadata": {},
       "output_type": "pyout",
       "prompt_number": 60,
       "text": [
        "                           rno        logRNO\n",
        "department                                  \n",
        "Legal      count  10396.000000  10396.000000\n",
        "           mean       1.855714      0.401037\n",
        "           std        1.577425      0.593603\n",
        "           min        1.000000      0.000000\n",
        "           25%        1.000000      0.000000\n",
        "           50%        1.000000      0.000000\n",
        "           75%        2.000000      0.693147\n",
        "           max       21.000000      3.044522\n",
        "Other      count   6852.000000   6852.000000\n",
        "           mean       1.748978      0.307250\n",
        "           std        2.269284      0.578159\n",
        "           min        1.000000      0.000000\n",
        "           25%        1.000000      0.000000\n",
        "           50%        1.000000      0.000000\n",
        "           75%        2.000000      0.693147\n",
        "           max       57.000000      4.043051\n",
        "Trading    count   4387.000000   4387.000000\n",
        "           mean       1.621153      0.259529\n",
        "           std        1.847612      0.532759\n",
        "           min        1.000000      0.000000\n",
        "           25%        1.000000      0.000000\n",
        "           50%        1.000000      0.000000\n",
        "           75%        1.000000      0.000000\n",
        "           max       20.000000      2.995732\n",
        "\n",
        "[24 rows x 2 columns]"
       ]
      }
     ],
     "prompt_number": 60
    },
    {
     "cell_type": "markdown",
     "metadata": {
      "slideshow": {
       "slide_type": "subslide"
      }
     },
     "source": [
      "the column names have trailing whitespace, so I fix that by mapping `str.strip` onto the `columns`' names."
     ]
    },
    {
     "cell_type": "code",
     "collapsed": false,
     "input": [
      "dept_rno_df.boxplot(column='logRNO', by='department')"
     ],
     "language": "python",
     "metadata": {},
     "outputs": [
      {
       "metadata": {},
       "output_type": "pyout",
       "prompt_number": 61,
       "text": [
        "<matplotlib.axes.AxesSubplot at 0x10c614a10>"
       ]
      },
      {
       "metadata": {},
       "output_type": "display_data",
       "png": "[encoded data removed]",
       "text": [
        "<matplotlib.figure.Figure at 0x10c12bbd0>"
       ]
      }
     ],
     "prompt_number": 61
    },
    {
     "cell_type": "code",
     "collapsed": false,
     "input": [
      "# Create a boxplot of the log, splitting the data based on the `department` of the sender.\n",
      "import matplotlib.pyplot as plt\n",
      "#d_t=dept_rno_df[ dept_rno_df[\"department\"] == \"Trading\" ]\n",
      "#d_l=dept_rno_df[ dept_rno_df[\"department\"] == \"Legal\" ]\n",
      "#plt.boxplot([d_l[\"logRNO\"],d_t[\"logRNO\"]])\n",
      "#plt.boxplot(d_l[\"logRNO\"])\n",
      "#plt.ylim(-2,4)\n",
      "dept_rno_df.boxplot(column='logRNO', by='department')\n"
     ],
     "language": "python",
     "metadata": {},
     "outputs": [
      {
       "metadata": {},
       "output_type": "pyout",
       "prompt_number": 64,
       "text": [
        "<matplotlib.axes.AxesSubplot at 0x10b391610>"
       ]
      },
      {
       "metadata": {},
       "output_type": "display_data",
       "png": "[encoded data removed]",
       "text": [
        "<matplotlib.figure.Figure at 0x10ce295d0>"
       ]
      }
     ],
     "prompt_number": 64
    },
    {
     "cell_type": "code",
     "collapsed": false,
     "input": [
      "# Compute a 95% confidence interval for the difference in recipient count between the three groups. \n",
      "\n",
      "mod_l = sm.OLS.from_formula(\"logRNO ~ department == 'Legal'\", dept_rno_df)\n",
      "results_l = mod_l.fit()\n",
      "mod_t = sm.OLS.from_formula(\"logRNO ~ department == 'Trading'\", dept_rno_df)\n",
      "results_t = mod_t.fit()\n",
      "mod_o = sm.OLS.from_formula(\"logRNO ~ department == 'Other'\", dept_rno_df)\n",
      "results_o = mod_o.fit()\n",
      "print results_l.summary(alpha = .05)\n",
      "print results_t.summary(alpha = .05)\n",
      "print results_o.summary(alpha = .05)"
     ],
     "language": "python",
     "metadata": {},
     "outputs": [
      {
       "output_type": "stream",
       "stream": "stdout",
       "text": [
        "                            OLS Regression Results                            \n",
        "==============================================================================\n",
        "Dep. Variable:                 logRNO   R-squared:                       0.009\n",
        "Model:                            OLS   Adj. R-squared:                  0.009\n",
        "Method:                 Least Squares   F-statistic:                     204.9\n",
        "Date:                Wed, 14 May 2014   Prob (F-statistic):           2.84e-46\n",
        "Time:                        19:45:57   Log-Likelihood:                -18803.\n",
        "No. Observations:               21635   AIC:                         3.761e+04\n",
        "Df Residuals:                   21633   BIC:                         3.763e+04\n",
        "Df Model:                           1                                         \n",
        "=================================================================================================\n",
        "                                    coef    std err          t      P>|t|      [95.0% Conf. Int.]\n",
        "-------------------------------------------------------------------------------------------------\n",
        "Intercept                         0.2886      0.005     53.024      0.000         0.278     0.299\n",
        "department == 'Legal'[T.True]     0.1124      0.008     14.316      0.000         0.097     0.128\n",
        "==============================================================================\n",
        "Omnibus:                     6267.867   Durbin-Watson:                   1.858\n",
        "Prob(Omnibus):                  0.000   Jarque-Bera (JB):            14657.722\n",
        "Skew:                           1.655   Prob(JB):                         0.00\n",
        "Kurtosis:                       5.304   Cond. No.                         2.57\n",
        "==============================================================================\n",
        "                            OLS Regression Results                            \n",
        "==============================================================================\n",
        "Dep. Variable:                 logRNO   R-squared:                       0.005\n",
        "Model:                            OLS   Adj. R-squared:                  0.005\n",
        "Method:                 Least Squares   F-statistic:                     113.7\n",
        "Date:                Wed, 14 May 2014   Prob (F-statistic):           1.79e-26\n",
        "Time:                        19:45:57   Log-Likelihood:                -18848.\n",
        "No. Observations:               21635   AIC:                         3.770e+04\n",
        "Df Residuals:                   21633   BIC:                         3.772e+04\n",
        "Df Model:                           1                                         \n",
        "===================================================================================================\n",
        "                                      coef    std err          t      P>|t|      [95.0% Conf. Int.]\n",
        "---------------------------------------------------------------------------------------------------\n",
        "Intercept                           0.3638      0.004     82.618      0.000         0.355     0.372\n",
        "department == 'Trading'[T.True]    -0.1043      0.010    -10.661      0.000        -0.123    -0.085\n",
        "==============================================================================\n",
        "Omnibus:                     6170.336   Durbin-Watson:                   1.859\n",
        "Prob(Omnibus):                  0.000   Jarque-Bera (JB):            14096.277\n",
        "Skew:                           1.645   Prob(JB):                         0.00\n",
        "Kurtosis:                       5.195   Cond. No.                         2.61\n",
        "==============================================================================\n",
        "                            OLS Regression Results                            \n",
        "==============================================================================\n",
        "Dep. Variable:                 logRNO   R-squared:                       0.002\n",
        "Model:                            OLS   Adj. R-squared:                  0.002\n",
        "Method:                 Least Squares   F-statistic:                     37.43\n",
        "Date:                Wed, 14 May 2014   Prob (F-statistic):           9.66e-10\n",
        "Time:                        19:45:57   Log-Likelihood:                -18886.\n",
        "No. Observations:               21635   AIC:                         3.778e+04\n",
        "Df Residuals:                   21633   BIC:                         3.779e+04\n",
        "Df Model:                           1                                         \n",
        "=================================================================================================\n",
        "                                    coef    std err          t      P>|t|      [95.0% Conf. Int.]\n",
        "-------------------------------------------------------------------------------------------------\n",
        "Intercept                         0.3590      0.005     75.358      0.000         0.350     0.368\n",
        "department == 'Other'[T.True]    -0.0518      0.008     -6.118      0.000        -0.068    -0.035\n",
        "==============================================================================\n",
        "Omnibus:                     6190.140   Durbin-Watson:                   1.859\n",
        "Prob(Omnibus):                  0.000   Jarque-Bera (JB):            14130.068\n",
        "Skew:                           1.652   Prob(JB):                         0.00\n",
        "Kurtosis:                       5.182   Cond. No.                         2.42\n",
        "=============================================================================="
       ]
      },
      {
       "output_type": "stream",
       "stream": "stdout",
       "text": [
        "\n"
       ]
      }
     ],
     "prompt_number": 65
    },
    {
     "cell_type": "code",
     "collapsed": false,
     "input": [
      "# 8 Compute a 95% confidence interval for the difference in recipient count between the three groups. \n",
      "\n",
      "mod = sm.OLS.from_formula(\"rno ~ department\", dept_rno_df)\n",
      "results = mod.fit()\n",
      "print results.summary(alpha = .05)\n"
     ],
     "language": "python",
     "metadata": {},
     "outputs": [
      {
       "output_type": "stream",
       "stream": "stdout",
       "text": [
        "                            OLS Regression Results                            \n",
        "==============================================================================\n",
        "Dep. Variable:                    rno   R-squared:                       0.002\n",
        "Model:                            OLS   Adj. R-squared:                  0.002\n",
        "Method:                 Least Squares   F-statistic:                     25.04\n",
        "Date:                Wed, 14 May 2014   Prob (F-statistic):           1.38e-11\n",
        "Time:                        19:50:58   Log-Likelihood:                -44307.\n",
        "No. Observations:               21635   AIC:                         8.862e+04\n",
        "Df Residuals:                   21632   BIC:                         8.864e+04\n",
        "Df Model:                           2                                         \n",
        "=========================================================================================\n",
        "                            coef    std err          t      P>|t|      [95.0% Conf. Int.]\n",
        "-----------------------------------------------------------------------------------------\n",
        "Intercept                 1.8557      0.018    100.867      0.000         1.820     1.892\n",
        "department[T.Other]      -0.1067      0.029     -3.657      0.000        -0.164    -0.050\n",
        "department[T.Trading]    -0.2346      0.034     -6.945      0.000        -0.301    -0.168\n",
        "==============================================================================\n",
        "Omnibus:                    30631.783   Durbin-Watson:                   1.884\n",
        "Prob(Omnibus):                  0.000   Jarque-Bera (JB):         22422822.273\n",
        "Skew:                           8.057   Prob(JB):                         0.00\n",
        "Kurtosis:                     159.889   Cond. No.                         3.32\n",
        "==============================================================================\n"
       ]
      }
     ],
     "prompt_number": 66
    },
    {
     "cell_type": "markdown",
     "metadata": {},
     "source": []
    },
    {
     "cell_type": "markdown",
     "metadata": {},
     "source": [
      "---"
     ]
    },
    {
     "cell_type": "markdown",
     "metadata": {
      "slideshow": {
       "slide_type": "slide"
      }
     },
     "source": [
      "1-2 Pairs\n",
      "=========\n",
      "(Based on [RABE](http://www.ilr.cornell.edu/~hadi/RABE4/) 3.15)\n",
      "---------\n",
      "A national insurance organization wanted to study the consumption pattern of cigarettes in all 50 states and the District of Columbia. The variables chosen for the study are:\n",
      "\n",
      "* Age: Median age of a person living in a state.\n",
      "\n",
      "* HS: Percentage of people over 25 years of age in a state who had completed high school.\n",
      "\n",
      "* Income: Per capita personal income for a state (income in dollars).\n",
      "\n",
      "* Black: Percentage of blacks living in a state.\n",
      "\n",
      "* Female: Percentage of females living in a state.\n",
      "\n",
      "* Price: Weighted average price (in cents) of a pack ofcigarettes in a state.\n",
      "\n",
      "* Sales: Number of packs of cigarettes sold in a state on a per capita basis.\n",
      "\n",
      "The data can be found at [http://www1.aucegypt.edu/faculty/hadi/RABE5/Data5/P088.txt](http://www1.aucegypt.edu/faculty/hadi/RABE5/Data5/P088.txt).\n",
      "\n",
      "Below, specify the null and alternative hypotheses, the test used, and your conclusion using a 5% level of significance.\n",
      "\n",
      "1. Test the hypothesis that the variable `Female` is not needed in the regression equation relating Sales to the six predictor variables.\n",
      "\n",
      "2. Test the hypothesis that the variables `Female` and `HS` are not needed in the above regression equation.\n",
      "\n",
      "3. Compute a 95% confidence interval for the true regression coefficient of the variable `Income`.\n",
      "\n",
      "4. What percentage of the variation in `Sales` can be accounted for when `Income` is removed from the above regression equation? Which model did you use?"
     ]
    },
    {
     "cell_type": "code",
     "collapsed": false,
     "input": [
      "data = pd.read_table('http://www1.aucegypt.edu/faculty/hadi/RABE5/Data5/P088.txt')"
     ],
     "language": "python",
     "metadata": {},
     "outputs": [],
     "prompt_number": 14
    },
    {
     "cell_type": "code",
     "collapsed": false,
     "input": [
      "X2 = data['Age']\n",
      "X3 = data['HS']\n",
      "X4 = data['Income']\n",
      "X5 = data['Black']\n",
      "X6 = data['Female']\n",
      "X7 = data['Price']\n",
      "Y = data['Sales']"
     ],
     "language": "python",
     "metadata": {},
     "outputs": [],
     "prompt_number": 29
    },
    {
     "cell_type": "code",
     "collapsed": false,
     "input": [],
     "language": "python",
     "metadata": {},
     "outputs": []
    },
    {
     "cell_type": "code",
     "collapsed": false,
     "input": [
      "a = smf.ols('Y ~ X2 + X3 + X4 + X5 + X6 + X7', data=data)"
     ],
     "language": "python",
     "metadata": {},
     "outputs": [],
     "prompt_number": 30
    },
    {
     "cell_type": "code",
     "collapsed": false,
     "input": [
      "fit = a.fit()\n",
      "print fit.summary()"
     ],
     "language": "python",
     "metadata": {},
     "outputs": [
      {
       "output_type": "stream",
       "stream": "stdout",
       "text": [
        "                            OLS Regression Results                            \n",
        "==============================================================================\n",
        "Dep. Variable:                      Y   R-squared:                       0.321\n",
        "Model:                            OLS   Adj. R-squared:                  0.228\n",
        "Method:                 Least Squares   F-statistic:                     3.464\n",
        "Date:                Wed, 30 Apr 2014   Prob (F-statistic):            0.00686\n",
        "Time:                        20:36:15   Log-Likelihood:                -238.86\n",
        "No. Observations:                  51   AIC:                             491.7\n",
        "Df Residuals:                      44   BIC:                             505.2\n",
        "Df Model:                           6                                         \n",
        "==============================================================================\n",
        "                 coef    std err          t      P>|t|      [95.0% Conf. Int.]\n",
        "------------------------------------------------------------------------------\n",
        "Intercept    103.3448    245.607      0.421      0.676      -391.644   598.334\n",
        "X2             4.5205      3.220      1.404      0.167        -1.969    11.009\n",
        "X3            -0.0616      0.815     -0.076      0.940        -1.703     1.580\n",
        "X4             0.0189      0.010      1.855      0.070        -0.002     0.040\n",
        "X5             0.3575      0.487      0.734      0.467        -0.624     1.339\n",
        "X6            -1.0529      5.561     -0.189      0.851       -12.260    10.155\n",
        "X7            -3.2549      1.031     -3.156      0.003        -5.334    -1.176\n",
        "==============================================================================\n",
        "Omnibus:                       56.254   Durbin-Watson:                   1.663\n",
        "Prob(Omnibus):                  0.000   Jarque-Bera (JB):              358.088\n",
        "Skew:                           2.842   Prob(JB):                     1.75e-78\n",
        "Kurtosis:                      14.670   Cond. No.                     2.37e+05\n",
        "==============================================================================\n",
        "\n",
        "Warnings:\n",
        "[1] The condition number is large, 2.37e+05. This might indicate that there are\n",
        "strong multicollinearity or other numerical problems.\n"
       ]
      }
     ],
     "prompt_number": 31
    },
    {
     "cell_type": "markdown",
     "metadata": {},
     "source": [
      "H0: Female(=X6)=0\n",
      "Ha=Female is not 0."
     ]
    },
    {
     "cell_type": "code",
     "collapsed": false,
     "input": [
      "b = smf.ols('Y ~ X2 + X3 + X4 + X5 + X7', data=data)\n",
      "fit = b.fit()\n",
      "print fit.summary()"
     ],
     "language": "python",
     "metadata": {},
     "outputs": [
      {
       "output_type": "stream",
       "stream": "stdout",
       "text": [
        "                            OLS Regression Results                            \n",
        "==============================================================================\n",
        "Dep. Variable:                      Y   R-squared:                       0.320\n",
        "Model:                            OLS   Adj. R-squared:                  0.245\n",
        "Method:                 Least Squares   F-statistic:                     4.241\n",
        "Date:                Wed, 30 Apr 2014   Prob (F-statistic):            0.00304\n",
        "Time:                        20:48:52   Log-Likelihood:                -238.88\n",
        "No. Observations:                  51   AIC:                             489.8\n",
        "Df Residuals:                      45   BIC:                             501.4\n",
        "Df Model:                           5                                         \n",
        "==============================================================================\n",
        "                 coef    std err          t      P>|t|      [95.0% Conf. Int.]\n",
        "------------------------------------------------------------------------------\n",
        "Intercept     59.4633     80.388      0.740      0.463      -102.446   221.372\n",
        "X2             4.1178      2.391      1.722      0.092        -0.698     8.934\n",
        "X3            -0.0668      0.805     -0.083      0.934        -1.689     1.555\n",
        "X4             0.0195      0.010      1.997      0.052        -0.000     0.039\n",
        "X5             0.3115      0.418      0.746      0.460        -0.530     1.153\n",
        "X7            -3.2520      1.020     -3.188      0.003        -5.307    -1.197\n",
        "==============================================================================\n",
        "Omnibus:                       56.194   Durbin-Watson:                   1.659\n",
        "Prob(Omnibus):                  0.000   Jarque-Bera (JB):              353.488\n",
        "Skew:                           2.846   Prob(JB):                     1.74e-77\n",
        "Kurtosis:                      14.573   Cond. No.                     7.85e+04\n",
        "==============================================================================\n",
        "\n",
        "Warnings:\n",
        "[1] The condition number is large, 7.85e+04. This might indicate that there are\n",
        "strong multicollinearity or other numerical problems.\n"
       ]
      }
     ],
     "prompt_number": 33
    },
    {
     "cell_type": "markdown",
     "metadata": {},
     "source": [
      "Based on the results of first model (a: X2...X7), there is not enough evidence to reject the null hypothesis H0: Female(=X6)=0; Ha=Female is not 0.\n",
      "\n",
      "Based on the results of the second model (b: X2, X3, X4, X5, X7), the change in adjusted R squared in b indicates a stronger fit without the inclusion of X6. There is not enough evidence to reject the null hypothesis.\n"
     ]
    },
    {
     "cell_type": "markdown",
     "metadata": {},
     "source": [
      "H0: Female(=X6) = HS(=X3) = 0\n",
      "Ha= Both HS and Female are not 0."
     ]
    },
    {
     "cell_type": "code",
     "collapsed": false,
     "input": [
      "c = smf.ols('Y ~ X2 + X4 + X5 + X7', data=data)\n",
      "fit = c.fit()\n",
      "print fit.summary()"
     ],
     "language": "python",
     "metadata": {},
     "outputs": [
      {
       "output_type": "stream",
       "stream": "stdout",
       "text": [
        "                            OLS Regression Results                            \n",
        "==============================================================================\n",
        "Dep. Variable:                      Y   R-squared:                       0.320\n",
        "Model:                            OLS   Adj. R-squared:                  0.261\n",
        "Method:                 Least Squares   F-statistic:                     5.416\n",
        "Date:                Wed, 30 Apr 2014   Prob (F-statistic):            0.00117\n",
        "Time:                        20:56:40   Log-Likelihood:                -238.88\n",
        "No. Observations:                  51   AIC:                             487.8\n",
        "Df Residuals:                      46   BIC:                             497.4\n",
        "Df Model:                           4                                         \n",
        "==============================================================================\n",
        "                 coef    std err          t      P>|t|      [95.0% Conf. Int.]\n",
        "------------------------------------------------------------------------------\n",
        "Intercept     55.3296     62.395      0.887      0.380       -70.266   180.925\n",
        "X2             4.1915      2.196      1.909      0.062        -0.228     8.611\n",
        "X4             0.0189      0.007      2.745      0.009         0.005     0.033\n",
        "X5             0.3342      0.312      1.071      0.290        -0.294     0.962\n",
        "X7            -3.2399      0.999     -3.244      0.002        -5.250    -1.230\n",
        "==============================================================================\n",
        "Omnibus:                       56.030   Durbin-Watson:                   1.661\n",
        "Prob(Omnibus):                  0.000   Jarque-Bera (JB):              350.319\n",
        "Skew:                           2.838   Prob(JB):                     8.49e-77\n",
        "Kurtosis:                      14.517   Cond. No.                     6.16e+04\n",
        "==============================================================================\n",
        "\n",
        "Warnings:\n",
        "[1] The condition number is large, 6.16e+04. This might indicate that there are\n",
        "strong multicollinearity or other numerical problems.\n"
       ]
      }
     ],
     "prompt_number": 34
    },
    {
     "cell_type": "markdown",
     "metadata": {},
     "source": [
      "Based on the results of first model (a: X2...X7), there is not enough evidence to reject the null hypothesis H0: Female(=X6) = HS(=X3) =0; Both HS and Female are not 0.\n",
      "\n",
      "Based on the results of the second model (c: X2, X4, X5, X7), the change in adjusted R squared in c indicates a stronger fit without the inclusion of X6 and X3. There is not enough evidence to reject the null hypothesis."
     ]
    },
    {
     "cell_type": "code",
     "collapsed": false,
     "input": [
      "d = smf.ols('Y ~ X4', data=data)\n",
      "fit = d.fit()\n",
      "print fit.summary()\n",
      "print fit.conf_int(alpha=0.05)"
     ],
     "language": "python",
     "metadata": {},
     "outputs": [
      {
       "output_type": "stream",
       "stream": "stdout",
       "text": [
        "                            OLS Regression Results                            \n",
        "==============================================================================\n",
        "Dep. Variable:                      Y   R-squared:                       0.106\n",
        "Model:                            OLS   Adj. R-squared:                  0.088\n",
        "Method:                 Least Squares   F-statistic:                     5.829\n",
        "Date:                Wed, 30 Apr 2014   Prob (F-statistic):             0.0195\n",
        "Time:                        21:08:05   Log-Likelihood:                -245.86\n",
        "No. Observations:                  51   AIC:                             495.7\n",
        "Df Residuals:                      49   BIC:                             499.6\n",
        "Df Model:                           1                                         \n",
        "==============================================================================\n",
        "                 coef    std err          t      P>|t|      [95.0% Conf. Int.]\n",
        "------------------------------------------------------------------------------\n",
        "Intercept     55.3625     27.743      1.996      0.052        -0.389   111.114\n",
        "X4             0.0176      0.007      2.414      0.020         0.003     0.032\n",
        "==============================================================================\n",
        "Omnibus:                       47.570   Durbin-Watson:                   1.787\n",
        "Prob(Omnibus):                  0.000   Jarque-Bera (JB):              216.600\n",
        "Skew:                           2.434   Prob(JB):                     9.25e-48\n",
        "Kurtosis:                      11.845   Cond. No.                     2.46e+04\n",
        "==============================================================================\n",
        "\n",
        "Warnings:\n",
        "[1] The condition number is large, 2.46e+04. This might indicate that there are\n",
        "strong multicollinearity or other numerical problems.\n",
        "                  0           1\n",
        "Intercept -0.389356  111.114265\n",
        "X4         0.002948    0.032218\n",
        "\n",
        "[2 rows x 2 columns]\n"
       ]
      }
     ],
     "prompt_number": 37
    },
    {
     "cell_type": "markdown",
     "metadata": {},
     "source": [
      "Based on the results of the third model (d: X4) and given alpha as 0.05, the coefficient of X4 is between 0.002948 < 0.0176 < 0.032218. "
     ]
    },
    {
     "cell_type": "code",
     "collapsed": false,
     "input": [
      "e = smf.ols('Y ~ X2 + X3 + X5 + X6 + X7', data=data)\n",
      "fit = e.fit()\n",
      "print fit.summary()"
     ],
     "language": "python",
     "metadata": {},
     "outputs": [
      {
       "output_type": "stream",
       "stream": "stdout",
       "text": [
        "                            OLS Regression Results                            \n",
        "==============================================================================\n",
        "Dep. Variable:                      Y   R-squared:                       0.268\n",
        "Model:                            OLS   Adj. R-squared:                  0.186\n",
        "Method:                 Least Squares   F-statistic:                     3.291\n",
        "Date:                Wed, 30 Apr 2014   Prob (F-statistic):             0.0129\n",
        "Time:                        21:12:27   Log-Likelihood:                -240.78\n",
        "No. Observations:                  51   AIC:                             493.6\n",
        "Df Residuals:                      45   BIC:                             505.1\n",
        "Df Model:                           5                                         \n",
        "==============================================================================\n",
        "                 coef    std err          t      P>|t|      [95.0% Conf. Int.]\n",
        "------------------------------------------------------------------------------\n",
        "Intercept    162.3245    250.054      0.649      0.520      -341.309   665.959\n",
        "X2             7.3073      2.924      2.499      0.016         1.419    13.196\n",
        "X3             0.9717      0.610      1.592      0.118        -0.258     2.201\n",
        "X5             0.8447      0.421      2.005      0.051        -0.004     1.693\n",
        "X6            -3.7815      5.506     -0.687      0.496       -14.872     7.309\n",
        "X7            -2.8603      1.036     -2.760      0.008        -4.947    -0.773\n",
        "==============================================================================\n",
        "Omnibus:                       50.377   Durbin-Watson:                   1.594\n",
        "Prob(Omnibus):                  0.000   Jarque-Bera (JB):              252.496\n",
        "Skew:                           2.572   Prob(JB):                     1.48e-55\n",
        "Kurtosis:                      12.611   Cond. No.                     5.43e+03\n",
        "==============================================================================\n",
        "\n",
        "Warnings:\n",
        "[1] The condition number is large, 5.43e+03. This might indicate that there are\n",
        "strong multicollinearity or other numerical problems.\n"
       ]
      }
     ],
     "prompt_number": 39
    },
    {
     "cell_type": "markdown",
     "metadata": {},
     "source": [
      "The first model accounts for 5.3% more of the variation in sales using the above model (a)."
     ]
    },
    {
     "cell_type": "markdown",
     "metadata": {},
     "source": [
      "---"
     ]
    },
    {
     "cell_type": "code",
     "collapsed": false,
     "input": [],
     "language": "python",
     "metadata": {},
     "outputs": []
    },
    {
     "cell_type": "markdown",
     "metadata": {},
     "source": [
      "Level 2\n",
      "-------\n",
      "A criminologist studying the relationship between income level and assults in U.S. cities (among other things) collected the following data for 2215 communities. The dataset can be found in the [UCI machine learning site](http://archive.ics.uci.edu/ml/datasets/Communities+and+Crime+Unnormalized).\n",
      "\n",
      "We are interested in the per capita assult rate and its relation to median income."
     ]
    },
    {
     "cell_type": "code",
     "collapsed": false,
     "input": [
      "crime = pd.read_csv(\"http://archive.ics.uci.edu/ml/machine-learning-databases/00211/CommViolPredUnnormalizedData.txt\", header = None, na_values  = '?',\n",
      "                    names = ['communityname', 'state', 'countyCode', 'communityCode', 'fold', 'population', 'householdsize', 'racepctblack', 'racePctWhite', 'racePctAsian', 'racePctHisp', 'agePct12t21', 'agePct12t29', 'agePct16t24', 'agePct65up', 'numbUrban', 'pctUrban', 'medIncome', 'pctWWage', 'pctWFarmSelf', 'pctWInvInc', 'pctWSocSec', 'pctWPubAsst', 'pctWRetire', 'medFamInc', 'perCapInc', 'whitePerCap', 'blackPerCap', 'indianPerCap', 'AsianPerCap', 'OtherPerCap', 'HispPerCap', 'NumUnderPov', 'PctPopUnderPov', 'PctLess9thGrade', 'PctNotHSGrad', 'PctBSorMore', 'PctUnemployed', 'PctEmploy', 'PctEmplManu', 'PctEmplProfServ', 'PctOccupManu', 'PctOccupMgmtProf', 'MalePctDivorce', 'MalePctNevMarr', 'FemalePctDiv', 'TotalPctDiv', 'PersPerFam', 'PctFam2Par', 'PctKids2Par', 'PctYoungKids2Par', 'PctTeen2Par', 'PctWorkMomYoungKids', 'PctWorkMom', 'NumKidsBornNeverMar', 'PctKidsBornNeverMar', 'NumImmig', 'PctImmigRecent', 'PctImmigRec5', 'PctImmigRec8', 'PctImmigRec10', 'PctRecentImmig', 'PctRecImmig5', 'PctRecImmig8', 'PctRecImmig10', 'PctSpeakEnglOnly', 'PctNotSpeakEnglWell', 'PctLargHouseFam', 'PctLargHouseOccup', 'PersPerOccupHous', 'PersPerOwnOccHous', 'PersPerRentOccHous', 'PctPersOwnOccup', 'PctPersDenseHous', 'PctHousLess3BR', 'MedNumBR', 'HousVacant', 'PctHousOccup', 'PctHousOwnOcc', 'PctVacantBoarded', 'PctVacMore6Mos', 'MedYrHousBuilt', 'PctHousNoPhone', 'PctWOFullPlumb', 'OwnOccLowQuart', 'OwnOccMedVal', 'OwnOccHiQuart', 'OwnOccQrange', 'RentLowQ', 'RentMedian', 'RentHighQ', 'RentQrange', 'MedRent', 'MedRentPctHousInc', 'MedOwnCostPctInc', 'MedOwnCostPctIncNoMtg', 'NumInShelters', 'NumStreet', 'PctForeignBorn', 'PctBornSameState', 'PctSameHouse85', 'PctSameCity85', 'PctSameState85', 'LemasSwornFT', 'LemasSwFTPerPop', 'LemasSwFTFieldOps', 'LemasSwFTFieldPerPop', 'LemasTotalReq', 'LemasTotReqPerPop', 'PolicReqPerOffic', 'PolicPerPop', 'RacialMatchCommPol', 'PctPolicWhite', 'PctPolicBlack', 'PctPolicHisp', 'PctPolicAsian', 'PctPolicMinor', 'OfficAssgnDrugUnits', 'NumKindsDrugsSeiz', 'PolicAveOTWorked', 'LandArea', 'PopDens', 'PctUsePubTrans', 'PolicCars', 'PolicOperBudg', 'LemasPctPolicOnPatr', 'LemasGangUnitDeploy', 'LemasPctOfficDrugUn', 'PolicBudgPerPop', 'murders', 'murdPerPop', 'rapes', 'rapesPerPop', 'robberies', 'robbbPerPop', 'assaults', 'assaultPerPop', 'burglaries', 'burglPerPop', 'larcenies', 'larcPerPop', 'autoTheft', 'autoTheftPerPop', 'arsons', 'arsonsPerPop', 'ViolentCrimesPerPop', 'nonViolPerPop'])"
     ],
     "language": "python",
     "metadata": {},
     "outputs": []
    },
    {
     "cell_type": "markdown",
     "metadata": {},
     "source": [
      "1. Fit a simple linear regression model to the data with `np.log(crime.assaults)` as the dependent variable and `np.log(crime.medIncome)` as the independent variable. Plot the estimated regression line.\n",
      "\n",
      "4. Test whether there is a linear relationship between `assaults` and `medIncome` at level $\\alpha=0.05$. State the null hypothesis, the alternative, the conclusion and the $p$-value.\n",
      "\n",
      "5. Give a 95% confidence interval for the slope of the regression line. Interpret your interval.\n",
      "\n",
      "6. Report the $R^2$ and the adjusted $R^2$ of the model, as well as an estimate of the variance of the errors in the model.\n",
      "\n",
      "7. Go to [archive.ics.uci.edu/ml/datasets/Communities+and+Crime+Unnormalized](http://archive.ics.uci.edu/ml/datasets/Communities+and+Crime+Unnormalized) and pick out a few other factors that might help you predict `assults`."
     ]
    }
   ],
   "metadata": {}
  }
 ]
}