{
 "metadata": {
  "name": "",
  "signature": "sha256:8114f0bf299867fdb970b5a55735a8771d99a3454a92d07a5c4e4f9b87319cd0"
 },
 "nbformat": 3,
 "nbformat_minor": 0,
 "worksheets": [
  {
   "cells": [
    {
     "cell_type": "markdown",
     "metadata": {},
     "source": [
      "Lab\n",
      "==========================================\n",
      "Regularization and Imputation\n",
      "------------------------------------------\n",
      "Alessandro D. Gagliardi  \n",
      "*(adapted from Olivier Grisel's tutorial)*"
     ]
    },
    {
     "cell_type": "code",
     "collapsed": false,
     "input": [
      "%matplotlib inline\n",
      "import matplotlib.pyplot as plt\n",
      "import numpy as np\n",
      "import pandas as pd\n",
      "from sklearn.grid_search import GridSearchCV"
     ],
     "language": "python",
     "metadata": {},
     "outputs": [],
     "prompt_number": 48
    },
    {
     "cell_type": "heading",
     "level": 2,
     "metadata": {},
     "source": [
      "Loading tabular data from the UCI machine learning site in a pandas Data Frame"
     ]
    },
    {
     "cell_type": "markdown",
     "metadata": {},
     "source": [
      "Let us have a look at the Communities and Crime Unnormalized Data Set at:\n",
      "\n",
      "[http://archive.ics.uci.edu/ml/datasets/Communities+and+Crime+Unnormalized](http://archive.ics.uci.edu/ml/datasets/Communities+and+Crime+Unnormalized)\n",
      "\n",
      "We can load the CSV file as a pandas data frame in one line:"
     ]
    },
    {
     "cell_type": "code",
     "collapsed": false,
     "input": [
      "crime = pd.read_csv(\"http://archive.ics.uci.edu/ml/machine-learning-databases/00211/CommViolPredUnnormalizedData.txt\", header = None, na_values  = '?',\n",
      "                    names = ['communityname', 'state', 'countyCode', 'communityCode', 'fold', 'population', 'householdsize', 'racepctblack', 'racePctWhite', 'racePctAsian', 'racePctHisp', 'agePct12t21', 'agePct12t29', 'agePct16t24', 'agePct65up', 'numbUrban', 'pctUrban', 'medIncome', 'pctWWage', 'pctWFarmSelf', 'pctWInvInc', 'pctWSocSec', 'pctWPubAsst', 'pctWRetire', 'medFamInc', 'perCapInc', 'whitePerCap', 'blackPerCap', 'indianPerCap', 'AsianPerCap', 'OtherPerCap', 'HispPerCap', 'NumUnderPov', 'PctPopUnderPov', 'PctLess9thGrade', 'PctNotHSGrad', 'PctBSorMore', 'PctUnemployed', 'PctEmploy', 'PctEmplManu', 'PctEmplProfServ', 'PctOccupManu', 'PctOccupMgmtProf', 'MalePctDivorce', 'MalePctNevMarr', 'FemalePctDiv', 'TotalPctDiv', 'PersPerFam', 'PctFam2Par', 'PctKids2Par', 'PctYoungKids2Par', 'PctTeen2Par', 'PctWorkMomYoungKids', 'PctWorkMom', 'NumKidsBornNeverMar', 'PctKidsBornNeverMar', 'NumImmig', 'PctImmigRecent', 'PctImmigRec5', 'PctImmigRec8', 'PctImmigRec10', 'PctRecentImmig', 'PctRecImmig5', 'PctRecImmig8', 'PctRecImmig10', 'PctSpeakEnglOnly', 'PctNotSpeakEnglWell', 'PctLargHouseFam', 'PctLargHouseOccup', 'PersPerOccupHous', 'PersPerOwnOccHous', 'PersPerRentOccHous', 'PctPersOwnOccup', 'PctPersDenseHous', 'PctHousLess3BR', 'MedNumBR', 'HousVacant', 'PctHousOccup', 'PctHousOwnOcc', 'PctVacantBoarded', 'PctVacMore6Mos', 'MedYrHousBuilt', 'PctHousNoPhone', 'PctWOFullPlumb', 'OwnOccLowQuart', 'OwnOccMedVal', 'OwnOccHiQuart', 'OwnOccQrange', 'RentLowQ', 'RentMedian', 'RentHighQ', 'RentQrange', 'MedRent', 'MedRentPctHousInc', 'MedOwnCostPctInc', 'MedOwnCostPctIncNoMtg', 'NumInShelters', 'NumStreet', 'PctForeignBorn', 'PctBornSameState', 'PctSameHouse85', 'PctSameCity85', 'PctSameState85', 'LemasSwornFT', 'LemasSwFTPerPop', 'LemasSwFTFieldOps', 'LemasSwFTFieldPerPop', 'LemasTotalReq', 'LemasTotReqPerPop', 'PolicReqPerOffic', 'PolicPerPop', 'RacialMatchCommPol', 'PctPolicWhite', 'PctPolicBlack', 'PctPolicHisp', 'PctPolicAsian', 'PctPolicMinor', 'OfficAssgnDrugUnits', 'NumKindsDrugsSeiz', 'PolicAveOTWorked', 'LandArea', 'PopDens', 'PctUsePubTrans', 'PolicCars', 'PolicOperBudg', 'LemasPctPolicOnPatr', 'LemasGangUnitDeploy', 'LemasPctOfficDrugUn', 'PolicBudgPerPop', 'murders', 'murdPerPop', 'rapes', 'rapesPerPop', 'robberies', 'robbbPerPop', 'assaults', 'assaultPerPop', 'burglaries', 'burglPerPop', 'larcenies', 'larcPerPop', 'autoTheft', 'autoTheftPerPop', 'arsons', 'arsonsPerPop', 'ViolentCrimesPerPop', 'nonViolPerPop'])\n",
      "crime.head()"
     ],
     "language": "python",
     "metadata": {},
     "outputs": [
      {
       "html": [
        "<div style=\"max-height:1000px;max-width:1500px;overflow:auto;\">\n",
        "<table border=\"1\" class=\"dataframe\">\n",
        "  <thead>\n",
        "    <tr style=\"text-align: right;\">\n",
        "      <th></th>\n",
        "      <th>communityname</th>\n",
        "      <th>state</th>\n",
        "      <th>countyCode</th>\n",
        "      <th>communityCode</th>\n",
        "      <th>fold</th>\n",
        "      <th>population</th>\n",
        "      <th>householdsize</th>\n",
        "      <th>racepctblack</th>\n",
        "      <th>racePctWhite</th>\n",
        "      <th>racePctAsian</th>\n",
        "      <th>racePctHisp</th>\n",
        "      <th>agePct12t21</th>\n",
        "      <th>agePct12t29</th>\n",
        "      <th>agePct16t24</th>\n",
        "      <th>agePct65up</th>\n",
        "      <th>numbUrban</th>\n",
        "      <th>pctUrban</th>\n",
        "      <th>medIncome</th>\n",
        "      <th>pctWWage</th>\n",
        "      <th>pctWFarmSelf</th>\n",
        "      <th></th>\n",
        "    </tr>\n",
        "  </thead>\n",
        "  <tbody>\n",
        "    <tr>\n",
        "      <th>0</th>\n",
        "      <td> BerkeleyHeightstownship</td>\n",
        "      <td> NJ</td>\n",
        "      <td> 39</td>\n",
        "      <td>  5320</td>\n",
        "      <td> 1</td>\n",
        "      <td> 11980</td>\n",
        "      <td> 3.10</td>\n",
        "      <td> 1.37</td>\n",
        "      <td> 91.78</td>\n",
        "      <td> 6.50</td>\n",
        "      <td> 1.88</td>\n",
        "      <td> 12.47</td>\n",
        "      <td> 21.44</td>\n",
        "      <td> 10.93</td>\n",
        "      <td> 11.33</td>\n",
        "      <td> 11980</td>\n",
        "      <td> 100</td>\n",
        "      <td> 75122</td>\n",
        "      <td> 89.24</td>\n",
        "      <td> 1.55</td>\n",
        "      <td>...</td>\n",
        "    </tr>\n",
        "    <tr>\n",
        "      <th>1</th>\n",
        "      <td>          Marpletownship</td>\n",
        "      <td> PA</td>\n",
        "      <td> 45</td>\n",
        "      <td> 47616</td>\n",
        "      <td> 1</td>\n",
        "      <td> 23123</td>\n",
        "      <td> 2.82</td>\n",
        "      <td> 0.80</td>\n",
        "      <td> 95.57</td>\n",
        "      <td> 3.44</td>\n",
        "      <td> 0.85</td>\n",
        "      <td> 11.01</td>\n",
        "      <td> 21.30</td>\n",
        "      <td> 10.48</td>\n",
        "      <td> 17.18</td>\n",
        "      <td> 23123</td>\n",
        "      <td> 100</td>\n",
        "      <td> 47917</td>\n",
        "      <td> 78.99</td>\n",
        "      <td> 1.11</td>\n",
        "      <td>...</td>\n",
        "    </tr>\n",
        "    <tr>\n",
        "      <th>2</th>\n",
        "      <td>              Tigardcity</td>\n",
        "      <td> OR</td>\n",
        "      <td>NaN</td>\n",
        "      <td>   NaN</td>\n",
        "      <td> 1</td>\n",
        "      <td> 29344</td>\n",
        "      <td> 2.43</td>\n",
        "      <td> 0.74</td>\n",
        "      <td> 94.33</td>\n",
        "      <td> 3.43</td>\n",
        "      <td> 2.35</td>\n",
        "      <td> 11.36</td>\n",
        "      <td> 25.88</td>\n",
        "      <td> 11.01</td>\n",
        "      <td> 10.28</td>\n",
        "      <td> 29344</td>\n",
        "      <td> 100</td>\n",
        "      <td> 35669</td>\n",
        "      <td> 82.00</td>\n",
        "      <td> 1.15</td>\n",
        "      <td>...</td>\n",
        "    </tr>\n",
        "    <tr>\n",
        "      <th>3</th>\n",
        "      <td>        Gloversvillecity</td>\n",
        "      <td> NY</td>\n",
        "      <td> 35</td>\n",
        "      <td> 29443</td>\n",
        "      <td> 1</td>\n",
        "      <td> 16656</td>\n",
        "      <td> 2.40</td>\n",
        "      <td> 1.70</td>\n",
        "      <td> 97.35</td>\n",
        "      <td> 0.50</td>\n",
        "      <td> 0.70</td>\n",
        "      <td> 12.55</td>\n",
        "      <td> 25.20</td>\n",
        "      <td> 12.19</td>\n",
        "      <td> 17.57</td>\n",
        "      <td>     0</td>\n",
        "      <td>   0</td>\n",
        "      <td> 20580</td>\n",
        "      <td> 68.15</td>\n",
        "      <td> 0.24</td>\n",
        "      <td>...</td>\n",
        "    </tr>\n",
        "    <tr>\n",
        "      <th>4</th>\n",
        "      <td>             Bemidjicity</td>\n",
        "      <td> MN</td>\n",
        "      <td>  7</td>\n",
        "      <td>  5068</td>\n",
        "      <td> 1</td>\n",
        "      <td> 11245</td>\n",
        "      <td> 2.76</td>\n",
        "      <td> 0.53</td>\n",
        "      <td> 89.16</td>\n",
        "      <td> 1.17</td>\n",
        "      <td> 0.52</td>\n",
        "      <td> 24.46</td>\n",
        "      <td> 40.53</td>\n",
        "      <td> 28.69</td>\n",
        "      <td> 12.65</td>\n",
        "      <td>     0</td>\n",
        "      <td>   0</td>\n",
        "      <td> 17390</td>\n",
        "      <td> 69.33</td>\n",
        "      <td> 0.55</td>\n",
        "      <td>...</td>\n",
        "    </tr>\n",
        "  </tbody>\n",
        "</table>\n",
        "<p>5 rows \u00d7 147 columns</p>\n",
        "</div>"
       ],
       "metadata": {},
       "output_type": "pyout",
       "prompt_number": 2,
       "text": [
        "             communityname state  countyCode  communityCode  fold  population  \\\n",
        "0  BerkeleyHeightstownship    NJ          39           5320     1       11980   \n",
        "1           Marpletownship    PA          45          47616     1       23123   \n",
        "2               Tigardcity    OR         NaN            NaN     1       29344   \n",
        "3         Gloversvillecity    NY          35          29443     1       16656   \n",
        "4              Bemidjicity    MN           7           5068     1       11245   \n",
        "\n",
        "   householdsize  racepctblack  racePctWhite  racePctAsian  racePctHisp  \\\n",
        "0           3.10          1.37         91.78          6.50         1.88   \n",
        "1           2.82          0.80         95.57          3.44         0.85   \n",
        "2           2.43          0.74         94.33          3.43         2.35   \n",
        "3           2.40          1.70         97.35          0.50         0.70   \n",
        "4           2.76          0.53         89.16          1.17         0.52   \n",
        "\n",
        "   agePct12t21  agePct12t29  agePct16t24  agePct65up  numbUrban  pctUrban  \\\n",
        "0        12.47        21.44        10.93       11.33      11980       100   \n",
        "1        11.01        21.30        10.48       17.18      23123       100   \n",
        "2        11.36        25.88        11.01       10.28      29344       100   \n",
        "3        12.55        25.20        12.19       17.57          0         0   \n",
        "4        24.46        40.53        28.69       12.65          0         0   \n",
        "\n",
        "   medIncome  pctWWage  pctWFarmSelf      \n",
        "0      75122     89.24          1.55 ...  \n",
        "1      47917     78.99          1.11 ...  \n",
        "2      35669     82.00          1.15 ...  \n",
        "3      20580     68.15          0.24 ...  \n",
        "4      17390     69.33          0.55 ...  \n",
        "\n",
        "[5 rows x 147 columns]"
       ]
      }
     ],
     "prompt_number": 2
    },
    {
     "cell_type": "markdown",
     "metadata": {},
     "source": [
      "### Attribute Information:\n",
      "```\n",
      "(125 predictive, 4 non-predictive, 18 potential goal) \n",
      "-- communityname: Community name - not predictive - for information only (string) \n",
      "-- state: US state (by 2 letter postal abbreviation)(nominal) \n",
      "-- countyCode: numeric code for county - not predictive, and many missing values (numeric) \n",
      "-- communityCode: numeric code for community - not predictive and many missing values (numeric) \n",
      "-- fold: fold number for non-random 10 fold cross validation, potentially useful for debugging, paired tests - not predictive (numeric - integer) \n",
      "\n",
      "-- population: population for community: (numeric - expected to be integer) \n",
      "-- householdsize: mean people per household (numeric - decimal) \n",
      "-- racepctblack: percentage of population that is african american (numeric - decimal) \n",
      "-- racePctWhite: percentage of population that is caucasian (numeric - decimal) \n",
      "-- racePctAsian: percentage of population that is of asian heritage (numeric - decimal) \n",
      "-- racePctHisp: percentage of population that is of hispanic heritage (numeric - decimal) \n",
      "-- agePct12t21: percentage of population that is 12-21 in age (numeric - decimal) \n",
      "-- agePct12t29: percentage of population that is 12-29 in age (numeric - decimal) \n",
      "-- agePct16t24: percentage of population that is 16-24 in age (numeric - decimal) \n",
      "-- agePct65up: percentage of population that is 65 and over in age (numeric - decimal) \n",
      "-- numbUrban: number of people living in areas classified as urban (numeric - expected to be integer) \n",
      "-- pctUrban: percentage of people living in areas classified as urban (numeric - decimal) \n",
      "-- medIncome: median household income (numeric - may be integer) \n",
      "-- pctWWage: percentage of households with wage or salary income in 1989 (numeric - decimal) \n",
      "-- pctWFarmSelf: percentage of households with farm or self employment income in 1989 (numeric - decimal) \n",
      "-- pctWInvInc: percentage of households with investment / rent income in 1989 (numeric - decimal) \n",
      "-- pctWSocSec: percentage of households with social security income in 1989 (numeric - decimal) \n",
      "-- pctWPubAsst: percentage of households with public assistance income in 1989 (numeric - decimal) \n",
      "-- pctWRetire: percentage of households with retirement income in 1989 (numeric - decimal) \n",
      "-- medFamInc: median family income (differs from household income for non-family households) (numeric - may be integer) \n",
      "-- perCapInc: per capita income (numeric - decimal) \n",
      "-- whitePerCap: per capita income for caucasians (numeric - decimal) \n",
      "-- blackPerCap: per capita income for african americans (numeric - decimal) \n",
      "-- indianPerCap: per capita income for native americans (numeric - decimal) \n",
      "-- AsianPerCap: per capita income for people with asian heritage (numeric - decimal) \n",
      "-- OtherPerCap: per capita income for people with 'other' heritage (numeric - decimal) \n",
      "-- HispPerCap: per capita income for people with hispanic heritage (numeric - decimal) \n",
      "-- NumUnderPov: number of people under the poverty level (numeric - expected to be integer) \n",
      "-- PctPopUnderPov: percentage of people under the poverty level (numeric - decimal) \n",
      "-- PctLess9thGrade: percentage of people 25 and over with less than a 9th grade education (numeric - decimal) \n",
      "-- PctNotHSGrad: percentage of people 25 and over that are not high school graduates (numeric - decimal) \n",
      "-- PctBSorMore: percentage of people 25 and over with a bachelors degree or higher education (numeric - decimal) \n",
      "-- PctUnemployed: percentage of people 16 and over, in the labor force, and unemployed (numeric - decimal) \n",
      "-- PctEmploy: percentage of people 16 and over who are employed (numeric - decimal) \n",
      "-- PctEmplManu: percentage of people 16 and over who are employed in manufacturing (numeric - decimal) \n",
      "-- PctEmplProfServ: percentage of people 16 and over who are employed in professional services (numeric - decimal) \n",
      "-- PctOccupManu: percentage of people 16 and over who are employed in manufacturing (numeric - decimal) #### No longer sure of difference from PctEmplManu - may include unemployed manufacturing workers #### \n",
      "-- PctOccupMgmtProf: percentage of people 16 and over who are employed in management or professional occupations (numeric - decimal) \n",
      "-- MalePctDivorce: percentage of males who are divorced (numeric - decimal) \n",
      "-- MalePctNevMarr: percentage of males who have never married (numeric - decimal) \n",
      "-- FemalePctDiv: percentage of females who are divorced (numeric - decimal) \n",
      "-- TotalPctDiv: percentage of population who are divorced (numeric - decimal) \n",
      "-- PersPerFam: mean number of people per family (numeric - decimal) \n",
      "-- PctFam2Par: percentage of families (with kids) that are headed by two parents (numeric - decimal) \n",
      "-- PctKids2Par: percentage of kids in family housing with two parents (numeric - decimal) \n",
      "-- PctYoungKids2Par: percent of kids 4 and under in two parent households (numeric - decimal) \n",
      "-- PctTeen2Par: percent of kids age 12-17 in two parent households (numeric - decimal) \n",
      "-- PctWorkMomYoungKids: percentage of moms of kids 6 and under in labor force (numeric - decimal) \n",
      "-- PctWorkMom: percentage of moms of kids under 18 in labor force (numeric - decimal) \n",
      "-- NumKidsBornNeverMar: number of kids born to never married (numeric - expected to be integer) \n",
      "-- PctKidsBornNeverMar: percentage of kids born to never married (numeric - decimal) \n",
      "-- NumImmig: total number of people known to be foreign born (numeric - expected to be integer) \n",
      "-- PctImmigRecent: percentage of _immigrants_ who immigated within last 3 years (numeric - decimal) \n",
      "-- PctImmigRec5: percentage of _immigrants_ who immigated within last 5 years (numeric - decimal) \n",
      "-- PctImmigRec8: percentage of _immigrants_ who immigated within last 8 years (numeric - decimal) \n",
      "-- PctImmigRec10: percentage of _immigrants_ who immigated within last 10 years (numeric - decimal) \n",
      "-- PctRecentImmig: percent of _population_ who have immigrated within the last 3 years (numeric - decimal) \n",
      "-- PctRecImmig5: percent of _population_ who have immigrated within the last 5 years (numeric - decimal) \n",
      "-- PctRecImmig8: percent of _population_ who have immigrated within the last 8 years (numeric - decimal) \n",
      "-- PctRecImmig10: percent of _population_ who have immigrated within the last 10 years (numeric - decimal) \n",
      "-- PctSpeakEnglOnly: percent of people who speak only English (numeric - decimal) \n",
      "-- PctNotSpeakEnglWell: percent of people who do not speak English well (numeric - decimal) \n",
      "-- PctLargHouseFam: percent of family households that are large (6 or more) (numeric - decimal) \n",
      "-- PctLargHouseOccup: percent of all occupied households that are large (6 or more people) (numeric - decimal) \n",
      "-- PersPerOccupHous: mean persons per household (numeric - decimal) \n",
      "-- PersPerOwnOccHous: mean persons per owner occupied household (numeric - decimal) \n",
      "-- PersPerRentOccHous: mean persons per rental household (numeric - decimal) \n",
      "-- PctPersOwnOccup: percent of people in owner occupied households (numeric - decimal) \n",
      "-- PctPersDenseHous: percent of persons in dense housing (more than 1 person per room) (numeric - decimal) \n",
      "-- PctHousLess3BR: percent of housing units with less than 3 bedrooms (numeric - decimal) \n",
      "-- MedNumBR: median number of bedrooms (numeric - decimal) \n",
      "-- HousVacant: number of vacant households (numeric - expected to be integer) \n",
      "-- PctHousOccup: percent of housing occupied (numeric - decimal) \n",
      "-- PctHousOwnOcc: percent of households owner occupied (numeric - decimal) \n",
      "-- PctVacantBoarded: percent of vacant housing that is boarded up (numeric - decimal) \n",
      "-- PctVacMore6Mos: percent of vacant housing that has been vacant more than 6 months (numeric - decimal) \n",
      "-- MedYrHousBuilt: median year housing units built (numeric - may be integer) \n",
      "-- PctHousNoPhone: percent of occupied housing units without phone (in 1990, this was rare!) (numeric - decimal) \n",
      "-- PctWOFullPlumb: percent of housing without complete plumbing facilities (numeric - decimal) \n",
      "-- OwnOccLowQuart: owner occupied housing - lower quartile value (numeric - decimal) \n",
      "-- OwnOccMedVal: owner occupied housing - median value (numeric - decimal) \n",
      "-- OwnOccHiQuart: owner occupied housing - upper quartile value (numeric - decimal) \n",
      "-- OwnOccQrange: owner occupied housing - difference between upper quartile and lower quartile values (numeric - decimal) \n",
      "-- RentLowQ: rental housing - lower quartile rent (numeric - decimal) \n",
      "-- RentMedian: rental housing - median rent (Census variable H32B from file STF1A) (numeric - decimal) \n",
      "-- RentHighQ: rental housing - upper quartile rent (numeric - decimal) \n",
      "-- RentQrange: rental housing - difference between upper quartile and lower quartile rent (numeric - decimal) \n",
      "-- MedRent: median gross rent (Census variable H43A from file STF3A - includes utilities) (numeric - decimal) \n",
      "-- MedRentPctHousInc: median gross rent as a percentage of household income (numeric - decimal) \n",
      "-- MedOwnCostPctInc: median owners cost as a percentage of household income - for owners with a mortgage (numeric - decimal) \n",
      "-- MedOwnCostPctIncNoMtg: median owners cost as a percentage of household income - for owners without a mortgage (numeric - decimal) \n",
      "-- NumInShelters: number of people in homeless shelters (numeric - expected to be integer) \n",
      "-- NumStreet: number of homeless people counted in the street (numeric - expected to be integer) \n",
      "-- PctForeignBorn: percent of people foreign born (numeric - decimal) \n",
      "-- PctBornSameState: percent of people born in the same state as currently living (numeric - decimal) \n",
      "-- PctSameHouse85: percent of people living in the same house as in 1985 (5 years before) (numeric - decimal) \n",
      "-- PctSameCity85: percent of people living in the same city as in 1985 (5 years before) (numeric - decimal) \n",
      "-- PctSameState85: percent of people living in the same state as in 1985 (5 years before) (numeric - decimal) \n",
      "-- LemasSwornFT: number of sworn full time police officers (numeric - expected to be integer) \n",
      "-- LemasSwFTPerPop: sworn full time police officers per 100K population (numeric - decimal) \n",
      "-- LemasSwFTFieldOps: number of sworn full time police officers in field operations (on the street as opposed to administrative etc) (numeric - expected to be integer) \n",
      "-- LemasSwFTFieldPerPop: sworn full time police officers in field operations (on the street as opposed to administrative etc) per 100K population (numeric - decimal) \n",
      "-- LemasTotalReq: total requests for police (numeric - expected to be integer) \n",
      "-- LemasTotReqPerPop: total requests for police per 100K popuation (numeric - decimal) \n",
      "-- PolicReqPerOffic: total requests for police per police officer (numeric - decimal) \n",
      "-- PolicPerPop: police officers per 100K population (numeric - decimal) \n",
      "-- RacialMatchCommPol: a measure of the racial match between the community and the police force. High values indicate proportions in community and police force are similar (numeric - decimal) \n",
      "-- PctPolicWhite: percent of police that are caucasian (numeric - decimal) \n",
      "-- PctPolicBlack: percent of police that are african american (numeric - decimal) \n",
      "-- PctPolicHisp: percent of police that are hispanic (numeric - decimal) \n",
      "-- PctPolicAsian: percent of police that are asian (numeric - decimal) \n",
      "-- PctPolicMinor: percent of police that are minority of any kind (numeric - decimal) \n",
      "-- OfficAssgnDrugUnits: number of officers assigned to special drug units (numeric - expected to be integer) \n",
      "-- NumKindsDrugsSeiz: number of different kinds of drugs seized (numeric - expected to be integer) \n",
      "-- PolicAveOTWorked: police average overtime worked (numeric - decimal) \n",
      "-- LandArea: land area in square miles (numeric - decimal) \n",
      "-- PopDens: population density in persons per square mile (numeric - decimal) \n",
      "-- PctUsePubTrans: percent of people using public transit for commuting (numeric - decimal) \n",
      "-- PolicCars: number of police cars (numeric - expected to be integer) \n",
      "-- PolicOperBudg: police operating budget (numeric - may be integer) \n",
      "-- LemasPctPolicOnPatr: percent of sworn full time police officers on patrol (numeric - decimal) \n",
      "-- LemasGangUnitDeploy: gang unit deployed (numeric - integer - but really nominal - 0 means NO, 10 means YES, 5 means Part Time) \n",
      "-- LemasPctOfficDrugUn: percent of officers assigned to drug units (numeric - decimal) \n",
      "-- PolicBudgPerPop: police operating budget per population (numeric - decimal) \n",
      "\n",
      "-- murders: number of murders in 1995 (numeric - expected to be integer) potential GOAL attribute (to be predicted) \n",
      "-- murdPerPop: number of murders per 100K population (numeric - decimal) potential GOAL attribute (to be predicted) \n",
      "-- rapes: number of rapes in 1995 (numeric - expected to be integer) potential GOAL attribute (to be predicted) \n",
      "-- rapesPerPop: number of rapes per 100K population (numeric - decimal) potential GOAL attribute (to be predicted) \n",
      "-- robberies: number of robberies in 1995 (numeric - expected to be integer) potential GOAL attribute (to be predicted) \n",
      "-- robbbPerPop: number of robberies per 100K population (numeric - decimal) potential GOAL attribute (to be predicted) \n",
      "-- assaults: number of assaults in 1995 (numeric - expected to be integer) potential GOAL attribute (to be predicted) \n",
      "-- assaultPerPop: number of assaults per 100K population (numeric - decimal) potential GOAL attribute (to be predicted) \n",
      "-- burglaries: number of burglaries in 1995 (numeric - expected to be integer) potential GOAL attribute (to be predicted) \n",
      "-- burglPerPop: number of burglaries per 100K population (numeric - decimal) potential GOAL attribute (to be predicted) \n",
      "-- larcenies: number of larcenies in 1995 (numeric - expected to be integer) potential GOAL attribute (to be predicted) \n",
      "-- larcPerPop: number of larcenies per 100K population (numeric - decimal) potential GOAL attribute (to be predicted) \n",
      "-- autoTheft: number of auto thefts in 1995 (numeric - expected to be integer) potential GOAL attribute (to be predicted) \n",
      "-- autoTheftPerPop: number of auto thefts per 100K population (numeric - decimal) potential GOAL attribute (to be predicted) \n",
      "-- arsons: number of arsons in 1995 (numeric - expected to be integer) potential GOAL attribute (to be predicted) \n",
      "-- arsonsPerPop: number of arsons per 100K population (numeric - decimal) potential GOAL attribute (to be predicted) \n",
      "-- ViolentCrimesPerPop: total number of violent crimes per 100K popuation (numeric - decimal) GOAL attribute (to be predicted) \n",
      "-- nonViolPerPop: total number of non-violent crimes per 100K popuation (numeric - decimal) potential GOAL attribute (to be predicted) \n",
      "```"
     ]
    },
    {
     "cell_type": "code",
     "collapsed": false,
     "input": [
      "len(crime)"
     ],
     "language": "python",
     "metadata": {},
     "outputs": [
      {
       "metadata": {},
       "output_type": "pyout",
       "prompt_number": 3,
       "text": [
        "2215"
       ]
      }
     ],
     "prompt_number": 3
    },
    {
     "cell_type": "markdown",
     "metadata": {},
     "source": [
      "Our dataset has 2215 records, but some rows have missing values:"
     ]
    },
    {
     "cell_type": "code",
     "collapsed": false,
     "input": [
      "crime.count()"
     ],
     "language": "python",
     "metadata": {},
     "outputs": [
      {
       "metadata": {},
       "output_type": "pyout",
       "prompt_number": 4,
       "text": [
        "communityname    2215\n",
        "state            2215\n",
        "countyCode        994\n",
        "communityCode     991\n",
        "fold             2215\n",
        "population       2215\n",
        "householdsize    2215\n",
        "racepctblack     2215\n",
        "racePctWhite     2215\n",
        "racePctAsian     2215\n",
        "racePctHisp      2215\n",
        "agePct12t21      2215\n",
        "agePct12t29      2215\n",
        "agePct16t24      2215\n",
        "agePct65up       2215\n",
        "...\n",
        "rapesPerPop            2007\n",
        "robberies              2214\n",
        "robbbPerPop            2214\n",
        "assaults               2202\n",
        "assaultPerPop          2202\n",
        "burglaries             2212\n",
        "burglPerPop            2212\n",
        "larcenies              2212\n",
        "larcPerPop             2212\n",
        "autoTheft              2212\n",
        "autoTheftPerPop        2212\n",
        "arsons                 2124\n",
        "arsonsPerPop           2124\n",
        "ViolentCrimesPerPop    1994\n",
        "nonViolPerPop          2118\n",
        "Length: 147, dtype: int64"
       ]
      }
     ],
     "prompt_number": 4
    },
    {
     "cell_type": "markdown",
     "metadata": {},
     "source": [
      "This cannot be directly fed to a scikit-learn model:\n",
      "\n",
      "\n",
      "- the target variable (murder) is mixed with the input data\n",
      "\n",
      "- some attribute such as fold have no predictive values for the task\n",
      "\n",
      "- some attribute values are missing (nan: \"not a number\")"
     ]
    },
    {
     "cell_type": "heading",
     "level": 2,
     "metadata": {},
     "source": [
      "Predicting murder"
     ]
    },
    {
     "cell_type": "markdown",
     "metadata": {},
     "source": [
      "For this exercise, we will want to predict whether or not there is at least one murder using the 125 predictive features. Let us have a look at the `murders` column:"
     ]
    },
    {
     "cell_type": "code",
     "collapsed": false,
     "input": [
      "crime.murders.dtype"
     ],
     "language": "python",
     "metadata": {},
     "outputs": [
      {
       "metadata": {},
       "output_type": "pyout",
       "prompt_number": 5,
       "text": [
        "dtype('int64')"
       ]
      }
     ],
     "prompt_number": 5
    },
    {
     "cell_type": "markdown",
     "metadata": {},
     "source": [
      "`crime.murders` is an instance of the pandas `Series` class with an integer dtype:"
     ]
    },
    {
     "cell_type": "code",
     "collapsed": false,
     "input": [
      "murder = (crime.murders > 0).map(float)"
     ],
     "language": "python",
     "metadata": {},
     "outputs": [],
     "prompt_number": 6
    },
    {
     "cell_type": "code",
     "collapsed": false,
     "input": [
      "crime.murders.__class__.__module__, crime.murders.__class__.__name__"
     ],
     "language": "python",
     "metadata": {},
     "outputs": [
      {
       "metadata": {},
       "output_type": "pyout",
       "prompt_number": 7,
       "text": [
        "('pandas.core.series', 'Series')"
       ]
      }
     ],
     "prompt_number": 7
    },
    {
     "cell_type": "markdown",
     "metadata": {},
     "source": [
      "The `data` object is an instance pandas `DataFrame` class:"
     ]
    },
    {
     "cell_type": "code",
     "collapsed": false,
     "input": [
      "crime.__class__.__module__, crime.__class__.__name__"
     ],
     "language": "python",
     "metadata": {},
     "outputs": [
      {
       "metadata": {},
       "output_type": "pyout",
       "prompt_number": 8,
       "text": [
        "('pandas.core.frame', 'DataFrame')"
       ]
      }
     ],
     "prompt_number": 8
    },
    {
     "cell_type": "markdown",
     "metadata": {},
     "source": [
      "`Series` can be seen as homegeneous, 1D columns. `DataFrame` instances are heterogenous collections of columns with the same length.\n",
      "\n",
      "The original data frame can be aggregated by counting rows where `murders` is greater than zero:"
     ]
    },
    {
     "cell_type": "code",
     "collapsed": false,
     "input": [
      "from __future__ import division\n",
      "sum(crime.murders > 0) / len(crime)"
     ],
     "language": "python",
     "metadata": {},
     "outputs": [
      {
       "metadata": {},
       "output_type": "pyout",
       "prompt_number": 9,
       "text": [
        "0.53679458239277655"
       ]
      }
     ],
     "prompt_number": 9
    },
    {
     "cell_type": "markdown",
     "metadata": {},
     "source": [
      "From this the dataset, about 54% of the communities studied had at least one murder occur in them. \n",
      "\n",
      "We will convert this into a vector of boolean values representing whether there was a murder in the community as follows:"
     ]
    },
    {
     "cell_type": "code",
     "collapsed": false,
     "input": [
      "target = (crime.murders > 0).values"
     ],
     "language": "python",
     "metadata": {},
     "outputs": [],
     "prompt_number": 10
    },
    {
     "cell_type": "code",
     "collapsed": false,
     "input": [
      "type(target)"
     ],
     "language": "python",
     "metadata": {},
     "outputs": [
      {
       "metadata": {},
       "output_type": "pyout",
       "prompt_number": 11,
       "text": [
        "numpy.ndarray"
       ]
      }
     ],
     "prompt_number": 11
    },
    {
     "cell_type": "code",
     "collapsed": false,
     "input": [
      "target.dtype"
     ],
     "language": "python",
     "metadata": {},
     "outputs": [
      {
       "metadata": {},
       "output_type": "pyout",
       "prompt_number": 12,
       "text": [
        "dtype('bool')"
       ]
      }
     ],
     "prompt_number": 12
    },
    {
     "cell_type": "code",
     "collapsed": false,
     "input": [
      "target[:5]"
     ],
     "language": "python",
     "metadata": {},
     "outputs": [
      {
       "metadata": {},
       "output_type": "pyout",
       "prompt_number": 13,
       "text": [
        "array([False, False,  True, False, False], dtype=bool)"
       ]
      }
     ],
     "prompt_number": 13
    },
    {
     "cell_type": "heading",
     "level": 2,
     "metadata": {},
     "source": [
      "Training a predictive model on numerical features"
     ]
    },
    {
     "cell_type": "code",
     "collapsed": false,
     "input": [
      "features = crime[crime.columns[5:-18]]"
     ],
     "language": "python",
     "metadata": {},
     "outputs": [],
     "prompt_number": 14
    },
    {
     "cell_type": "markdown",
     "metadata": {},
     "source": [
      "Let's make sure that all of our features are numeric:"
     ]
    },
    {
     "cell_type": "code",
     "collapsed": false,
     "input": [
      "set(features.dtypes)"
     ],
     "language": "python",
     "metadata": {},
     "outputs": [
      {
       "metadata": {},
       "output_type": "pyout",
       "prompt_number": 15,
       "text": [
        "{dtype('int64'), dtype('float64')}"
       ]
      }
     ],
     "prompt_number": 15
    },
    {
     "cell_type": "markdown",
     "metadata": {},
     "source": [
      "Recall that we have missing values:"
     ]
    },
    {
     "cell_type": "code",
     "collapsed": false,
     "input": [
      "features.count()"
     ],
     "language": "python",
     "metadata": {},
     "outputs": [
      {
       "metadata": {},
       "output_type": "pyout",
       "prompt_number": 16,
       "text": [
        "population       2215\n",
        "householdsize    2215\n",
        "racepctblack     2215\n",
        "racePctWhite     2215\n",
        "racePctAsian     2215\n",
        "racePctHisp      2215\n",
        "agePct12t21      2215\n",
        "agePct12t29      2215\n",
        "agePct16t24      2215\n",
        "agePct65up       2215\n",
        "numbUrban        2215\n",
        "pctUrban         2215\n",
        "medIncome        2215\n",
        "pctWWage         2215\n",
        "pctWFarmSelf     2215\n",
        "...\n",
        "PctPolicHisp            343\n",
        "PctPolicAsian           343\n",
        "PctPolicMinor           343\n",
        "OfficAssgnDrugUnits     343\n",
        "NumKindsDrugsSeiz       343\n",
        "PolicAveOTWorked        343\n",
        "LandArea               2215\n",
        "PopDens                2215\n",
        "PctUsePubTrans         2215\n",
        "PolicCars               343\n",
        "PolicOperBudg           343\n",
        "LemasPctPolicOnPatr     343\n",
        "LemasGangUnitDeploy     343\n",
        "LemasPctOfficDrugUn    2215\n",
        "PolicBudgPerPop         343\n",
        "Length: 124, dtype: int64"
       ]
      }
     ],
     "prompt_number": 16
    },
    {
     "cell_type": "markdown",
     "metadata": {},
     "source": [
      "Let's use pandas `fillna` method to impute the missing data with median values:"
     ]
    },
    {
     "cell_type": "code",
     "collapsed": false,
     "input": [
      "median_features = features.dropna().median()\n",
      "median_features"
     ],
     "language": "python",
     "metadata": {},
     "outputs": [
      {
       "metadata": {},
       "output_type": "pyout",
       "prompt_number": 17,
       "text": [
        "population       95333.00\n",
        "householdsize        2.60\n",
        "racepctblack        11.76\n",
        "racePctWhite        76.03\n",
        "racePctAsian         1.78\n",
        "racePctHisp          5.40\n",
        "agePct12t21         13.96\n",
        "agePct12t29         28.52\n",
        "agePct16t24         13.77\n",
        "agePct65up          11.54\n",
        "numbUrban        95027.00\n",
        "pctUrban           100.00\n",
        "medIncome        27352.00\n",
        "pctWWage            76.99\n",
        "pctWFarmSelf         0.57\n",
        "...\n",
        "PctPolicHisp                  2.04\n",
        "PctPolicAsian                 0.00\n",
        "PctPolicMinor                11.37\n",
        "OfficAssgnDrugUnits          12.00\n",
        "NumKindsDrugsSeiz             9.00\n",
        "PolicAveOTWorked             98.70\n",
        "LandArea                     32.00\n",
        "PopDens                    3013.50\n",
        "PctUsePubTrans                3.26\n",
        "PolicCars                    86.00\n",
        "PolicOperBudg          11164110.00\n",
        "LemasPctPolicOnPatr          89.58\n",
        "LemasGangUnitDeploy           5.00\n",
        "LemasPctOfficDrugUn           5.47\n",
        "PolicBudgPerPop          114582.00\n",
        "Length: 124, dtype: float64"
       ]
      }
     ],
     "prompt_number": 17
    },
    {
     "cell_type": "code",
     "collapsed": false,
     "input": [
      "imputed_features = features.fillna(median_features)\n",
      "imputed_features.count()"
     ],
     "language": "python",
     "metadata": {},
     "outputs": [
      {
       "metadata": {},
       "output_type": "pyout",
       "prompt_number": 21,
       "text": [
        "population       2215\n",
        "householdsize    2215\n",
        "racepctblack     2215\n",
        "racePctWhite     2215\n",
        "racePctAsian     2215\n",
        "racePctHisp      2215\n",
        "agePct12t21      2215\n",
        "agePct12t29      2215\n",
        "agePct16t24      2215\n",
        "agePct65up       2215\n",
        "numbUrban        2215\n",
        "pctUrban         2215\n",
        "medIncome        2215\n",
        "pctWWage         2215\n",
        "pctWFarmSelf     2215\n",
        "...\n",
        "PctPolicHisp           2215\n",
        "PctPolicAsian          2215\n",
        "PctPolicMinor          2215\n",
        "OfficAssgnDrugUnits    2215\n",
        "NumKindsDrugsSeiz      2215\n",
        "PolicAveOTWorked       2215\n",
        "LandArea               2215\n",
        "PopDens                2215\n",
        "PctUsePubTrans         2215\n",
        "PolicCars              2215\n",
        "PolicOperBudg          2215\n",
        "LemasPctPolicOnPatr    2215\n",
        "LemasGangUnitDeploy    2215\n",
        "LemasPctOfficDrugUn    2215\n",
        "PolicBudgPerPop        2215\n",
        "Length: 124, dtype: int64"
       ]
      }
     ],
     "prompt_number": 21
    },
    {
     "cell_type": "markdown",
     "metadata": {},
     "source": [
      "Now that the data frame is clean, we can convert it into an homogeneous numpy array of floating point values:"
     ]
    },
    {
     "cell_type": "code",
     "collapsed": false,
     "input": [
      "features_array = imputed_features.values\n",
      "features_array"
     ],
     "language": "python",
     "metadata": {},
     "outputs": [
      {
       "metadata": {},
       "output_type": "pyout",
       "prompt_number": 22,
       "text": [
        "array([[  1.19800000e+04,   3.10000000e+00,   1.37000000e+00, ...,\n",
        "          5.00000000e+00,   0.00000000e+00,   1.14582000e+05],\n",
        "       [  2.31230000e+04,   2.82000000e+00,   8.00000000e-01, ...,\n",
        "          5.00000000e+00,   0.00000000e+00,   1.14582000e+05],\n",
        "       [  2.93440000e+04,   2.43000000e+00,   7.40000000e-01, ...,\n",
        "          5.00000000e+00,   0.00000000e+00,   1.14582000e+05],\n",
        "       ..., \n",
        "       [  3.28240000e+04,   2.46000000e+00,   5.20000000e-01, ...,\n",
        "          5.00000000e+00,   0.00000000e+00,   1.14582000e+05],\n",
        "       [  1.35470000e+04,   2.89000000e+00,   3.37000000e+00, ...,\n",
        "          5.00000000e+00,   0.00000000e+00,   1.14582000e+05],\n",
        "       [  2.88980000e+04,   2.61000000e+00,   2.39000000e+00, ...,\n",
        "          5.00000000e+00,   0.00000000e+00,   1.14582000e+05]])"
       ]
      }
     ],
     "prompt_number": 22
    },
    {
     "cell_type": "code",
     "collapsed": false,
     "input": [
      "from sklearn.cross_validation import train_test_split\n",
      "\n",
      "features_train, features_test, target_train, target_test = train_test_split(\n",
      "    features_array, target, test_size=0.20, random_state=0)"
     ],
     "language": "python",
     "metadata": {},
     "outputs": [],
     "prompt_number": 23
    },
    {
     "cell_type": "code",
     "collapsed": false,
     "input": [
      "features_train.shape"
     ],
     "language": "python",
     "metadata": {},
     "outputs": [
      {
       "metadata": {},
       "output_type": "pyout",
       "prompt_number": 24,
       "text": [
        "(1772, 124)"
       ]
      }
     ],
     "prompt_number": 24
    },
    {
     "cell_type": "code",
     "collapsed": false,
     "input": [
      "features_test.shape"
     ],
     "language": "python",
     "metadata": {},
     "outputs": [
      {
       "metadata": {},
       "output_type": "pyout",
       "prompt_number": 25,
       "text": [
        "(443, 124)"
       ]
      }
     ],
     "prompt_number": 25
    },
    {
     "cell_type": "code",
     "collapsed": false,
     "input": [
      "target_train.shape"
     ],
     "language": "python",
     "metadata": {},
     "outputs": [
      {
       "metadata": {},
       "output_type": "pyout",
       "prompt_number": 26,
       "text": [
        "(1772,)"
       ]
      }
     ],
     "prompt_number": 26
    },
    {
     "cell_type": "code",
     "collapsed": false,
     "input": [
      "target_test.shape"
     ],
     "language": "python",
     "metadata": {},
     "outputs": [
      {
       "metadata": {},
       "output_type": "pyout",
       "prompt_number": 27,
       "text": [
        "(443,)"
       ]
      }
     ],
     "prompt_number": 27
    },
    {
     "cell_type": "markdown",
     "metadata": {},
     "source": [
      "Let's try our `Logit` model from `statsmodels`:"
     ]
    },
    {
     "cell_type": "code",
     "collapsed": false,
     "input": [
      "import statsmodels.api as sm\n",
      "\n",
      "lr = sm.Logit(target, features_array)\n",
      "lr.fit()"
     ],
     "language": "python",
     "metadata": {},
     "outputs": [
      {
       "ename": "LinAlgError",
       "evalue": "Singular matrix",
       "output_type": "pyerr",
       "traceback": [
        "\u001b[0;31m---------------------------------------------------------------------------\u001b[0m\n\u001b[0;31mLinAlgError\u001b[0m                               Traceback (most recent call last)",
        "\u001b[0;32m<ipython-input-28-a71284752702>\u001b[0m in \u001b[0;36m<module>\u001b[0;34m()\u001b[0m\n\u001b[1;32m      2\u001b[0m \u001b[0;34m\u001b[0m\u001b[0m\n\u001b[1;32m      3\u001b[0m \u001b[0mlr\u001b[0m \u001b[0;34m=\u001b[0m \u001b[0msm\u001b[0m\u001b[0;34m.\u001b[0m\u001b[0mLogit\u001b[0m\u001b[0;34m(\u001b[0m\u001b[0mtarget\u001b[0m\u001b[0;34m,\u001b[0m \u001b[0mfeatures_array\u001b[0m\u001b[0;34m)\u001b[0m\u001b[0;34m\u001b[0m\u001b[0m\n\u001b[0;32m----> 4\u001b[0;31m \u001b[0mlr\u001b[0m\u001b[0;34m.\u001b[0m\u001b[0mfit\u001b[0m\u001b[0;34m(\u001b[0m\u001b[0;34m)\u001b[0m\u001b[0;34m\u001b[0m\u001b[0m\n\u001b[0m",
        "\u001b[0;32m//anaconda/lib/python2.7/site-packages/statsmodels/discrete/discrete_model.pyc\u001b[0m in \u001b[0;36mfit\u001b[0;34m(self, start_params, method, maxiter, full_output, disp, callback, **kwargs)\u001b[0m\n\u001b[1;32m   1184\u001b[0m         bnryfit = super(Logit, self).fit(start_params=start_params,\n\u001b[1;32m   1185\u001b[0m                 \u001b[0mmethod\u001b[0m\u001b[0;34m=\u001b[0m\u001b[0mmethod\u001b[0m\u001b[0;34m,\u001b[0m \u001b[0mmaxiter\u001b[0m\u001b[0;34m=\u001b[0m\u001b[0mmaxiter\u001b[0m\u001b[0;34m,\u001b[0m \u001b[0mfull_output\u001b[0m\u001b[0;34m=\u001b[0m\u001b[0mfull_output\u001b[0m\u001b[0;34m,\u001b[0m\u001b[0;34m\u001b[0m\u001b[0m\n\u001b[0;32m-> 1186\u001b[0;31m                 disp=disp, callback=callback, **kwargs)\n\u001b[0m\u001b[1;32m   1187\u001b[0m         \u001b[0mdiscretefit\u001b[0m \u001b[0;34m=\u001b[0m \u001b[0mLogitResults\u001b[0m\u001b[0;34m(\u001b[0m\u001b[0mself\u001b[0m\u001b[0;34m,\u001b[0m \u001b[0mbnryfit\u001b[0m\u001b[0;34m)\u001b[0m\u001b[0;34m\u001b[0m\u001b[0m\n\u001b[1;32m   1188\u001b[0m         \u001b[0;32mreturn\u001b[0m \u001b[0mBinaryResultsWrapper\u001b[0m\u001b[0;34m(\u001b[0m\u001b[0mdiscretefit\u001b[0m\u001b[0;34m)\u001b[0m\u001b[0;34m\u001b[0m\u001b[0m\n",
        "\u001b[0;32m//anaconda/lib/python2.7/site-packages/statsmodels/discrete/discrete_model.pyc\u001b[0m in \u001b[0;36mfit\u001b[0;34m(self, start_params, method, maxiter, full_output, disp, callback, **kwargs)\u001b[0m\n\u001b[1;32m    162\u001b[0m         mlefit = super(DiscreteModel, self).fit(start_params=start_params,\n\u001b[1;32m    163\u001b[0m                 \u001b[0mmethod\u001b[0m\u001b[0;34m=\u001b[0m\u001b[0mmethod\u001b[0m\u001b[0;34m,\u001b[0m \u001b[0mmaxiter\u001b[0m\u001b[0;34m=\u001b[0m\u001b[0mmaxiter\u001b[0m\u001b[0;34m,\u001b[0m \u001b[0mfull_output\u001b[0m\u001b[0;34m=\u001b[0m\u001b[0mfull_output\u001b[0m\u001b[0;34m,\u001b[0m\u001b[0;34m\u001b[0m\u001b[0m\n\u001b[0;32m--> 164\u001b[0;31m                 disp=disp, callback=callback, **kwargs)\n\u001b[0m\u001b[1;32m    165\u001b[0m         \u001b[0;32mreturn\u001b[0m \u001b[0mmlefit\u001b[0m \u001b[0;31m# up to subclasses to wrap results\u001b[0m\u001b[0;34m\u001b[0m\u001b[0m\n\u001b[1;32m    166\u001b[0m \u001b[0;34m\u001b[0m\u001b[0m\n",
        "\u001b[0;32m//anaconda/lib/python2.7/site-packages/statsmodels/base/model.pyc\u001b[0m in \u001b[0;36mfit\u001b[0;34m(self, start_params, method, maxiter, full_output, disp, fargs, callback, retall, **kwargs)\u001b[0m\n\u001b[1;32m    355\u001b[0m                              \u001b[0mdisp\u001b[0m\u001b[0;34m=\u001b[0m\u001b[0mdisp\u001b[0m\u001b[0;34m,\u001b[0m \u001b[0mmaxiter\u001b[0m\u001b[0;34m=\u001b[0m\u001b[0mmaxiter\u001b[0m\u001b[0;34m,\u001b[0m \u001b[0mcallback\u001b[0m\u001b[0;34m=\u001b[0m\u001b[0mcallback\u001b[0m\u001b[0;34m,\u001b[0m\u001b[0;34m\u001b[0m\u001b[0m\n\u001b[1;32m    356\u001b[0m                              \u001b[0mretall\u001b[0m\u001b[0;34m=\u001b[0m\u001b[0mretall\u001b[0m\u001b[0;34m,\u001b[0m \u001b[0mfull_output\u001b[0m\u001b[0;34m=\u001b[0m\u001b[0mfull_output\u001b[0m\u001b[0;34m,\u001b[0m\u001b[0;34m\u001b[0m\u001b[0m\n\u001b[0;32m--> 357\u001b[0;31m                              hess=hess)\n\u001b[0m\u001b[1;32m    358\u001b[0m \u001b[0;34m\u001b[0m\u001b[0m\n\u001b[1;32m    359\u001b[0m         \u001b[0;32mif\u001b[0m \u001b[0;32mnot\u001b[0m \u001b[0mfull_output\u001b[0m\u001b[0;34m:\u001b[0m \u001b[0;31m# xopt should be None and retvals is argmin\u001b[0m\u001b[0;34m\u001b[0m\u001b[0m\n",
        "\u001b[0;32m//anaconda/lib/python2.7/site-packages/statsmodels/base/model.pyc\u001b[0m in \u001b[0;36m_fit_mle_newton\u001b[0;34m(f, score, start_params, fargs, kwargs, disp, maxiter, callback, retall, full_output, hess)\u001b[0m\n\u001b[1;32m    403\u001b[0m         \u001b[0mH\u001b[0m \u001b[0;34m=\u001b[0m \u001b[0mhess\u001b[0m\u001b[0;34m(\u001b[0m\u001b[0mnewparams\u001b[0m\u001b[0;34m)\u001b[0m\u001b[0;34m\u001b[0m\u001b[0m\n\u001b[1;32m    404\u001b[0m         \u001b[0moldparams\u001b[0m \u001b[0;34m=\u001b[0m \u001b[0mnewparams\u001b[0m\u001b[0;34m\u001b[0m\u001b[0m\n\u001b[0;32m--> 405\u001b[0;31m         newparams = oldparams - np.dot(np.linalg.inv(H),\n\u001b[0m\u001b[1;32m    406\u001b[0m                 score(oldparams))\n\u001b[1;32m    407\u001b[0m         \u001b[0;32mif\u001b[0m \u001b[0mretall\u001b[0m\u001b[0;34m:\u001b[0m\u001b[0;34m\u001b[0m\u001b[0m\n",
        "\u001b[0;32m//anaconda/lib/python2.7/site-packages/numpy/linalg/linalg.pyc\u001b[0m in \u001b[0;36minv\u001b[0;34m(a)\u001b[0m\n\u001b[1;32m    518\u001b[0m     \u001b[0msignature\u001b[0m \u001b[0;34m=\u001b[0m \u001b[0;34m'D->D'\u001b[0m \u001b[0;32mif\u001b[0m \u001b[0misComplexType\u001b[0m\u001b[0;34m(\u001b[0m\u001b[0mt\u001b[0m\u001b[0;34m)\u001b[0m \u001b[0;32melse\u001b[0m \u001b[0;34m'd->d'\u001b[0m\u001b[0;34m\u001b[0m\u001b[0m\n\u001b[1;32m    519\u001b[0m     \u001b[0mextobj\u001b[0m \u001b[0;34m=\u001b[0m \u001b[0mget_linalg_error_extobj\u001b[0m\u001b[0;34m(\u001b[0m\u001b[0m_raise_linalgerror_singular\u001b[0m\u001b[0;34m)\u001b[0m\u001b[0;34m\u001b[0m\u001b[0m\n\u001b[0;32m--> 520\u001b[0;31m     \u001b[0mainv\u001b[0m \u001b[0;34m=\u001b[0m \u001b[0m_umath_linalg\u001b[0m\u001b[0;34m.\u001b[0m\u001b[0minv\u001b[0m\u001b[0;34m(\u001b[0m\u001b[0ma\u001b[0m\u001b[0;34m,\u001b[0m \u001b[0msignature\u001b[0m\u001b[0;34m=\u001b[0m\u001b[0msignature\u001b[0m\u001b[0;34m,\u001b[0m \u001b[0mextobj\u001b[0m\u001b[0;34m=\u001b[0m\u001b[0mextobj\u001b[0m\u001b[0;34m)\u001b[0m\u001b[0;34m\u001b[0m\u001b[0m\n\u001b[0m\u001b[1;32m    521\u001b[0m     \u001b[0;32mreturn\u001b[0m \u001b[0mwrap\u001b[0m\u001b[0;34m(\u001b[0m\u001b[0mainv\u001b[0m\u001b[0;34m.\u001b[0m\u001b[0mastype\u001b[0m\u001b[0;34m(\u001b[0m\u001b[0mresult_t\u001b[0m\u001b[0;34m)\u001b[0m\u001b[0;34m)\u001b[0m\u001b[0;34m\u001b[0m\u001b[0m\n\u001b[1;32m    522\u001b[0m \u001b[0;34m\u001b[0m\u001b[0m\n",
        "\u001b[0;32m//anaconda/lib/python2.7/site-packages/numpy/linalg/linalg.pyc\u001b[0m in \u001b[0;36m_raise_linalgerror_singular\u001b[0;34m(err, flag)\u001b[0m\n\u001b[1;32m     88\u001b[0m \u001b[0;34m\u001b[0m\u001b[0m\n\u001b[1;32m     89\u001b[0m \u001b[0;32mdef\u001b[0m \u001b[0m_raise_linalgerror_singular\u001b[0m\u001b[0;34m(\u001b[0m\u001b[0merr\u001b[0m\u001b[0;34m,\u001b[0m \u001b[0mflag\u001b[0m\u001b[0;34m)\u001b[0m\u001b[0;34m:\u001b[0m\u001b[0;34m\u001b[0m\u001b[0m\n\u001b[0;32m---> 90\u001b[0;31m     \u001b[0;32mraise\u001b[0m \u001b[0mLinAlgError\u001b[0m\u001b[0;34m(\u001b[0m\u001b[0;34m\"Singular matrix\"\u001b[0m\u001b[0;34m)\u001b[0m\u001b[0;34m\u001b[0m\u001b[0m\n\u001b[0m\u001b[1;32m     91\u001b[0m \u001b[0;34m\u001b[0m\u001b[0m\n\u001b[1;32m     92\u001b[0m \u001b[0;32mdef\u001b[0m \u001b[0m_raise_linalgerror_nonposdef\u001b[0m\u001b[0;34m(\u001b[0m\u001b[0merr\u001b[0m\u001b[0;34m,\u001b[0m \u001b[0mflag\u001b[0m\u001b[0;34m)\u001b[0m\u001b[0;34m:\u001b[0m\u001b[0;34m\u001b[0m\u001b[0m\n",
        "\u001b[0;31mLinAlgError\u001b[0m: Singular matrix"
       ]
      }
     ],
     "prompt_number": 28
    },
    {
     "cell_type": "markdown",
     "metadata": {},
     "source": [
      "Let's try `LogisticRegression` from sklearn:"
     ]
    },
    {
     "cell_type": "code",
     "collapsed": false,
     "input": [
      "from sklearn.linear_model import LogisticRegression\n",
      "\n",
      "lr = LogisticRegression()\n",
      "lr.fit(features_array, target)"
     ],
     "language": "python",
     "metadata": {},
     "outputs": [
      {
       "metadata": {},
       "output_type": "pyout",
       "prompt_number": 32,
       "text": [
        "LogisticRegression(C=1.0, class_weight=None, dual=False, fit_intercept=True,\n",
        "          intercept_scaling=1, penalty='l2', random_state=None, tol=0.0001)"
       ]
      }
     ],
     "prompt_number": 32
    },
    {
     "cell_type": "markdown",
     "metadata": {},
     "source": [
      "Unfortunately, scikit-learn's models don't come with a `summary` function:"
     ]
    },
    {
     "cell_type": "code",
     "collapsed": false,
     "input": [
      "lr.summary()"
     ],
     "language": "python",
     "metadata": {},
     "outputs": [
      {
       "ename": "AttributeError",
       "evalue": "'LogisticRegression' object has no attribute 'summary'",
       "output_type": "pyerr",
       "traceback": [
        "\u001b[0;31m---------------------------------------------------------------------------\u001b[0m\n\u001b[0;31mAttributeError\u001b[0m                            Traceback (most recent call last)",
        "\u001b[0;32m<ipython-input-33-0d02b439cb69>\u001b[0m in \u001b[0;36m<module>\u001b[0;34m()\u001b[0m\n\u001b[0;32m----> 1\u001b[0;31m \u001b[0mlr\u001b[0m\u001b[0;34m.\u001b[0m\u001b[0msummary\u001b[0m\u001b[0;34m(\u001b[0m\u001b[0;34m)\u001b[0m\u001b[0;34m\u001b[0m\u001b[0m\n\u001b[0m",
        "\u001b[0;31mAttributeError\u001b[0m: 'LogisticRegression' object has no attribute 'summary'"
       ]
      }
     ],
     "prompt_number": 33
    },
    {
     "cell_type": "markdown",
     "metadata": {},
     "source": [
      "You can access the coefficients, though:"
     ]
    },
    {
     "cell_type": "code",
     "collapsed": false,
     "input": [
      "lr.coef_"
     ],
     "language": "python",
     "metadata": {},
     "outputs": [
      {
       "metadata": {},
       "output_type": "pyout",
       "prompt_number": 34,
       "text": [
        "array([[  2.89013299e-05,  -6.44336843e-08,   1.88693215e-05,\n",
        "         -2.31750113e-05,   2.24880997e-06,   2.07128264e-06,\n",
        "         -1.58985354e-06,  -5.14833462e-07,  -1.86353281e-06,\n",
        "         -2.43312759e-06,  -4.17591996e-06,   1.45598552e-05,\n",
        "          7.45494806e-05,   2.75905118e-06,  -4.16232779e-07,\n",
        "         -1.19689197e-05,  -5.51779566e-06,   8.59612530e-07,\n",
        "         -3.09026721e-06,  -1.33403004e-04,  -4.41527596e-04,\n",
        "          5.06715211e-04,  -1.01566187e-05,   6.14759712e-06,\n",
        "          1.51028738e-07,   1.92587277e-06,   1.87053016e-05,\n",
        "          1.54274171e-04,   8.04869353e-07,  -7.66506740e-07,\n",
        "          1.89309960e-06,  -3.04325417e-07,  -6.03144809e-07,\n",
        "          3.16181295e-06,   1.94604443e-06,  -4.58468652e-06,\n",
        "          1.43552419e-06,  -9.14566393e-07,   3.58368354e-06,\n",
        "         -1.99026489e-06,   4.19280725e-06,   3.90826780e-06,\n",
        "          8.66184578e-10,  -8.37772094e-06,  -1.15984314e-05,\n",
        "         -8.20943122e-06,  -9.82036986e-06,  -5.48563152e-07,\n",
        "         -1.54424187e-06,   3.87922898e-04,   2.28138954e-06,\n",
        "          7.90684463e-05,   4.05720409e-06,   7.40588127e-06,\n",
        "          9.49386178e-06,   1.33562033e-05,   4.00660670e-07,\n",
        "          5.79861745e-07,   8.31596484e-07,   1.09338805e-06,\n",
        "          1.49024766e-06,   2.24379605e-07,   1.00021366e-06,\n",
        "          6.32648972e-07,   9.73232073e-09,  -1.01689475e-07,\n",
        "          2.41662776e-07,  -7.31439758e-06,   2.81962247e-06,\n",
        "          6.45215885e-06,  -3.53312385e-07,   1.60192509e-04,\n",
        "         -1.97885717e-06,  -4.46517538e-06,   1.06861859e-06,\n",
        "         -1.45747174e-05,  -1.30295616e-06,   3.20275032e-06,\n",
        "         -1.02417889e-07,  -2.36966491e-05,   3.56601939e-05,\n",
        "         -1.59164609e-05,   7.78018811e-06,   5.73344672e-05,\n",
        "          4.02502922e-05,   4.97444360e-05,  -7.59003116e-06,\n",
        "          6.32506472e-05,   4.85914540e-07,   1.11801306e-07,\n",
        "         -7.83958696e-07,   6.70043046e-07,   6.76242410e-06,\n",
        "          6.23532846e-07,  -1.48687950e-05,  -8.76595306e-06,\n",
        "         -5.95705158e-06,  -3.62063479e-06,  -5.90572009e-06,\n",
        "         -1.59058886e-05,  -3.95260432e-06,  -8.02940148e-06,\n",
        "          5.32193511e-06,  -2.75469245e-06,   5.43487821e-06,\n",
        "         -1.59068976e-05,  -1.09690316e-06,  -1.22619661e-06,\n",
        "         -1.24247175e-07,   2.93723812e-08,   1.01965936e-08,\n",
        "          1.25276416e-07,  -7.64175636e-08,  -3.96925894e-08,\n",
        "          4.50674509e-06,  -1.39431615e-05,   3.05569127e-06,\n",
        "         -1.52204246e-09,  -1.13228559e-06,  -9.17703990e-08,\n",
        "         -4.14744120e-07,   3.79998496e-07,  -5.04709030e-08,\n",
        "          2.82738883e-06]])"
       ]
      }
     ],
     "prompt_number": 34
    },
    {
     "cell_type": "code",
     "collapsed": false,
     "input": [
      "target_predicted = lr.predict(features_test)"
     ],
     "language": "python",
     "metadata": {},
     "outputs": [],
     "prompt_number": 35
    },
    {
     "cell_type": "code",
     "collapsed": false,
     "input": [
      "from sklearn.metrics import accuracy_score\n",
      "\n",
      "accuracy_score(target_test, target_predicted)"
     ],
     "language": "python",
     "metadata": {},
     "outputs": [
      {
       "metadata": {},
       "output_type": "pyout",
       "prompt_number": 36,
       "text": [
        "0.79232505643340856"
       ]
      }
     ],
     "prompt_number": 36
    },
    {
     "cell_type": "markdown",
     "metadata": {},
     "source": [
      "This first model has around 79% accuracy: this is better than our baseline that always predicts murder."
     ]
    },
    {
     "cell_type": "heading",
     "level": 3,
     "metadata": {},
     "source": [
      "ROC AUC"
     ]
    },
    {
     "cell_type": "code",
     "collapsed": false,
     "input": [
      "target_predicted_proba = lr.predict_proba(features_test)\n",
      "target_predicted_proba[:5]"
     ],
     "language": "python",
     "metadata": {},
     "outputs": [
      {
       "metadata": {},
       "output_type": "pyout",
       "prompt_number": 43,
       "text": [
        "array([[  5.17362001e-03,   9.94826380e-01],\n",
        "       [  2.94017629e-01,   7.05982371e-01],\n",
        "       [  3.23024457e-08,   9.99999968e-01],\n",
        "       [  7.68721196e-01,   2.31278804e-01],\n",
        "       [  7.49204953e-01,   2.50795047e-01]])"
       ]
      }
     ],
     "prompt_number": 43
    },
    {
     "cell_type": "code",
     "collapsed": false,
     "input": [
      "from sklearn.metrics import roc_curve\n",
      "from sklearn.metrics import auc\n",
      "\n",
      "def plot_roc_curve(target_test, target_predicted_proba):\n",
      "    fpr, tpr, thresholds = roc_curve(target_test, target_predicted_proba[:, 1])\n",
      "    \n",
      "    roc_auc = auc(fpr, tpr)\n",
      "    # Plot ROC curve\n",
      "    plt.plot(fpr, tpr, label='ROC curve (area = %0.3f)' % roc_auc)\n",
      "    plt.plot([0, 1], [0, 1], 'k--')  # random predictions curve\n",
      "    plt.xlim([0.0, 1.0])\n",
      "    plt.ylim([0.0, 1.0])\n",
      "    plt.xlabel('False Positive Rate or (1 - Specifity)')\n",
      "    plt.ylabel('True Positive Rate or (Sensitivity)')\n",
      "    plt.title('Receiver Operating Characteristic')\n",
      "    plt.legend(loc=\"lower right\")"
     ],
     "language": "python",
     "metadata": {},
     "outputs": [],
     "prompt_number": 38
    },
    {
     "cell_type": "code",
     "collapsed": false,
     "input": [
      "plot_roc_curve(target_test, target_predicted_proba)"
     ],
     "language": "python",
     "metadata": {},
     "outputs": [
      {
       "metadata": {},
       "output_type": "display_data",
       "png": "[encoded data removed]",
       "text": [
        "<matplotlib.figure.Figure at 0x102969ad0>"
       ]
      }
     ],
     "prompt_number": 39
    },
    {
     "cell_type": "code",
     "collapsed": false,
     "input": [
      "from sklearn.metrics import confusion_matrix\n",
      "\n",
      "print(confusion_matrix(target_test, target_predicted))"
     ],
     "language": "python",
     "metadata": {},
     "outputs": [
      {
       "output_type": "stream",
       "stream": "stdout",
       "text": [
        "[[161  36]\n",
        " [ 56 190]]\n"
       ]
      }
     ],
     "prompt_number": 40
    },
    {
     "cell_type": "code",
     "collapsed": false,
     "input": [
      "from sklearn.metrics import classification_report\n",
      "\n",
      "print(classification_report(target_test, target_predicted,\n",
      "                            target_names=['no murders', 'at least one murder']))"
     ],
     "language": "python",
     "metadata": {},
     "outputs": [
      {
       "output_type": "stream",
       "stream": "stdout",
       "text": [
        "                     precision    recall  f1-score   support\n",
        "\n",
        "         no murders       0.74      0.82      0.78       197\n",
        "at least one murder       0.84      0.77      0.81       246\n",
        "\n",
        "        avg / total       0.80      0.79      0.79       443\n",
        "\n"
       ]
      }
     ],
     "prompt_number": 41
    },
    {
     "cell_type": "heading",
     "level": 3,
     "metadata": {},
     "source": [
      "Cross-validation"
     ]
    },
    {
     "cell_type": "markdown",
     "metadata": {},
     "source": [
      "We previously decided to randomly split the data to evaluate the model on 20% of held-out data. However the location randomness of the split might have a significant impact in the estimated accuracy:"
     ]
    },
    {
     "cell_type": "code",
     "collapsed": false,
     "input": [
      "features_train, features_test, target_train, target_test = train_test_split(\n",
      "    features_array, target, test_size=0.20, random_state=0)\n",
      "\n",
      "lr.fit(features_train, target_train).score(features_test, target_test)"
     ],
     "language": "python",
     "metadata": {},
     "outputs": [
      {
       "metadata": {},
       "output_type": "pyout",
       "prompt_number": 44,
       "text": [
        "0.78103837471783299"
       ]
      }
     ],
     "prompt_number": 44
    },
    {
     "cell_type": "code",
     "collapsed": false,
     "input": [
      "features_train, features_test, target_train, target_test = train_test_split(\n",
      "    features_array, target, test_size=0.20, random_state=1)\n",
      "\n",
      "lr.fit(features_train, target_train).score(features_test, target_test)"
     ],
     "language": "python",
     "metadata": {},
     "outputs": [
      {
       "metadata": {},
       "output_type": "pyout",
       "prompt_number": 45,
       "text": [
        "0.7765237020316027"
       ]
      }
     ],
     "prompt_number": 45
    },
    {
     "cell_type": "code",
     "collapsed": false,
     "input": [
      "features_train, features_test, target_train, target_test = train_test_split(\n",
      "    features_array, target, test_size=0.20, random_state=2)\n",
      "\n",
      "lr.fit(features_train, target_train).score(features_test, target_test)"
     ],
     "language": "python",
     "metadata": {},
     "outputs": [
      {
       "metadata": {},
       "output_type": "pyout",
       "prompt_number": 46,
       "text": [
        "0.79006772009029347"
       ]
      }
     ],
     "prompt_number": 46
    },
    {
     "cell_type": "markdown",
     "metadata": {},
     "source": [
      "So instead of using a single train / test split, we can use a group of them and compute the min, max and mean scores as an estimation of the real test score while not underestimating the variability:"
     ]
    },
    {
     "cell_type": "code",
     "collapsed": false,
     "input": [
      "from sklearn.cross_validation import cross_val_score\n",
      "\n",
      "scores = cross_val_score(lr, features_array, target, cv=5)\n",
      "scores"
     ],
     "language": "python",
     "metadata": {},
     "outputs": [
      {
       "metadata": {},
       "output_type": "pyout",
       "prompt_number": 47,
       "text": [
        "array([ 0.75395034,  0.76749436,  0.77200903,  0.78555305,  0.79683973])"
       ]
      }
     ],
     "prompt_number": 47
    },
    {
     "cell_type": "code",
     "collapsed": false,
     "input": [
      "scores.min(), scores.mean(), scores.max()"
     ],
     "language": "python",
     "metadata": {},
     "outputs": []
    },
    {
     "cell_type": "markdown",
     "metadata": {},
     "source": [
      "`cross_val_score` reports accuracy by default be it can also be used to report other performance metrics such as ROC-AUC or f1-score:"
     ]
    },
    {
     "cell_type": "code",
     "collapsed": false,
     "input": [
      "scores = cross_val_score(lr, features_array, target, cv=5, scoring='roc_auc')\n",
      "scores.min(), scores.mean(), scores.max()"
     ],
     "language": "python",
     "metadata": {},
     "outputs": []
    },
    {
     "cell_type": "markdown",
     "metadata": {},
     "source": [
      "1-2 Pairs\n",
      "=========\n",
      "\n",
      "- Use `GridSearchCV` to explore different values of `C` (our regularization constant, $\\lambda$, from the lecture)\n",
      "- `LogisticRegression` defaults to the **L2-norm** penalty for regularization. Try `penalty=l1`.\n",
      "- Which parameters work best?"
     ]
    },
    {
     "cell_type": "code",
     "collapsed": false,
     "input": [
      "parameters = {\n",
      "    'vec__max_df': [0.8, 1.0],\n",
      "    'vec__ngram_range': [(1, 1), (1, 2)],\n",
      "    'clf__alpha': np.logspace(-5, 0, 6)\n",
      "}\n",
      "\n",
      "gs = GridSearchCV(pipeline, parameters)\n",
      "_ = gs.fit(twenty_train_small.data, twenty_train_small.target)"
     ],
     "language": "python",
     "metadata": {},
     "outputs": []
    },
    {
     "cell_type": "markdown",
     "metadata": {},
     "source": [
      "Homework\n",
      "=========\n",
      "# MIDTERM!!!!"
     ]
    }
   ],
   "metadata": {}
  }
 ]
}