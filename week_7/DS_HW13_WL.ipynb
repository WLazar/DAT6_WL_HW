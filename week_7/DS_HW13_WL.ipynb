{
 "metadata": {
  "name": "",
  "signature": "sha256:e43403e58f3dd9f368cbd83556f7e8460aace8ff2b585db9b4cf7b883d37aafd"
 },
 "nbformat": 3,
 "nbformat_minor": 0,
 "worksheets": [
  {
   "cells": [
    {
     "cell_type": "heading",
     "level": 1,
     "metadata": {},
     "source": [
      "Time Serise Analysis\n",
      "LAB (13)"
     ]
    },
    {
     "cell_type": "heading",
     "level": 4,
     "metadata": {},
     "source": [
      "Nir Kaldero, Univeristy of California, Berkeley"
     ]
    },
    {
     "cell_type": "heading",
     "level": 4,
     "metadata": {},
     "source": [
      "Let's Explore the Data: "
     ]
    },
    {
     "cell_type": "raw",
     "metadata": {},
     "source": [
      "Variables:\n",
      "1. year - 1995-2011\n",
      "2. quarter - 1-4\n",
      "3. unemp - unemployment rate\n",
      "4. unemp_seas - unemployment rate, controled for seasonality\n",
      "5. output_gdp - gdp per capita\n",
      "6. output_gdp_seas - gdp, controled for seasonality\n",
      "7. interest_rate_quarter - interest rate, quarters \n",
      "8. exchange_rate_quarter -  exchange rate, quarters\n",
      "9. inf_quarter - inflation, quarters"
     ]
    },
    {
     "cell_type": "code",
     "collapsed": false,
     "input": [
      "import pandas as pd\n",
      "import statsmodels.api as sm\n",
      "import statsmodels.formula.api as smf\n",
      "import numpy as np"
     ],
     "language": "python",
     "metadata": {},
     "outputs": [],
     "prompt_number": 1
    },
    {
     "cell_type": "heading",
     "level": 3,
     "metadata": {},
     "source": [
      "Forecasting the Interest Rate"
     ]
    },
    {
     "cell_type": "code",
     "collapsed": false,
     "input": [
      "econ_data=pd.read_excel('./data/data_lab_13.xlsx', 'Sheet1', index_col=None, na_values=['NA'])"
     ],
     "language": "python",
     "metadata": {},
     "outputs": [],
     "prompt_number": 2
    },
    {
     "cell_type": "code",
     "collapsed": false,
     "input": [
      "econ_data.head()"
     ],
     "language": "python",
     "metadata": {},
     "outputs": [
      {
       "html": [
        "<div style=\"max-height:1000px;max-width:1500px;overflow:auto;\">\n",
        "<table border=\"1\" class=\"dataframe\">\n",
        "  <thead>\n",
        "    <tr style=\"text-align: right;\">\n",
        "      <th></th>\n",
        "      <th>cpi</th>\n",
        "      <th>combined_index</th>\n",
        "      <th>us_cpi</th>\n",
        "      <th>unemp</th>\n",
        "      <th>unemp_seas</th>\n",
        "      <th>gdp_seas</th>\n",
        "      <th>gdp</th>\n",
        "      <th>cons_seas</th>\n",
        "      <th>cons</th>\n",
        "      <th>us_gdp_seas</th>\n",
        "      <th>year</th>\n",
        "      <th>quarter</th>\n",
        "      <th>interest_rate_quarter</th>\n",
        "      <th>exchange_rate_quarter</th>\n",
        "      <th>date_q</th>\n",
        "      <th>inf_quarter</th>\n",
        "      <th>us_inf_quarter</th>\n",
        "    </tr>\n",
        "  </thead>\n",
        "  <tbody>\n",
        "    <tr>\n",
        "      <th>0</th>\n",
        "      <td> 57.706009</td>\n",
        "      <td> 69.767090</td>\n",
        "      <td> 77.52507</td>\n",
        "      <td> 6.9</td>\n",
        "      <td> 7.267280</td>\n",
        "      <td> 102979.2</td>\n",
        "      <td> 102329.1</td>\n",
        "      <td> 56342.0</td>\n",
        "      <td> 55654.4</td>\n",
        "      <td> 9017.6</td>\n",
        "      <td> 1995</td>\n",
        "      <td> 1</td>\n",
        "      <td> 16.66667</td>\n",
        "      <td> 2.999136</td>\n",
        "      <td> 1995q1</td>\n",
        "      <td> 0.250627</td>\n",
        "      <td>      NaN</td>\n",
        "    </tr>\n",
        "    <tr>\n",
        "      <th>1</th>\n",
        "      <td> 59.004395</td>\n",
        "      <td> 71.310799</td>\n",
        "      <td> 78.08833</td>\n",
        "      <td> 6.2</td>\n",
        "      <td> 6.635685</td>\n",
        "      <td> 105352.3</td>\n",
        "      <td> 104443.6</td>\n",
        "      <td> 56574.0</td>\n",
        "      <td> 55924.9</td>\n",
        "      <td> 9037.0</td>\n",
        "      <td> 1995</td>\n",
        "      <td> 2</td>\n",
        "      <td> 14.10000</td>\n",
        "      <td> 2.981393</td>\n",
        "      <td> 1995q2</td>\n",
        "      <td> 2.250000</td>\n",
        "      <td> 0.726552</td>\n",
        "    </tr>\n",
        "    <tr>\n",
        "      <th>2</th>\n",
        "      <td> 60.447045</td>\n",
        "      <td> 72.315926</td>\n",
        "      <td> 78.44677</td>\n",
        "      <td> 7.1</td>\n",
        "      <td> 6.628457</td>\n",
        "      <td> 106623.7</td>\n",
        "      <td> 107785.9</td>\n",
        "      <td> 57197.0</td>\n",
        "      <td> 59762.2</td>\n",
        "      <td> 9112.9</td>\n",
        "      <td> 1995</td>\n",
        "      <td> 3</td>\n",
        "      <td> 13.30000</td>\n",
        "      <td> 3.007216</td>\n",
        "      <td> 1995q3</td>\n",
        "      <td> 2.444988</td>\n",
        "      <td> 0.459019</td>\n",
        "    </tr>\n",
        "    <tr>\n",
        "      <th>3</th>\n",
        "      <td> 62.226313</td>\n",
        "      <td> 73.207695</td>\n",
        "      <td> 78.60039</td>\n",
        "      <td> 6.8</td>\n",
        "      <td> 6.727731</td>\n",
        "      <td> 107823.3</td>\n",
        "      <td> 107668.5</td>\n",
        "      <td> 59379.5</td>\n",
        "      <td> 57617.1</td>\n",
        "      <td> 9176.4</td>\n",
        "      <td> 1995</td>\n",
        "      <td> 4</td>\n",
        "      <td> 14.03333</td>\n",
        "      <td> 3.057338</td>\n",
        "      <td> 1995q4</td>\n",
        "      <td> 2.943516</td>\n",
        "      <td> 0.195827</td>\n",
        "    </tr>\n",
        "    <tr>\n",
        "      <th>4</th>\n",
        "      <td> 63.957494</td>\n",
        "      <td> 73.370094</td>\n",
        "      <td> 79.72691</td>\n",
        "      <td> 6.2</td>\n",
        "      <td> 6.485500</td>\n",
        "      <td> 109528.3</td>\n",
        "      <td> 109120.5</td>\n",
        "      <td> 60289.3</td>\n",
        "      <td> 59599.7</td>\n",
        "      <td> 9239.3</td>\n",
        "      <td> 1996</td>\n",
        "      <td> 1</td>\n",
        "      <td> 13.90000</td>\n",
        "      <td> 3.113931</td>\n",
        "      <td> 1996q1</td>\n",
        "      <td> 2.782071</td>\n",
        "      <td> 1.433224</td>\n",
        "    </tr>\n",
        "  </tbody>\n",
        "</table>\n",
        "<p>5 rows \u00d7 17 columns</p>\n",
        "</div>"
       ],
       "metadata": {},
       "output_type": "pyout",
       "prompt_number": 3,
       "text": [
        "         cpi  combined_index    us_cpi  unemp  unemp_seas  gdp_seas       gdp  \\\n",
        "0  57.706009       69.767090  77.52507    6.9    7.267280  102979.2  102329.1   \n",
        "1  59.004395       71.310799  78.08833    6.2    6.635685  105352.3  104443.6   \n",
        "2  60.447045       72.315926  78.44677    7.1    6.628457  106623.7  107785.9   \n",
        "3  62.226313       73.207695  78.60039    6.8    6.727731  107823.3  107668.5   \n",
        "4  63.957494       73.370094  79.72691    6.2    6.485500  109528.3  109120.5   \n",
        "\n",
        "   cons_seas     cons  us_gdp_seas  year  quarter  interest_rate_quarter  \\\n",
        "0    56342.0  55654.4       9017.6  1995        1               16.66667   \n",
        "1    56574.0  55924.9       9037.0  1995        2               14.10000   \n",
        "2    57197.0  59762.2       9112.9  1995        3               13.30000   \n",
        "3    59379.5  57617.1       9176.4  1995        4               14.03333   \n",
        "4    60289.3  59599.7       9239.3  1996        1               13.90000   \n",
        "\n",
        "   exchange_rate_quarter  date_q  inf_quarter  us_inf_quarter  \n",
        "0               2.999136  1995q1     0.250627             NaN  \n",
        "1               2.981393  1995q2     2.250000        0.726552  \n",
        "2               3.007216  1995q3     2.444988        0.459019  \n",
        "3               3.057338  1995q4     2.943516        0.195827  \n",
        "4               3.113931  1996q1     2.782071        1.433224  \n",
        "\n",
        "[5 rows x 17 columns]"
       ]
      }
     ],
     "prompt_number": 3
    },
    {
     "cell_type": "code",
     "collapsed": false,
     "input": [
      "econ_data.columns"
     ],
     "language": "python",
     "metadata": {},
     "outputs": [
      {
       "metadata": {},
       "output_type": "pyout",
       "prompt_number": 12,
       "text": [
        "Index([u'cpi', u'combined_index', u'us_cpi', u'unemp', u'unemp_seas', u'gdp_seas', u'gdp', u'cons_seas', u'cons', u'us_gdp_seas', u'year', u'quarter', u'interest_rate_quarter', u'exchange_rate_quarter', u'date_q', u'inf_quarter', u'us_inf_quarter'], dtype='object')"
       ]
      }
     ],
     "prompt_number": 12
    },
    {
     "cell_type": "heading",
     "level": 4,
     "metadata": {},
     "source": [
      "Simple Static Model (OLS):"
     ]
    },
    {
     "cell_type": "heading",
     "level": 4,
     "metadata": {},
     "source": [
      "Run the next model: interest_rate_quarter on (inf_quarter - inflation_quarter_target), output_gap"
     ]
    },
    {
     "cell_type": "code",
     "collapsed": false,
     "input": [
      "econ_data['adj_inf'] = econ_data['inf_quarter'] - 2"
     ],
     "language": "python",
     "metadata": {},
     "outputs": [],
     "prompt_number": 61
    },
    {
     "cell_type": "code",
     "collapsed": false,
     "input": [
      "X = econ_data[['gdp','adj_inf']]\n",
      "y = econ_data['interest_rate_quarter']"
     ],
     "language": "python",
     "metadata": {},
     "outputs": [],
     "prompt_number": 62
    },
    {
     "cell_type": "code",
     "collapsed": false,
     "input": [
      "X = sm.add_constant(X)\n",
      "est = sm.OLS(y, X).fit()\n",
      "\n",
      "est.summary()"
     ],
     "language": "python",
     "metadata": {},
     "outputs": [
      {
       "html": [
        "<table class=\"simpletable\">\n",
        "<caption>OLS Regression Results</caption>\n",
        "<tr>\n",
        "  <th>Dep. Variable:</th>    <td>interest_rate_quarter</td> <th>  R-squared:         </th> <td>   0.808</td>\n",
        "</tr>\n",
        "<tr>\n",
        "  <th>Model:</th>                     <td>OLS</td>          <th>  Adj. R-squared:    </th> <td>   0.802</td>\n",
        "</tr>\n",
        "<tr>\n",
        "  <th>Method:</th>               <td>Least Squares</td>     <th>  F-statistic:       </th> <td>   136.5</td>\n",
        "</tr>\n",
        "<tr>\n",
        "  <th>Date:</th>               <td>Mon, 02 Jun 2014</td>    <th>  Prob (F-statistic):</th> <td>5.32e-24</td>\n",
        "</tr>\n",
        "<tr>\n",
        "  <th>Time:</th>                   <td>21:10:07</td>        <th>  Log-Likelihood:    </th> <td> -144.16</td>\n",
        "</tr>\n",
        "<tr>\n",
        "  <th>No. Observations:</th>        <td>    68</td>         <th>  AIC:               </th> <td>   294.3</td>\n",
        "</tr>\n",
        "<tr>\n",
        "  <th>Df Residuals:</th>            <td>    65</td>         <th>  BIC:               </th> <td>   301.0</td>\n",
        "</tr>\n",
        "<tr>\n",
        "  <th>Df Model:</th>                <td>     2</td>         <th>                     </th>     <td> </td>   \n",
        "</tr>\n",
        "</table>\n",
        "<table class=\"simpletable\">\n",
        "<tr>\n",
        "     <td></td>        <th>coef</th>     <th>std err</th>      <th>t</th>      <th>P>|t|</th> <th>[95.0% Conf. Int.]</th> \n",
        "</tr>\n",
        "<tr>\n",
        "  <th>const</th>   <td>   30.2513</td> <td>    1.430</td> <td>   21.160</td> <td> 0.000</td> <td>   27.396    33.106</td>\n",
        "</tr>\n",
        "<tr>\n",
        "  <th>gdp</th>     <td>   -0.0002</td> <td>    1e-05</td> <td>  -15.764</td> <td> 0.000</td> <td>   -0.000    -0.000</td>\n",
        "</tr>\n",
        "<tr>\n",
        "  <th>adj_inf</th> <td>    0.1256</td> <td>    0.200</td> <td>    0.629</td> <td> 0.531</td> <td>   -0.273     0.525</td>\n",
        "</tr>\n",
        "</table>\n",
        "<table class=\"simpletable\">\n",
        "<tr>\n",
        "  <th>Omnibus:</th>       <td> 2.030</td> <th>  Durbin-Watson:     </th> <td>   0.304</td>\n",
        "</tr>\n",
        "<tr>\n",
        "  <th>Prob(Omnibus):</th> <td> 0.362</td> <th>  Jarque-Bera (JB):  </th> <td>   1.932</td>\n",
        "</tr>\n",
        "<tr>\n",
        "  <th>Skew:</th>          <td>-0.399</td> <th>  Prob(JB):          </th> <td>   0.381</td>\n",
        "</tr>\n",
        "<tr>\n",
        "  <th>Kurtosis:</th>      <td> 2.789</td> <th>  Cond. No.          </th> <td>8.42e+05</td>\n",
        "</tr>\n",
        "</table>"
       ],
       "metadata": {},
       "output_type": "pyout",
       "prompt_number": 63,
       "text": [
        "<class 'statsmodels.iolib.summary.Summary'>\n",
        "\"\"\"\n",
        "                              OLS Regression Results                             \n",
        "=================================================================================\n",
        "Dep. Variable:     interest_rate_quarter   R-squared:                       0.808\n",
        "Model:                               OLS   Adj. R-squared:                  0.802\n",
        "Method:                    Least Squares   F-statistic:                     136.5\n",
        "Date:                   Mon, 02 Jun 2014   Prob (F-statistic):           5.32e-24\n",
        "Time:                           21:10:07   Log-Likelihood:                -144.16\n",
        "No. Observations:                     68   AIC:                             294.3\n",
        "Df Residuals:                         65   BIC:                             301.0\n",
        "Df Model:                              2                                         \n",
        "==============================================================================\n",
        "                 coef    std err          t      P>|t|      [95.0% Conf. Int.]\n",
        "------------------------------------------------------------------------------\n",
        "const         30.2513      1.430     21.160      0.000        27.396    33.106\n",
        "gdp           -0.0002      1e-05    -15.764      0.000        -0.000    -0.000\n",
        "adj_inf        0.1256      0.200      0.629      0.531        -0.273     0.525\n",
        "==============================================================================\n",
        "Omnibus:                        2.030   Durbin-Watson:                   0.304\n",
        "Prob(Omnibus):                  0.362   Jarque-Bera (JB):                1.932\n",
        "Skew:                          -0.399   Prob(JB):                        0.381\n",
        "Kurtosis:                       2.789   Cond. No.                     8.42e+05\n",
        "==============================================================================\n",
        "\n",
        "Warnings:\n",
        "[1] The condition number is large, 8.42e+05. This might indicate that there are\n",
        "strong multicollinearity or other numerical problems.\n",
        "\"\"\""
       ]
      }
     ],
     "prompt_number": 63
    },
    {
     "cell_type": "heading",
     "level": 4,
     "metadata": {},
     "source": [
      "Plot the results you got (the predicted values around the real data):"
     ]
    },
    {
     "cell_type": "code",
     "collapsed": false,
     "input": [
      "est.params"
     ],
     "language": "python",
     "metadata": {},
     "outputs": [
      {
       "metadata": {},
       "output_type": "pyout",
       "prompt_number": 33,
       "text": [
        "const      30.002560\n",
        "gdp        -0.000158\n",
        "adj_inf     0.125644\n",
        "dtype: float64"
       ]
      }
     ],
     "prompt_number": 33
    },
    {
     "cell_type": "code",
     "collapsed": false,
     "input": [
      "predict = pd.DataFrame(est.predict())"
     ],
     "language": "python",
     "metadata": {},
     "outputs": [],
     "prompt_number": 34
    },
    {
     "cell_type": "code",
     "collapsed": false,
     "input": [
      "predict.head()"
     ],
     "language": "python",
     "metadata": {},
     "outputs": [
      {
       "html": [
        "<div style=\"max-height:1000px;max-width:1500px;overflow:auto;\">\n",
        "<table border=\"1\" class=\"dataframe\">\n",
        "  <thead>\n",
        "    <tr style=\"text-align: right;\">\n",
        "      <th></th>\n",
        "      <th>0</th>\n",
        "    </tr>\n",
        "  </thead>\n",
        "  <tbody>\n",
        "    <tr>\n",
        "      <th>0</th>\n",
        "      <td> 13.903764</td>\n",
        "    </tr>\n",
        "    <tr>\n",
        "      <th>1</th>\n",
        "      <td> 13.821713</td>\n",
        "    </tr>\n",
        "    <tr>\n",
        "      <th>2</th>\n",
        "      <td> 13.319443</td>\n",
        "    </tr>\n",
        "    <tr>\n",
        "      <th>3</th>\n",
        "      <td> 13.400583</td>\n",
        "    </tr>\n",
        "    <tr>\n",
        "      <th>4</th>\n",
        "      <td> 13.151453</td>\n",
        "    </tr>\n",
        "  </tbody>\n",
        "</table>\n",
        "<p>5 rows \u00d7 1 columns</p>\n",
        "</div>"
       ],
       "metadata": {},
       "output_type": "pyout",
       "prompt_number": 36,
       "text": [
        "           0\n",
        "0  13.903764\n",
        "1  13.821713\n",
        "2  13.319443\n",
        "3  13.400583\n",
        "4  13.151453\n",
        "\n",
        "[5 rows x 1 columns]"
       ]
      }
     ],
     "prompt_number": 36
    },
    {
     "cell_type": "code",
     "collapsed": false,
     "input": [
      "import matplotlib.pyplot as plt\n",
      "plt.plot(predict)\n",
      "plt.plot(y)"
     ],
     "language": "python",
     "metadata": {},
     "outputs": [
      {
       "metadata": {},
       "output_type": "pyout",
       "prompt_number": 47,
       "text": [
        "[<matplotlib.lines.Line2D at 0x109af0710>]"
       ]
      },
      {
       "metadata": {},
       "output_type": "display_data",
       "png": "[encoded data removed]",
       "text": [
        "<matplotlib.figure.Figure at 0x109af0290>"
       ]
      }
     ],
     "prompt_number": 47
    },
    {
     "cell_type": "heading",
     "level": 3,
     "metadata": {},
     "source": [
      "Time is important - "
     ]
    },
    {
     "cell_type": "heading",
     "level": 4,
     "metadata": {},
     "source": [
      "Run the same OLS model with a Dynamic settings - for that you need to creat Lag Variables/\"Effect\" for the interet rate:"
     ]
    },
    {
     "cell_type": "heading",
     "level": 5,
     "metadata": {},
     "source": [
      "In order to create lags you need to creat new variables (let's create 2 lag effect for interesr rate, at this point):"
     ]
    },
    {
     "cell_type": "code",
     "collapsed": false,
     "input": [
      "ir_lag1=pd.DataFrame({\"interest_rate_quarter_lag_1\":\n",
      "                      econ_data[\"interest_rate_quarter\"]}).set_index(np.arange(1,len(econ_data)+1))\n",
      "ir_lag2=pd.DataFrame({\"interest_rate_quarter_lag_2\":\n",
      "                      econ_data[\"interest_rate_quarter\"]}).set_index(np.arange(2,len(econ_data)+2))"
     ],
     "language": "python",
     "metadata": {},
     "outputs": [],
     "prompt_number": 117
    },
    {
     "cell_type": "code",
     "collapsed": false,
     "input": [
      "econ_data['ir_lag1'] = ir_lag1\n",
      "econ_data['ir_lag2'] = ir_lag2"
     ],
     "language": "python",
     "metadata": {},
     "outputs": [],
     "prompt_number": 87
    },
    {
     "cell_type": "code",
     "collapsed": false,
     "input": [
      "econ_data.head()"
     ],
     "language": "python",
     "metadata": {},
     "outputs": [
      {
       "html": [
        "<div style=\"max-height:1000px;max-width:1500px;overflow:auto;\">\n",
        "<table border=\"1\" class=\"dataframe\">\n",
        "  <thead>\n",
        "    <tr style=\"text-align: right;\">\n",
        "      <th></th>\n",
        "      <th>cpi</th>\n",
        "      <th>combined_index</th>\n",
        "      <th>us_cpi</th>\n",
        "      <th>unemp</th>\n",
        "      <th>unemp_seas</th>\n",
        "      <th>gdp_seas</th>\n",
        "      <th>gdp</th>\n",
        "      <th>cons_seas</th>\n",
        "      <th>cons</th>\n",
        "      <th>us_gdp_seas</th>\n",
        "      <th>year</th>\n",
        "      <th>quarter</th>\n",
        "      <th>interest_rate_quarter</th>\n",
        "      <th>exchange_rate_quarter</th>\n",
        "      <th>date_q</th>\n",
        "      <th>inf_quarter</th>\n",
        "      <th>us_inf_quarter</th>\n",
        "      <th>adj_inf</th>\n",
        "      <th>ir_lag1</th>\n",
        "      <th>ir_lag2</th>\n",
        "    </tr>\n",
        "  </thead>\n",
        "  <tbody>\n",
        "    <tr>\n",
        "      <th>0</th>\n",
        "      <td> 57.706009</td>\n",
        "      <td> 69.767090</td>\n",
        "      <td> 77.52507</td>\n",
        "      <td> 6.9</td>\n",
        "      <td> 7.267280</td>\n",
        "      <td> 102979.2</td>\n",
        "      <td> 102329.1</td>\n",
        "      <td> 56342.0</td>\n",
        "      <td> 55654.4</td>\n",
        "      <td> 9017.6</td>\n",
        "      <td> 1995</td>\n",
        "      <td> 1</td>\n",
        "      <td> 16.66667</td>\n",
        "      <td> 2.999136</td>\n",
        "      <td> 1995q1</td>\n",
        "      <td> 0.250627</td>\n",
        "      <td>      NaN</td>\n",
        "      <td>-1.749373</td>\n",
        "      <td>      NaN</td>\n",
        "      <td>      NaN</td>\n",
        "    </tr>\n",
        "    <tr>\n",
        "      <th>1</th>\n",
        "      <td> 59.004395</td>\n",
        "      <td> 71.310799</td>\n",
        "      <td> 78.08833</td>\n",
        "      <td> 6.2</td>\n",
        "      <td> 6.635685</td>\n",
        "      <td> 105352.3</td>\n",
        "      <td> 104443.6</td>\n",
        "      <td> 56574.0</td>\n",
        "      <td> 55924.9</td>\n",
        "      <td> 9037.0</td>\n",
        "      <td> 1995</td>\n",
        "      <td> 2</td>\n",
        "      <td> 14.10000</td>\n",
        "      <td> 2.981393</td>\n",
        "      <td> 1995q2</td>\n",
        "      <td> 2.250000</td>\n",
        "      <td> 0.726552</td>\n",
        "      <td> 0.250000</td>\n",
        "      <td> 16.66667</td>\n",
        "      <td>      NaN</td>\n",
        "    </tr>\n",
        "    <tr>\n",
        "      <th>2</th>\n",
        "      <td> 60.447045</td>\n",
        "      <td> 72.315926</td>\n",
        "      <td> 78.44677</td>\n",
        "      <td> 7.1</td>\n",
        "      <td> 6.628457</td>\n",
        "      <td> 106623.7</td>\n",
        "      <td> 107785.9</td>\n",
        "      <td> 57197.0</td>\n",
        "      <td> 59762.2</td>\n",
        "      <td> 9112.9</td>\n",
        "      <td> 1995</td>\n",
        "      <td> 3</td>\n",
        "      <td> 13.30000</td>\n",
        "      <td> 3.007216</td>\n",
        "      <td> 1995q3</td>\n",
        "      <td> 2.444988</td>\n",
        "      <td> 0.459019</td>\n",
        "      <td> 0.444988</td>\n",
        "      <td> 14.10000</td>\n",
        "      <td> 16.66667</td>\n",
        "    </tr>\n",
        "    <tr>\n",
        "      <th>3</th>\n",
        "      <td> 62.226313</td>\n",
        "      <td> 73.207695</td>\n",
        "      <td> 78.60039</td>\n",
        "      <td> 6.8</td>\n",
        "      <td> 6.727731</td>\n",
        "      <td> 107823.3</td>\n",
        "      <td> 107668.5</td>\n",
        "      <td> 59379.5</td>\n",
        "      <td> 57617.1</td>\n",
        "      <td> 9176.4</td>\n",
        "      <td> 1995</td>\n",
        "      <td> 4</td>\n",
        "      <td> 14.03333</td>\n",
        "      <td> 3.057338</td>\n",
        "      <td> 1995q4</td>\n",
        "      <td> 2.943516</td>\n",
        "      <td> 0.195827</td>\n",
        "      <td> 0.943516</td>\n",
        "      <td> 13.30000</td>\n",
        "      <td> 14.10000</td>\n",
        "    </tr>\n",
        "    <tr>\n",
        "      <th>4</th>\n",
        "      <td> 63.957494</td>\n",
        "      <td> 73.370094</td>\n",
        "      <td> 79.72691</td>\n",
        "      <td> 6.2</td>\n",
        "      <td> 6.485500</td>\n",
        "      <td> 109528.3</td>\n",
        "      <td> 109120.5</td>\n",
        "      <td> 60289.3</td>\n",
        "      <td> 59599.7</td>\n",
        "      <td> 9239.3</td>\n",
        "      <td> 1996</td>\n",
        "      <td> 1</td>\n",
        "      <td> 13.90000</td>\n",
        "      <td> 3.113931</td>\n",
        "      <td> 1996q1</td>\n",
        "      <td> 2.782071</td>\n",
        "      <td> 1.433224</td>\n",
        "      <td> 0.782071</td>\n",
        "      <td> 14.03333</td>\n",
        "      <td> 13.30000</td>\n",
        "    </tr>\n",
        "  </tbody>\n",
        "</table>\n",
        "<p>5 rows \u00d7 20 columns</p>\n",
        "</div>"
       ],
       "metadata": {},
       "output_type": "pyout",
       "prompt_number": 88,
       "text": [
        "         cpi  combined_index    us_cpi  unemp  unemp_seas  gdp_seas       gdp  \\\n",
        "0  57.706009       69.767090  77.52507    6.9    7.267280  102979.2  102329.1   \n",
        "1  59.004395       71.310799  78.08833    6.2    6.635685  105352.3  104443.6   \n",
        "2  60.447045       72.315926  78.44677    7.1    6.628457  106623.7  107785.9   \n",
        "3  62.226313       73.207695  78.60039    6.8    6.727731  107823.3  107668.5   \n",
        "4  63.957494       73.370094  79.72691    6.2    6.485500  109528.3  109120.5   \n",
        "\n",
        "   cons_seas     cons  us_gdp_seas  year  quarter  interest_rate_quarter  \\\n",
        "0    56342.0  55654.4       9017.6  1995        1               16.66667   \n",
        "1    56574.0  55924.9       9037.0  1995        2               14.10000   \n",
        "2    57197.0  59762.2       9112.9  1995        3               13.30000   \n",
        "3    59379.5  57617.1       9176.4  1995        4               14.03333   \n",
        "4    60289.3  59599.7       9239.3  1996        1               13.90000   \n",
        "\n",
        "   exchange_rate_quarter  date_q  inf_quarter  us_inf_quarter   adj_inf  \\\n",
        "0               2.999136  1995q1     0.250627             NaN -1.749373   \n",
        "1               2.981393  1995q2     2.250000        0.726552  0.250000   \n",
        "2               3.007216  1995q3     2.444988        0.459019  0.444988   \n",
        "3               3.057338  1995q4     2.943516        0.195827  0.943516   \n",
        "4               3.113931  1996q1     2.782071        1.433224  0.782071   \n",
        "\n",
        "    ir_lag1   ir_lag2  \n",
        "0       NaN       NaN  \n",
        "1  16.66667       NaN  \n",
        "2  14.10000  16.66667  \n",
        "3  13.30000  14.10000  \n",
        "4  14.03333  13.30000  \n",
        "\n",
        "[5 rows x 20 columns]"
       ]
      }
     ],
     "prompt_number": 88
    },
    {
     "cell_type": "code",
     "collapsed": false,
     "input": [
      "ir_lag1.shape"
     ],
     "language": "python",
     "metadata": {},
     "outputs": [
      {
       "metadata": {},
       "output_type": "pyout",
       "prompt_number": 75,
       "text": [
        "(68, 1)"
       ]
      }
     ],
     "prompt_number": 75
    },
    {
     "cell_type": "heading",
     "level": 4,
     "metadata": {},
     "source": [
      "Run the model now (with dynamic) with the two lagged effect:"
     ]
    },
    {
     "cell_type": "code",
     "collapsed": false,
     "input": [
      "X = econ_data[['gdp','adj_inf','ir_lag1','ir_lag2']][2:]\n",
      "y = econ_data['interest_rate_quarter']"
     ],
     "language": "python",
     "metadata": {},
     "outputs": [],
     "prompt_number": 105
    },
    {
     "cell_type": "code",
     "collapsed": false,
     "input": [
      "X.shape"
     ],
     "language": "python",
     "metadata": {},
     "outputs": [
      {
       "metadata": {},
       "output_type": "pyout",
       "prompt_number": 106,
       "text": [
        "(66, 4)"
       ]
      }
     ],
     "prompt_number": 106
    },
    {
     "cell_type": "code",
     "collapsed": false,
     "input": [
      "y = y[2:]"
     ],
     "language": "python",
     "metadata": {},
     "outputs": [],
     "prompt_number": 107
    },
    {
     "cell_type": "code",
     "collapsed": false,
     "input": [
      "econ_data.head(5)"
     ],
     "language": "python",
     "metadata": {},
     "outputs": [
      {
       "html": [
        "<div style=\"max-height:1000px;max-width:1500px;overflow:auto;\">\n",
        "<table border=\"1\" class=\"dataframe\">\n",
        "  <thead>\n",
        "    <tr style=\"text-align: right;\">\n",
        "      <th></th>\n",
        "      <th>cpi</th>\n",
        "      <th>combined_index</th>\n",
        "      <th>us_cpi</th>\n",
        "      <th>unemp</th>\n",
        "      <th>unemp_seas</th>\n",
        "      <th>gdp_seas</th>\n",
        "      <th>gdp</th>\n",
        "      <th>cons_seas</th>\n",
        "      <th>cons</th>\n",
        "      <th>us_gdp_seas</th>\n",
        "      <th>year</th>\n",
        "      <th>quarter</th>\n",
        "      <th>interest_rate_quarter</th>\n",
        "      <th>exchange_rate_quarter</th>\n",
        "      <th>date_q</th>\n",
        "      <th>inf_quarter</th>\n",
        "      <th>us_inf_quarter</th>\n",
        "      <th>adj_inf</th>\n",
        "      <th>ir_lag1</th>\n",
        "      <th>ir_lag2</th>\n",
        "    </tr>\n",
        "  </thead>\n",
        "  <tbody>\n",
        "    <tr>\n",
        "      <th>0</th>\n",
        "      <td> 57.706009</td>\n",
        "      <td> 69.767090</td>\n",
        "      <td> 77.52507</td>\n",
        "      <td> 6.9</td>\n",
        "      <td> 7.267280</td>\n",
        "      <td> 102979.2</td>\n",
        "      <td> 102329.1</td>\n",
        "      <td> 56342.0</td>\n",
        "      <td> 55654.4</td>\n",
        "      <td> 9017.6</td>\n",
        "      <td> 1995</td>\n",
        "      <td> 1</td>\n",
        "      <td> 16.66667</td>\n",
        "      <td> 2.999136</td>\n",
        "      <td> 1995q1</td>\n",
        "      <td> 0.250627</td>\n",
        "      <td>      NaN</td>\n",
        "      <td>-1.749373</td>\n",
        "      <td>      NaN</td>\n",
        "      <td>      NaN</td>\n",
        "    </tr>\n",
        "    <tr>\n",
        "      <th>1</th>\n",
        "      <td> 59.004395</td>\n",
        "      <td> 71.310799</td>\n",
        "      <td> 78.08833</td>\n",
        "      <td> 6.2</td>\n",
        "      <td> 6.635685</td>\n",
        "      <td> 105352.3</td>\n",
        "      <td> 104443.6</td>\n",
        "      <td> 56574.0</td>\n",
        "      <td> 55924.9</td>\n",
        "      <td> 9037.0</td>\n",
        "      <td> 1995</td>\n",
        "      <td> 2</td>\n",
        "      <td> 14.10000</td>\n",
        "      <td> 2.981393</td>\n",
        "      <td> 1995q2</td>\n",
        "      <td> 2.250000</td>\n",
        "      <td> 0.726552</td>\n",
        "      <td> 0.250000</td>\n",
        "      <td> 16.66667</td>\n",
        "      <td>      NaN</td>\n",
        "    </tr>\n",
        "    <tr>\n",
        "      <th>2</th>\n",
        "      <td> 60.447045</td>\n",
        "      <td> 72.315926</td>\n",
        "      <td> 78.44677</td>\n",
        "      <td> 7.1</td>\n",
        "      <td> 6.628457</td>\n",
        "      <td> 106623.7</td>\n",
        "      <td> 107785.9</td>\n",
        "      <td> 57197.0</td>\n",
        "      <td> 59762.2</td>\n",
        "      <td> 9112.9</td>\n",
        "      <td> 1995</td>\n",
        "      <td> 3</td>\n",
        "      <td> 13.30000</td>\n",
        "      <td> 3.007216</td>\n",
        "      <td> 1995q3</td>\n",
        "      <td> 2.444988</td>\n",
        "      <td> 0.459019</td>\n",
        "      <td> 0.444988</td>\n",
        "      <td> 14.10000</td>\n",
        "      <td> 16.66667</td>\n",
        "    </tr>\n",
        "    <tr>\n",
        "      <th>3</th>\n",
        "      <td> 62.226313</td>\n",
        "      <td> 73.207695</td>\n",
        "      <td> 78.60039</td>\n",
        "      <td> 6.8</td>\n",
        "      <td> 6.727731</td>\n",
        "      <td> 107823.3</td>\n",
        "      <td> 107668.5</td>\n",
        "      <td> 59379.5</td>\n",
        "      <td> 57617.1</td>\n",
        "      <td> 9176.4</td>\n",
        "      <td> 1995</td>\n",
        "      <td> 4</td>\n",
        "      <td> 14.03333</td>\n",
        "      <td> 3.057338</td>\n",
        "      <td> 1995q4</td>\n",
        "      <td> 2.943516</td>\n",
        "      <td> 0.195827</td>\n",
        "      <td> 0.943516</td>\n",
        "      <td> 13.30000</td>\n",
        "      <td> 14.10000</td>\n",
        "    </tr>\n",
        "    <tr>\n",
        "      <th>4</th>\n",
        "      <td> 63.957494</td>\n",
        "      <td> 73.370094</td>\n",
        "      <td> 79.72691</td>\n",
        "      <td> 6.2</td>\n",
        "      <td> 6.485500</td>\n",
        "      <td> 109528.3</td>\n",
        "      <td> 109120.5</td>\n",
        "      <td> 60289.3</td>\n",
        "      <td> 59599.7</td>\n",
        "      <td> 9239.3</td>\n",
        "      <td> 1996</td>\n",
        "      <td> 1</td>\n",
        "      <td> 13.90000</td>\n",
        "      <td> 3.113931</td>\n",
        "      <td> 1996q1</td>\n",
        "      <td> 2.782071</td>\n",
        "      <td> 1.433224</td>\n",
        "      <td> 0.782071</td>\n",
        "      <td> 14.03333</td>\n",
        "      <td> 13.30000</td>\n",
        "    </tr>\n",
        "  </tbody>\n",
        "</table>\n",
        "<p>5 rows \u00d7 20 columns</p>\n",
        "</div>"
       ],
       "metadata": {},
       "output_type": "pyout",
       "prompt_number": 108,
       "text": [
        "         cpi  combined_index    us_cpi  unemp  unemp_seas  gdp_seas       gdp  \\\n",
        "0  57.706009       69.767090  77.52507    6.9    7.267280  102979.2  102329.1   \n",
        "1  59.004395       71.310799  78.08833    6.2    6.635685  105352.3  104443.6   \n",
        "2  60.447045       72.315926  78.44677    7.1    6.628457  106623.7  107785.9   \n",
        "3  62.226313       73.207695  78.60039    6.8    6.727731  107823.3  107668.5   \n",
        "4  63.957494       73.370094  79.72691    6.2    6.485500  109528.3  109120.5   \n",
        "\n",
        "   cons_seas     cons  us_gdp_seas  year  quarter  interest_rate_quarter  \\\n",
        "0    56342.0  55654.4       9017.6  1995        1               16.66667   \n",
        "1    56574.0  55924.9       9037.0  1995        2               14.10000   \n",
        "2    57197.0  59762.2       9112.9  1995        3               13.30000   \n",
        "3    59379.5  57617.1       9176.4  1995        4               14.03333   \n",
        "4    60289.3  59599.7       9239.3  1996        1               13.90000   \n",
        "\n",
        "   exchange_rate_quarter  date_q  inf_quarter  us_inf_quarter   adj_inf  \\\n",
        "0               2.999136  1995q1     0.250627             NaN -1.749373   \n",
        "1               2.981393  1995q2     2.250000        0.726552  0.250000   \n",
        "2               3.007216  1995q3     2.444988        0.459019  0.444988   \n",
        "3               3.057338  1995q4     2.943516        0.195827  0.943516   \n",
        "4               3.113931  1996q1     2.782071        1.433224  0.782071   \n",
        "\n",
        "    ir_lag1   ir_lag2  \n",
        "0       NaN       NaN  \n",
        "1  16.66667       NaN  \n",
        "2  14.10000  16.66667  \n",
        "3  13.30000  14.10000  \n",
        "4  14.03333  13.30000  \n",
        "\n",
        "[5 rows x 20 columns]"
       ]
      }
     ],
     "prompt_number": 108
    },
    {
     "cell_type": "code",
     "collapsed": false,
     "input": [
      "est = sm.OLS(y, X).fit()\n",
      "\n",
      "est.summary()"
     ],
     "language": "python",
     "metadata": {},
     "outputs": [
      {
       "html": [
        "<table class=\"simpletable\">\n",
        "<caption>OLS Regression Results</caption>\n",
        "<tr>\n",
        "  <th>Dep. Variable:</th>    <td>interest_rate_quarter</td> <th>  R-squared:         </th> <td>   0.989</td>\n",
        "</tr>\n",
        "<tr>\n",
        "  <th>Model:</th>                     <td>OLS</td>          <th>  Adj. R-squared:    </th> <td>   0.989</td>\n",
        "</tr>\n",
        "<tr>\n",
        "  <th>Method:</th>               <td>Least Squares</td>     <th>  F-statistic:       </th> <td>   1451.</td>\n",
        "</tr>\n",
        "<tr>\n",
        "  <th>Date:</th>               <td>Mon, 02 Jun 2014</td>    <th>  Prob (F-statistic):</th> <td>1.75e-60</td>\n",
        "</tr>\n",
        "<tr>\n",
        "  <th>Time:</th>                   <td>21:22:45</td>        <th>  Log-Likelihood:    </th> <td> -83.120</td>\n",
        "</tr>\n",
        "<tr>\n",
        "  <th>No. Observations:</th>        <td>    66</td>         <th>  AIC:               </th> <td>   174.2</td>\n",
        "</tr>\n",
        "<tr>\n",
        "  <th>Df Residuals:</th>            <td>    62</td>         <th>  BIC:               </th> <td>   183.0</td>\n",
        "</tr>\n",
        "<tr>\n",
        "  <th>Df Model:</th>                <td>     4</td>         <th>                     </th>     <td> </td>   \n",
        "</tr>\n",
        "</table>\n",
        "<table class=\"simpletable\">\n",
        "<tr>\n",
        "     <td></td>        <th>coef</th>     <th>std err</th>      <th>t</th>      <th>P>|t|</th> <th>[95.0% Conf. Int.]</th> \n",
        "</tr>\n",
        "<tr>\n",
        "  <th>gdp</th>     <td>  2.27e-06</td> <td>  1.4e-06</td> <td>    1.621</td> <td> 0.110</td> <td> -5.3e-07  5.07e-06</td>\n",
        "</tr>\n",
        "<tr>\n",
        "  <th>adj_inf</th> <td>    0.2015</td> <td>    0.091</td> <td>    2.213</td> <td> 0.031</td> <td>    0.019     0.383</td>\n",
        "</tr>\n",
        "<tr>\n",
        "  <th>ir_lag1</th> <td>    1.3034</td> <td>    0.119</td> <td>   10.912</td> <td> 0.000</td> <td>    1.065     1.542</td>\n",
        "</tr>\n",
        "<tr>\n",
        "  <th>ir_lag2</th> <td>   -0.3340</td> <td>    0.117</td> <td>   -2.851</td> <td> 0.006</td> <td>   -0.568    -0.100</td>\n",
        "</tr>\n",
        "</table>\n",
        "<table class=\"simpletable\">\n",
        "<tr>\n",
        "  <th>Omnibus:</th>       <td>24.503</td> <th>  Durbin-Watson:     </th> <td>   2.097</td>\n",
        "</tr>\n",
        "<tr>\n",
        "  <th>Prob(Omnibus):</th> <td> 0.000</td> <th>  Jarque-Bera (JB):  </th> <td>  63.529</td>\n",
        "</tr>\n",
        "<tr>\n",
        "  <th>Skew:</th>          <td> 1.076</td> <th>  Prob(JB):          </th> <td>1.60e-14</td>\n",
        "</tr>\n",
        "<tr>\n",
        "  <th>Kurtosis:</th>      <td> 7.298</td> <th>  Cond. No.          </th> <td>2.33e+05</td>\n",
        "</tr>\n",
        "</table>"
       ],
       "metadata": {},
       "output_type": "pyout",
       "prompt_number": 109,
       "text": [
        "<class 'statsmodels.iolib.summary.Summary'>\n",
        "\"\"\"\n",
        "                              OLS Regression Results                             \n",
        "=================================================================================\n",
        "Dep. Variable:     interest_rate_quarter   R-squared:                       0.989\n",
        "Model:                               OLS   Adj. R-squared:                  0.989\n",
        "Method:                    Least Squares   F-statistic:                     1451.\n",
        "Date:                   Mon, 02 Jun 2014   Prob (F-statistic):           1.75e-60\n",
        "Time:                           21:22:45   Log-Likelihood:                -83.120\n",
        "No. Observations:                     66   AIC:                             174.2\n",
        "Df Residuals:                         62   BIC:                             183.0\n",
        "Df Model:                              4                                         \n",
        "==============================================================================\n",
        "                 coef    std err          t      P>|t|      [95.0% Conf. Int.]\n",
        "------------------------------------------------------------------------------\n",
        "gdp          2.27e-06    1.4e-06      1.621      0.110      -5.3e-07  5.07e-06\n",
        "adj_inf        0.2015      0.091      2.213      0.031         0.019     0.383\n",
        "ir_lag1        1.3034      0.119     10.912      0.000         1.065     1.542\n",
        "ir_lag2       -0.3340      0.117     -2.851      0.006        -0.568    -0.100\n",
        "==============================================================================\n",
        "Omnibus:                       24.503   Durbin-Watson:                   2.097\n",
        "Prob(Omnibus):                  0.000   Jarque-Bera (JB):               63.529\n",
        "Skew:                           1.076   Prob(JB):                     1.60e-14\n",
        "Kurtosis:                       7.298   Cond. No.                     2.33e+05\n",
        "==============================================================================\n",
        "\n",
        "Warnings:\n",
        "[1] The condition number is large, 2.33e+05. This might indicate that there are\n",
        "strong multicollinearity or other numerical problems.\n",
        "\"\"\""
       ]
      }
     ],
     "prompt_number": 109
    },
    {
     "cell_type": "code",
     "collapsed": false,
     "input": [
      "predict2 = pd.DataFrame(est.predict())"
     ],
     "language": "python",
     "metadata": {},
     "outputs": [],
     "prompt_number": 114
    },
    {
     "cell_type": "code",
     "collapsed": false,
     "input": [
      "import matplotlib.pyplot as plt\n",
      "plt.plot(predict2)\n",
      "plt.plot(y)"
     ],
     "language": "python",
     "metadata": {},
     "outputs": [
      {
       "metadata": {},
       "output_type": "pyout",
       "prompt_number": 116,
       "text": [
        "[<matplotlib.lines.Line2D at 0x10aabc810>]"
       ]
      },
      {
       "metadata": {},
       "output_type": "display_data",
       "png": "[encoded data removed]",
       "text": [
        "<matplotlib.figure.Figure at 0x10a9cf250>"
       ]
      }
     ],
     "prompt_number": 116
    },
    {
     "cell_type": "heading",
     "level": 4,
     "metadata": {},
     "source": [
      "Are the lagged variable statistically signficant (each one of them?), All together (F-test)? Is dynamic important here?"
     ]
    },
    {
     "cell_type": "markdown",
     "metadata": {},
     "source": [
      "Yes, the lagged variables contribute significantly to the accuracy of the model."
     ]
    },
    {
     "cell_type": "heading",
     "level": 4,
     "metadata": {},
     "source": [
      "Create Lags for all other variables in this analysis (y and x), limit yourself to 2-3 lags:"
     ]
    },
    {
     "cell_type": "code",
     "collapsed": false,
     "input": [
      "unemp_lag1=pd.DataFrame({\"unemp_rate_quarter_lag_1\":\n",
      "                      econ_data[\"unemp\"]}).set_index(np.arange(1,len(econ_data)+1))\n",
      "unemp_lag2=pd.DataFrame({\"unemp_rate_quarter_lag_2\":\n",
      "                      econ_data[\"unemp\"]}).set_index(np.arange(2,len(econ_data)+2))"
     ],
     "language": "python",
     "metadata": {},
     "outputs": [],
     "prompt_number": 121
    },
    {
     "cell_type": "code",
     "collapsed": false,
     "input": [
      "econ_data['unemp_rate_quarter_lag_1'] = unemp_lag1\n",
      "econ_data['unemp_rate_quarter_lag_2'] = unemp_lag2"
     ],
     "language": "python",
     "metadata": {},
     "outputs": [],
     "prompt_number": 123
    },
    {
     "cell_type": "code",
     "collapsed": false,
     "input": [
      "X = econ_data[['gdp','adj_inf','ir_lag1','unemp_rate_quarter_lag_1','unemp_rate_quarter_lag_2']][2:]\n",
      "y = econ_data['interest_rate_quarter'][2:]"
     ],
     "language": "python",
     "metadata": {},
     "outputs": [],
     "prompt_number": 148
    },
    {
     "cell_type": "code",
     "collapsed": false,
     "input": [
      "est = sm.OLS(y, X).fit()\n",
      "\n",
      "est.summary()"
     ],
     "language": "python",
     "metadata": {},
     "outputs": [
      {
       "html": [
        "<table class=\"simpletable\">\n",
        "<caption>OLS Regression Results</caption>\n",
        "<tr>\n",
        "  <th>Dep. Variable:</th>    <td>interest_rate_quarter</td> <th>  R-squared:         </th> <td>   0.988</td>\n",
        "</tr>\n",
        "<tr>\n",
        "  <th>Model:</th>                     <td>OLS</td>          <th>  Adj. R-squared:    </th> <td>   0.987</td>\n",
        "</tr>\n",
        "<tr>\n",
        "  <th>Method:</th>               <td>Least Squares</td>     <th>  F-statistic:       </th> <td>   1018.</td>\n",
        "</tr>\n",
        "<tr>\n",
        "  <th>Date:</th>               <td>Tue, 03 Jun 2014</td>    <th>  Prob (F-statistic):</th> <td>2.30e-57</td>\n",
        "</tr>\n",
        "<tr>\n",
        "  <th>Time:</th>                   <td>09:50:02</td>        <th>  Log-Likelihood:    </th> <td> -86.885</td>\n",
        "</tr>\n",
        "<tr>\n",
        "  <th>No. Observations:</th>        <td>    66</td>         <th>  AIC:               </th> <td>   183.8</td>\n",
        "</tr>\n",
        "<tr>\n",
        "  <th>Df Residuals:</th>            <td>    61</td>         <th>  BIC:               </th> <td>   194.7</td>\n",
        "</tr>\n",
        "<tr>\n",
        "  <th>Df Model:</th>                <td>     5</td>         <th>                     </th>     <td> </td>   \n",
        "</tr>\n",
        "</table>\n",
        "<table class=\"simpletable\">\n",
        "<tr>\n",
        "              <td></td>                <th>coef</th>     <th>std err</th>      <th>t</th>      <th>P>|t|</th> <th>[95.0% Conf. Int.]</th> \n",
        "</tr>\n",
        "<tr>\n",
        "  <th>gdp</th>                      <td> 8.643e-07</td> <td> 2.91e-06</td> <td>    0.298</td> <td> 0.767</td> <td>-4.94e-06  6.67e-06</td>\n",
        "</tr>\n",
        "<tr>\n",
        "  <th>adj_inf</th>                  <td>    0.1110</td> <td>    0.097</td> <td>    1.149</td> <td> 0.255</td> <td>   -0.082     0.304</td>\n",
        "</tr>\n",
        "<tr>\n",
        "  <th>ir_lag1</th>                  <td>    0.9680</td> <td>    0.027</td> <td>   35.891</td> <td> 0.000</td> <td>    0.914     1.022</td>\n",
        "</tr>\n",
        "<tr>\n",
        "  <th>unemp_rate_quarter_lag_1</th> <td>   -0.1068</td> <td>    0.153</td> <td>   -0.700</td> <td> 0.487</td> <td>   -0.412     0.198</td>\n",
        "</tr>\n",
        "<tr>\n",
        "  <th>unemp_rate_quarter_lag_2</th> <td>    0.1129</td> <td>    0.151</td> <td>    0.746</td> <td> 0.459</td> <td>   -0.190     0.416</td>\n",
        "</tr>\n",
        "</table>\n",
        "<table class=\"simpletable\">\n",
        "<tr>\n",
        "  <th>Omnibus:</th>       <td>29.930</td> <th>  Durbin-Watson:     </th> <td>   1.601</td>\n",
        "</tr>\n",
        "<tr>\n",
        "  <th>Prob(Omnibus):</th> <td> 0.000</td> <th>  Jarque-Bera (JB):  </th> <td>  84.935</td>\n",
        "</tr>\n",
        "<tr>\n",
        "  <th>Skew:</th>          <td> 1.318</td> <th>  Prob(JB):          </th> <td>3.60e-19</td>\n",
        "</tr>\n",
        "<tr>\n",
        "  <th>Kurtosis:</th>      <td> 7.892</td> <th>  Cond. No.          </th> <td>2.71e+05</td>\n",
        "</tr>\n",
        "</table>"
       ],
       "metadata": {},
       "output_type": "pyout",
       "prompt_number": 149,
       "text": [
        "<class 'statsmodels.iolib.summary.Summary'>\n",
        "\"\"\"\n",
        "                              OLS Regression Results                             \n",
        "=================================================================================\n",
        "Dep. Variable:     interest_rate_quarter   R-squared:                       0.988\n",
        "Model:                               OLS   Adj. R-squared:                  0.987\n",
        "Method:                    Least Squares   F-statistic:                     1018.\n",
        "Date:                   Tue, 03 Jun 2014   Prob (F-statistic):           2.30e-57\n",
        "Time:                           09:50:02   Log-Likelihood:                -86.885\n",
        "No. Observations:                     66   AIC:                             183.8\n",
        "Df Residuals:                         61   BIC:                             194.7\n",
        "Df Model:                              5                                         \n",
        "============================================================================================\n",
        "                               coef    std err          t      P>|t|      [95.0% Conf. Int.]\n",
        "--------------------------------------------------------------------------------------------\n",
        "gdp                       8.643e-07   2.91e-06      0.298      0.767     -4.94e-06  6.67e-06\n",
        "adj_inf                      0.1110      0.097      1.149      0.255        -0.082     0.304\n",
        "ir_lag1                      0.9680      0.027     35.891      0.000         0.914     1.022\n",
        "unemp_rate_quarter_lag_1    -0.1068      0.153     -0.700      0.487        -0.412     0.198\n",
        "unemp_rate_quarter_lag_2     0.1129      0.151      0.746      0.459        -0.190     0.416\n",
        "==============================================================================\n",
        "Omnibus:                       29.930   Durbin-Watson:                   1.601\n",
        "Prob(Omnibus):                  0.000   Jarque-Bera (JB):               84.935\n",
        "Skew:                           1.318   Prob(JB):                     3.60e-19\n",
        "Kurtosis:                       7.892   Cond. No.                     2.71e+05\n",
        "==============================================================================\n",
        "\n",
        "Warnings:\n",
        "[1] The condition number is large, 2.71e+05. This might indicate that there are\n",
        "strong multicollinearity or other numerical problems.\n",
        "\"\"\""
       ]
      }
     ],
     "prompt_number": 149
    },
    {
     "cell_type": "heading",
     "level": 4,
     "metadata": {},
     "source": [
      "Thoughts:"
     ]
    },
    {
     "cell_type": "heading",
     "level": 4,
     "metadata": {},
     "source": [
      "1. There is a difference between the Static model and the Dynamic model? significance level?, estimators? R_sqr? F-test?"
     ]
    },
    {
     "cell_type": "markdown",
     "metadata": {},
     "source": [
      "Yes there is a substantial difference between the static model and the dynamic model. The dynamic model shows much higher statistical accuracy than the static model, which doesn't take into account previous rate-setting policy decisions."
     ]
    },
    {
     "cell_type": "heading",
     "level": 4,
     "metadata": {},
     "source": [
      "2. Which model seems to be more reasonable to use? Why? What about the assumptions in each models? (Believe/not)"
     ]
    },
    {
     "cell_type": "markdown",
     "metadata": {},
     "source": [
      "The dynamic model improves most with the addition of a lagged variable for the target interest rate. For example, the R-squared value increases by ~ .35 when a lagged variable is added for interest rate. This makes sense because monetary policy decisions must be made on the basis of previous rate-setting policy."
     ]
    },
    {
     "cell_type": "heading",
     "level": 4,
     "metadata": {},
     "source": [
      "3. Now try to predict y_hat for both of the models, calculate the differance in absolut values between the two predictions of the models"
     ]
    },
    {
     "cell_type": "heading",
     "level": 4,
     "metadata": {},
     "source": [
      "4. What do you see? (which model give better results condition on our previous thoughts?)"
     ]
    },
    {
     "cell_type": "heading",
     "level": 4,
     "metadata": {},
     "source": [
      "5. Can you think about other factors that might be imporant but we do not observe in our data set?"
     ]
    },
    {
     "cell_type": "heading",
     "level": 3,
     "metadata": {},
     "source": [
      "Improving the Model - "
     ]
    },
    {
     "cell_type": "heading",
     "level": 4,
     "metadata": {},
     "source": [
      "1. Run the same model with the lags(2-3) for all variables (including y), and control for the year/quarter:"
     ]
    },
    {
     "cell_type": "heading",
     "level": 4,
     "metadata": {},
     "source": [
      "3. Plot (i) the prediction from the first static model (ii) the predictions from the latest dynamic model you ran and (iii) the real data"
     ]
    },
    {
     "cell_type": "heading",
     "level": 4,
     "metadata": {},
     "source": [
      "4. Which model is the better?"
     ]
    },
    {
     "cell_type": "heading",
     "level": 4,
     "metadata": {},
     "source": [
      "Do you see any seasonal trends in the data over the time horizon?"
     ]
    },
    {
     "cell_type": "heading",
     "level": 2,
     "metadata": {},
     "source": [
      "Seasonality - "
     ]
    },
    {
     "cell_type": "heading",
     "level": 4,
     "metadata": {},
     "source": [
      "I already created for you output_gad gdp cleaned of seasonality (I basically used the second strategy) - the variable output_gdp_seas"
     ]
    },
    {
     "cell_type": "heading",
     "level": 4,
     "metadata": {},
     "source": [
      "Run the model with this variable instead of the original one, also - try to control for more variables that you have (use summary statistics in order to explore what you have), be creative!"
     ]
    },
    {
     "cell_type": "code",
     "collapsed": false,
     "input": [],
     "language": "python",
     "metadata": {},
     "outputs": [],
     "prompt_number": 0
    },
    {
     "cell_type": "heading",
     "level": 4,
     "metadata": {},
     "source": [
      "Plot the results between this upgraded model and the static model: Which one is better?"
     ]
    },
    {
     "cell_type": "code",
     "collapsed": false,
     "input": [],
     "language": "python",
     "metadata": {},
     "outputs": [],
     "prompt_number": 0
    },
    {
     "cell_type": "code",
     "collapsed": false,
     "input": [],
     "language": "python",
     "metadata": {},
     "outputs": [],
     "prompt_number": 0
    },
    {
     "cell_type": "heading",
     "level": 4,
     "metadata": {},
     "source": [
      "Better results? significance ? Is Seasonality important here (what about the p-value of this variable vs. the regular output_gdp)?"
     ]
    },
    {
     "cell_type": "heading",
     "level": 2,
     "metadata": {},
     "source": [
      "Instrumental Variable - HomeWork"
     ]
    },
    {
     "cell_type": "heading",
     "level": 4,
     "metadata": {},
     "source": [
      "It is known that output_gds today is highly correlated with some un-observed features factors that we do not control for (we just do not have the data). Since output_gdp today is correalted with the error term - bias estimators."
     ]
    },
    {
     "cell_type": "heading",
     "level": 4,
     "metadata": {},
     "source": [
      "Let's try to used the lag effect of the output_gdp (_1 _2) as an IV variables for predicting the interet rate"
     ]
    },
    {
     "cell_type": "heading",
     "level": 4,
     "metadata": {},
     "source": [
      "IV Validations - "
     ]
    },
    {
     "cell_type": "heading",
     "level": 4,
     "metadata": {},
     "source": [
      "1. Write down the two conditions for a good IV variables. Calculate them (trick!)"
     ]
    },
    {
     "cell_type": "heading",
     "level": 4,
     "metadata": {},
     "source": [
      "2. Run a 2SLS model with the IV variable (read the documentation for the model )"
     ]
    },
    {
     "cell_type": "heading",
     "level": 4,
     "metadata": {},
     "source": [
      "http://pysal.readthedocs.org/en/latest/library/spreg/diagnostics_tsls.html"
     ]
    },
    {
     "cell_type": "heading",
     "level": 4,
     "metadata": {},
     "source": [
      "3. Is the IV variable is signficant? What do you think about the result in this model? "
     ]
    },
    {
     "cell_type": "heading",
     "level": 4,
     "metadata": {},
     "source": [
      "4. Predict y_hat for this (2SLS) model"
     ]
    },
    {
     "cell_type": "heading",
     "level": 4,
     "metadata": {},
     "source": [
      "5. Plot the three models: (1) 2SLS, (2) Static Model, (3) Dynamic model (choose one), (4) Real Data"
     ]
    },
    {
     "cell_type": "heading",
     "level": 4,
     "metadata": {},
     "source": [
      "6. Which model is closer to the real data?"
     ]
    },
    {
     "cell_type": "heading",
     "level": 4,
     "metadata": {},
     "source": [
      "Well-Done!"
     ]
    },
    {
     "cell_type": "code",
     "collapsed": false,
     "input": [],
     "language": "python",
     "metadata": {},
     "outputs": [],
     "prompt_number": 0
    },
    {
     "cell_type": "code",
     "collapsed": false,
     "input": [],
     "language": "python",
     "metadata": {},
     "outputs": []
    }
   ],
   "metadata": {}
  }
 ]
}